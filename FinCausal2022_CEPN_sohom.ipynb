{
  "nbformat": 4,
  "nbformat_minor": 0,
  "metadata": {
    "colab": {
      "name": "FinCausal2022_CEPN_sohom.ipynb",
      "provenance": [],
      "collapsed_sections": [
        "E_sh7q9Lzh1C"
      ],
      "authorship_tag": "ABX9TyMu6yRpaAelL5H1tXZe5T5L",
      "include_colab_link": true
    },
    "kernelspec": {
      "name": "python3",
      "display_name": "Python 3"
    },
    "language_info": {
      "name": "python"
    },
    "accelerator": "GPU"
  },
  "cells": [
    {
      "cell_type": "markdown",
      "metadata": {
        "id": "view-in-github",
        "colab_type": "text"
      },
      "source": [
        "<a href=\"https://colab.research.google.com/github/sohomghosh/CEPN/blob/main/FinCausal2022_CEPN_sohom.ipynb\" target=\"_parent\"><img src=\"https://colab.research.google.com/assets/colab-badge.svg\" alt=\"Open In Colab\"/></a>"
      ]
    },
    {
      "cell_type": "code",
      "source": [
        "!python --version"
      ],
      "metadata": {
        "colab": {
          "base_uri": "https://localhost:8080/"
        },
        "id": "IjWZTqbwV0WO",
        "outputId": "7793b6ce-0460-4fa8-858e-e89ecd77b500"
      },
      "execution_count": null,
      "outputs": [
        {
          "output_type": "stream",
          "name": "stdout",
          "text": [
            "Python 3.7.13\n"
          ]
        }
      ]
    },
    {
      "cell_type": "code",
      "source": [
        "%%capture\n",
        "!pip install recordclass"
      ],
      "metadata": {
        "id": "tgFQ-oCzDpxg"
      },
      "execution_count": 2,
      "outputs": []
    },
    {
      "cell_type": "code",
      "source": [
        "%%capture\n",
        "!pip install transformers==3.5.0"
      ],
      "metadata": {
        "id": "vBNBQW4_WC3T"
      },
      "execution_count": 3,
      "outputs": []
    },
    {
      "cell_type": "code",
      "source": [
        "%%capture\n",
        "!pip install torch==1.7.1"
      ],
      "metadata": {
        "id": "cX7jUurdKA-m"
      },
      "execution_count": 4,
      "outputs": []
    },
    {
      "cell_type": "code",
      "source": [
        "!git clone https://github.com/nayakt/CEPN.git"
      ],
      "metadata": {
        "colab": {
          "base_uri": "https://localhost:8080/"
        },
        "id": "fLfKrhnIWiZM",
        "outputId": "b5cdf1ef-83b0-4de9-9c56-d5418ac2b84e"
      },
      "execution_count": 5,
      "outputs": [
        {
          "output_type": "stream",
          "name": "stdout",
          "text": [
            "Cloning into 'CEPN'...\n",
            "remote: Enumerating objects: 23, done.\u001b[K\n",
            "remote: Counting objects: 100% (23/23), done.\u001b[K\n",
            "remote: Compressing objects: 100% (17/17), done.\u001b[K\n",
            "remote: Total 23 (delta 11), reused 18 (delta 6), pack-reused 0\u001b[K\n",
            "Unpacking objects: 100% (23/23), done.\n"
          ]
        }
      ]
    },
    {
      "cell_type": "code",
      "source": [
        "%%capture\n",
        "!pip install gdown"
      ],
      "metadata": {
        "id": "0EXfJ37oXJJI"
      },
      "execution_count": 6,
      "outputs": []
    },
    {
      "cell_type": "code",
      "source": [
        "%%capture\n",
        "!gdown --folder https://drive.google.com/drive/folders/1DGmljtCkvNY2PUzZH94G74agPNyMoKPi"
      ],
      "metadata": {
        "id": "xFOySCK6XM6o"
      },
      "execution_count": 7,
      "outputs": []
    },
    {
      "cell_type": "code",
      "source": [
        "!mv  -v CEPN_data/* CEPN"
      ],
      "metadata": {
        "colab": {
          "base_uri": "https://localhost:8080/"
        },
        "id": "LGQZDt9XEbAq",
        "outputId": "6a6c88a3-8bf3-4874-f443-8c0e3925fdee"
      },
      "execution_count": 9,
      "outputs": [
        {
          "output_type": "stream",
          "name": "stdout",
          "text": [
            "renamed 'CEPN_data/FinCausal2020' -> 'CEPN/FinCausal2020'\n",
            "renamed 'CEPN_data/FinCausal2021' -> 'CEPN/FinCausal2021'\n",
            "renamed 'CEPN_data/SemEval' -> 'CEPN/SemEval'\n"
          ]
        }
      ]
    },
    {
      "cell_type": "code",
      "source": [
        "!rm -r CEPN_data"
      ],
      "metadata": {
        "id": "Hek1q7JPFtZa"
      },
      "execution_count": 10,
      "outputs": []
    },
    {
      "cell_type": "code",
      "source": [
        "#!wget https://raw.githubusercontent.com/yseop/YseopLab/develop/FNP_2022_FinCausal/data/practice_addition_fnp2022-fincausal-task2.csv /content/CEPN/FinCausal2021/"
      ],
      "metadata": {
        "id": "9j1hTXFs-urC"
      },
      "execution_count": null,
      "outputs": []
    },
    {
      "cell_type": "code",
      "source": [
        "!mkdir /content/CEPN/FinCausal2020/data/\n",
        "!mkdir /content/CEPN/FinCausal2021/data/"
      ],
      "metadata": {
        "id": "WCVWUMTdEQ8S"
      },
      "execution_count": 11,
      "outputs": []
    },
    {
      "cell_type": "code",
      "source": [
        "!mv /content/CEPN/FinCausal2020/bert_base_cased_train.json /content/CEPN/FinCausal2020/data/bert_base_cased_train.json\n",
        "!mv /content/CEPN/FinCausal2020/bert_large_cased_train.json /content/CEPN/FinCausal2020/data/bert_large_cased_train.json"
      ],
      "metadata": {
        "id": "f016IFEYFA6P"
      },
      "execution_count": 12,
      "outputs": []
    },
    {
      "cell_type": "code",
      "source": [
        "!mv /content/CEPN/FinCausal2021/bert_base_cased_train.json /content/CEPN/FinCausal2021/data/bert_base_cased_train.json\n",
        "!mv /content/CEPN/FinCausal2021/bert_large_cased_train.json /content/CEPN/FinCausal2021/data/bert_large_cased_train.json"
      ],
      "metadata": {
        "id": "cnFhKyPkEZL_"
      },
      "execution_count": 13,
      "outputs": []
    },
    {
      "cell_type": "code",
      "source": [
        "%%capture\n",
        "!wget https://raw.githubusercontent.com/yseop/YseopLab/develop/FNP_2022_FinCausal/data/blind_fnp2022-fincausal-task2.csv -P /content/CEPN/FinCausal2020/data/"
      ],
      "metadata": {
        "id": "ZERJ6eC6Exlc"
      },
      "execution_count": 14,
      "outputs": []
    },
    {
      "cell_type": "code",
      "source": [
        "%%capture\n",
        "!wget https://raw.githubusercontent.com/yseop/YseopLab/develop/FNP_2022_FinCausal/data/blind_fnp2022-fincausal-task2.csv -P /content/CEPN/FinCausal2021/data/"
      ],
      "metadata": {
        "id": "dk94kWZSDsEE"
      },
      "execution_count": 15,
      "outputs": []
    },
    {
      "cell_type": "code",
      "execution_count": 16,
      "metadata": {
        "id": "ZrVZWcauVKGA"
      },
      "outputs": [],
      "source": [
        "import nltk\n",
        "import pandas as pd\n",
        "import numpy as np\n",
        "import transformers\n",
        "import torch\n",
        "import sys\n",
        "import os\n",
        "from google.colab import files\n",
        "sys.path.append('/content/CEPN')\n",
        "os.chdir('/content/CEPN')\n",
        "nltk.download('punkt')\n",
        "nltk.download('averaged_perceptron_tagger')\n",
        "print(transformers.__version__)"
      ]
    },
    {
      "cell_type": "code",
      "source": [
        "%%capture\n",
        "!wget https://raw.githubusercontent.com/sohomghosh/CEPN/main/config_new.ini -P /content/CEPN/"
      ],
      "metadata": {
        "colab": {
          "base_uri": "https://localhost:8080/"
        },
        "id": "TkGxF9BYzkr_",
        "outputId": "07f32a74-057a-4c0d-ff43-dbab40b550fc"
      },
      "execution_count": 21,
      "outputs": [
        {
          "output_type": "stream",
          "name": "stdout",
          "text": [
            "--2022-04-08 08:48:25--  https://raw.githubusercontent.com/sohomghosh/CEPN/main/config_new.ini\n",
            "Resolving raw.githubusercontent.com (raw.githubusercontent.com)... 185.199.108.133, 185.199.109.133, 185.199.110.133, ...\n",
            "Connecting to raw.githubusercontent.com (raw.githubusercontent.com)|185.199.108.133|:443... connected.\n",
            "HTTP request sent, awaiting response... 200 OK\n",
            "Length: 1542 (1.5K) [text/plain]\n",
            "Saving to: ‘/content/CEPN/config_new.ini’\n",
            "\n",
            "\rconfig_new.ini        0%[                    ]       0  --.-KB/s               \rconfig_new.ini      100%[===================>]   1.51K  --.-KB/s    in 0s      \n",
            "\n",
            "2022-04-08 08:48:26 (12.3 MB/s) - ‘/content/CEPN/config_new.ini’ saved [1542/1542]\n",
            "\n"
          ]
        }
      ]
    },
    {
      "cell_type": "code",
      "source": [
        "%%capture\n",
        "!wget https://raw.githubusercontent.com/sohomghosh/CEPN/main/out_file_json_task2_add2022.json -P /content/CEPN/FinCausal2020/data/\n",
        "!wget https://raw.githubusercontent.com/sohomghosh/CEPN/main/out_bert_file_json_task2_add2022.json -P /content/CEPN/FinCausal2020/data/"
      ],
      "metadata": {
        "colab": {
          "base_uri": "https://localhost:8080/"
        },
        "id": "-lUDBe9A01u_",
        "outputId": "813b2480-f28c-439a-d7bc-4d3bd2308645"
      },
      "execution_count": 22,
      "outputs": [
        {
          "output_type": "stream",
          "name": "stdout",
          "text": [
            "--2022-04-08 08:48:26--  https://raw.githubusercontent.com/sohomghosh/CEPN/main/out_file_json_task2_add2022.json\n",
            "Resolving raw.githubusercontent.com (raw.githubusercontent.com)... 185.199.108.133, 185.199.109.133, 185.199.110.133, ...\n",
            "Connecting to raw.githubusercontent.com (raw.githubusercontent.com)|185.199.108.133|:443... connected.\n",
            "HTTP request sent, awaiting response... 200 OK\n",
            "Length: 262373 (256K) [text/plain]\n",
            "Saving to: ‘/content/CEPN/FinCausal2020/data/out_file_json_task2_add2022.json’\n",
            "\n",
            "\r          out_file_   0%[                    ]       0  --.-KB/s               \rout_file_json_task2 100%[===================>] 256.22K  --.-KB/s    in 0.04s   \n",
            "\n",
            "2022-04-08 08:48:26 (6.48 MB/s) - ‘/content/CEPN/FinCausal2020/data/out_file_json_task2_add2022.json’ saved [262373/262373]\n",
            "\n",
            "--2022-04-08 08:48:26--  https://raw.githubusercontent.com/sohomghosh/CEPN/main/out_bert_file_json_task2_add2022.json\n",
            "Resolving raw.githubusercontent.com (raw.githubusercontent.com)... 185.199.108.133, 185.199.109.133, 185.199.110.133, ...\n",
            "Connecting to raw.githubusercontent.com (raw.githubusercontent.com)|185.199.108.133|:443... connected.\n",
            "HTTP request sent, awaiting response... 200 OK\n",
            "Length: 1737063 (1.7M) [text/plain]\n",
            "Saving to: ‘/content/CEPN/FinCausal2020/data/out_bert_file_json_task2_add2022.json’\n",
            "\n",
            "out_bert_file_json_ 100%[===================>]   1.66M  --.-KB/s    in 0.08s   \n",
            "\n",
            "2022-04-08 08:48:26 (21.9 MB/s) - ‘/content/CEPN/FinCausal2020/data/out_bert_file_json_task2_add2022.json’ saved [1737063/1737063]\n",
            "\n"
          ]
        }
      ]
    },
    {
      "cell_type": "code",
      "source": [
        "%%capture\n",
        "!wget https://raw.githubusercontent.com/sohomghosh/CEPN/main/out_file_json_task2_add2022.json -P /content/CEPN/FinCausal2021/data/\n",
        "!wget https://raw.githubusercontent.com/sohomghosh/CEPN/main/out_bert_file_json_task2_add2022.json -P /content/CEPN/FinCausal2021/data/"
      ],
      "metadata": {
        "colab": {
          "base_uri": "https://localhost:8080/"
        },
        "id": "sWhnB-Cz1eMf",
        "outputId": "c26e42bd-d1d2-492e-fd6b-6fbb8176d402"
      },
      "execution_count": 23,
      "outputs": [
        {
          "output_type": "stream",
          "name": "stdout",
          "text": [
            "--2022-04-08 08:48:26--  https://raw.githubusercontent.com/sohomghosh/CEPN/main/out_file_json_task2_add2022.json\n",
            "Resolving raw.githubusercontent.com (raw.githubusercontent.com)... 185.199.108.133, 185.199.110.133, 185.199.109.133, ...\n",
            "Connecting to raw.githubusercontent.com (raw.githubusercontent.com)|185.199.108.133|:443... connected.\n",
            "HTTP request sent, awaiting response... 200 OK\n",
            "Length: 262373 (256K) [text/plain]\n",
            "Saving to: ‘/content/CEPN/FinCausal2021/data/out_file_json_task2_add2022.json’\n",
            "\n",
            "\r          out_file_   0%[                    ]       0  --.-KB/s               \rout_file_json_task2 100%[===================>] 256.22K  --.-KB/s    in 0.03s   \n",
            "\n",
            "2022-04-08 08:48:27 (8.30 MB/s) - ‘/content/CEPN/FinCausal2021/data/out_file_json_task2_add2022.json’ saved [262373/262373]\n",
            "\n",
            "--2022-04-08 08:48:27--  https://raw.githubusercontent.com/sohomghosh/CEPN/main/out_bert_file_json_task2_add2022.json\n",
            "Resolving raw.githubusercontent.com (raw.githubusercontent.com)... 185.199.108.133, 185.199.109.133, 185.199.110.133, ...\n",
            "Connecting to raw.githubusercontent.com (raw.githubusercontent.com)|185.199.108.133|:443... connected.\n",
            "HTTP request sent, awaiting response... 200 OK\n",
            "Length: 1737063 (1.7M) [text/plain]\n",
            "Saving to: ‘/content/CEPN/FinCausal2021/data/out_bert_file_json_task2_add2022.json’\n",
            "\n",
            "out_bert_file_json_ 100%[===================>]   1.66M  --.-KB/s    in 0.06s   \n",
            "\n",
            "2022-04-08 08:48:27 (27.5 MB/s) - ‘/content/CEPN/FinCausal2021/data/out_bert_file_json_task2_add2022.json’ saved [1737063/1737063]\n",
            "\n"
          ]
        }
      ]
    },
    {
      "cell_type": "markdown",
      "source": [
        "# STOP HERE SOHOM"
      ],
      "metadata": {
        "id": "E_sh7q9Lzh1C"
      }
    },
    {
      "cell_type": "code",
      "source": [
        "# Removed the following line \n",
        "# from task2_eval import evaluate_lines, evaluate_span_lines\n",
        "# in data_prep.py"
      ],
      "metadata": {
        "id": "LN7bEkTi_Egu"
      },
      "execution_count": null,
      "outputs": []
    },
    {
      "cell_type": "code",
      "source": [
        "final_data = pd.read_csv('FINCAUSAL_data_all_till2022_dedup_clean.csv')\n",
        "np.random.seed(0)\n",
        "msk = np.random.rand(final_data.shape[0]) < 0.8\n",
        "train = final_data[msk]\n",
        "valid = final_data[~msk]"
      ],
      "metadata": {
        "id": "NPuHxh_6Wa-K"
      },
      "execution_count": null,
      "outputs": []
    },
    {
      "cell_type": "code",
      "source": [
        "# Need to format 2022 data like previous years i.e. it should have six/seven columns instead of just index, text, cause & effect"
      ],
      "metadata": {
        "id": "Iz71rAovBIbn"
      },
      "execution_count": null,
      "outputs": []
    },
    {
      "cell_type": "code",
      "source": [
        "!python cepn.py FinCausal2021 config.ini target_dir_2021 train5fold"
      ],
      "metadata": {
        "id": "qA3EjdZEAaC5"
      },
      "execution_count": null,
      "outputs": []
    },
    {
      "cell_type": "code",
      "source": [
        "# NOTE: \n",
        "# running cepn.py in train5fold mode will do the evaluation for the 5 fold cross validation set\n"
      ],
      "metadata": {
        "id": "znkZ0TXcDkGx"
      },
      "execution_count": null,
      "outputs": []
    },
    {
      "cell_type": "code",
      "source": [
        "# Upload config_new.ini in the CEPN folder\n",
        "!mv /content/config_new.ini /content/CEPN"
      ],
      "metadata": {
        "id": "aFQMegVdHcbO"
      },
      "execution_count": null,
      "outputs": []
    },
    {
      "cell_type": "code",
      "source": [
        "#Getting this error as we need to reformat test_blind.csv to json\n",
        "#In cepn.py handle datatype=3 i.e. testset by modifying the function: get_sample(uid, data, datatype)\n",
        "#testset in json format is expected to have: 'org_sent', 'bert_sent', 'bert_to_org_token_map'  'bert_pointers', 'pos_tags', \n",
        "\n",
        "#'original_causality',\n",
        "\n",
        "#OPTIONAL: 'bert_boundary_tags'\n",
        "#modified_causality"
      ],
      "metadata": {
        "id": "m7JXlReYVL5U"
      },
      "execution_count": null,
      "outputs": []
    },
    {
      "cell_type": "code",
      "source": [
        "# check if config_new.ini has the"
      ],
      "metadata": {
        "id": "l3PM293lp24d"
      },
      "execution_count": null,
      "outputs": []
    },
    {
      "cell_type": "markdown",
      "source": [
        "Need to have a tet set with these columns\n",
        "\n",
        "['org_sent', 'bert_sent', 'pos_tags', 'bert_to_org_token_map', 'original_causality', 'modified_causality', 'bert_pointers']"
      ],
      "metadata": {
        "id": "Fh_Cmg0BMXGj"
      }
    },
    {
      "cell_type": "code",
      "source": [
        "# upload data_prep_test.py\n",
        "# move to CEPN directory"
      ],
      "metadata": {
        "id": "hmwqda3KqB03"
      },
      "execution_count": null,
      "outputs": []
    },
    {
      "cell_type": "code",
      "source": [
        "!mv /content/data_prep_test.py /content/CEPN"
      ],
      "metadata": {
        "id": "SVI2Chk92nwL"
      },
      "execution_count": null,
      "outputs": []
    },
    {
      "cell_type": "code",
      "source": [
        "!python /content/CEPN/data_prep_test.py /content/CEPN/FinCausal2020/data/blind_fnp2022-fincausal-task2.csv /content/CEPN/FinCausal2020/data/out_file_json_task2_add2022.json /content/CEPN/FinCausal2020/data/out_bert_file_json_task2_add2022.json bert-base-cased"
      ],
      "metadata": {
        "colab": {
          "base_uri": "https://localhost:8080/"
        },
        "id": "L6mui-iU2vtv",
        "outputId": "2a026f5f-efbc-442e-cc80-ff9e3722a3e7"
      },
      "execution_count": null,
      "outputs": [
        {
          "output_type": "stream",
          "name": "stdout",
          "text": [
            "933\n",
            "933\n"
          ]
        }
      ]
    },
    {
      "cell_type": "code",
      "source": [
        "!python /content/CEPN/data_prep_test.py /content/CEPN/FinCausal2021/data/blind_fnp2022-fincausal-task2.csv /content/CEPN/FinCausal2021/data/out_file_json_task2_add2022.json /content/CEPN/FinCausal2021/data/out_bert_file_json_task2_add2022.json bert-base-cased"
      ],
      "metadata": {
        "colab": {
          "base_uri": "https://localhost:8080/"
        },
        "id": "fSybPFhw4-uw",
        "outputId": "132017fb-13a5-4837-c826-6e702600ec70"
      },
      "execution_count": null,
      "outputs": [
        {
          "output_type": "stream",
          "name": "stdout",
          "text": [
            "933\n",
            "933\n"
          ]
        }
      ]
    },
    {
      "cell_type": "code",
      "source": [
        "# Need to change cepy.py to handle test set"
      ],
      "metadata": {
        "id": "_pJ31bFo9Qoq"
      },
      "execution_count": null,
      "outputs": []
    },
    {
      "cell_type": "code",
      "source": [
        "# Upload new cepn.py"
      ],
      "metadata": {
        "id": "bdtaRpIMZNqC"
      },
      "execution_count": null,
      "outputs": []
    },
    {
      "cell_type": "markdown",
      "source": [
        "# BEGIN HERE SOHOM"
      ],
      "metadata": {
        "id": "pHHPE3dVgL13"
      }
    },
    {
      "cell_type": "code",
      "source": [
        "# Next steps\n",
        "\n",
        "#/done/ # 0) create data_prep.py equivalent for test set to create json files which will be taken as input by the code\n",
        "#/done/ # 0) modify cepn.py to deal with blind test data\n",
        "\n",
        "# 0) format 2022 data like previous years i.e. it should have six/seven columns instead of just index, text, cause & effect; run data_prep.py\n",
        "\n",
        "\n",
        "# 1) score 2022 data with 2021 model by changing config.ini {task2blind.csv} and executing cepn.py -> use 'train' command\n",
        "# 2) score 2022 data with 2020 model by changing config.ini {task2blind.csv} and executing cepn.py -> use 'train' command\n",
        "\n",
        "# 3) Repeat step-1 with configuration large version of BERT\n",
        "# 4) Repeat step-2 with configuration large version of BERT\n",
        "\n",
        "# 3) use cepy.py to train 2021 model with BERT-SEC by changing config.ini and score 2022 data\n",
        "# 4) use cepn.py train 2020 model with BERT-SEC by changing config.ini and score 2022 data\n",
        "\n",
        "# Decide 5,6 on BERT-SEC or Normal BERT based on performance comparison of 1,2,3,4 \n",
        "# 5) format FINCAUSAL_data_all_till2022_dedup_clean.csv as previous format and run data_prep.py followed by cepn.py [Configuration base]\n",
        "# 6) format FINCAUSAL_data_all_till2022_dedup_clean.csv as previous format and run data_prep.py followed by cepn.py [Configuration large]\n",
        "\n",
        "#[LATER] #7) Create a predictor.py file that takes one sentence as input and gives it's output; This will also be helpful for the tool we are about to develop using FinCausal."
      ],
      "metadata": {
        "id": "ahaK9VI_Rd0A"
      },
      "execution_count": null,
      "outputs": []
    },
    {
      "cell_type": "code",
      "source": [
        "%%capture\n",
        "!rm /content/CEPN/cepn.py\n",
        "!wget https://raw.githubusercontent.com/sohomghosh/CEPN/main/cepn.py -P /content/CEPN/"
      ],
      "metadata": {
        "colab": {
          "base_uri": "https://localhost:8080/"
        },
        "id": "j5s1uYtL0ZDh",
        "outputId": "105c6a8e-f096-4b1e-abac-a732af4f895a"
      },
      "execution_count": 48,
      "outputs": [
        {
          "output_type": "stream",
          "name": "stdout",
          "text": [
            "--2022-04-08 11:37:54--  https://raw.githubusercontent.com/sohomghosh/CEPN/main/cepn.py\n",
            "Resolving raw.githubusercontent.com (raw.githubusercontent.com)... 185.199.108.133, 185.199.111.133, 185.199.109.133, ...\n",
            "Connecting to raw.githubusercontent.com (raw.githubusercontent.com)|185.199.108.133|:443... connected.\n",
            "HTTP request sent, awaiting response... 200 OK\n",
            "Length: 72657 (71K) [text/plain]\n",
            "Saving to: ‘/content/CEPN/cepn.py’\n",
            "\n",
            "\rcepn.py               0%[                    ]       0  --.-KB/s               \rcepn.py             100%[===================>]  70.95K  --.-KB/s    in 0.01s   \n",
            "\n",
            "2022-04-08 11:37:54 (6.04 MB/s) - ‘/content/CEPN/cepn.py’ saved [72657/72657]\n",
            "\n"
          ]
        }
      ]
    },
    {
      "cell_type": "code",
      "source": [
        "%%capture\n",
        "!wget https://raw.githubusercontent.com/sohomghosh/CEPN/main/config_new.ini -P /content/CEPN/"
      ],
      "metadata": {
        "id": "SAoQykjKRtRX"
      },
      "execution_count": null,
      "outputs": []
    },
    {
      "cell_type": "code",
      "source": [
        "!pwd"
      ],
      "metadata": {
        "colab": {
          "base_uri": "https://localhost:8080/"
        },
        "id": "e8xczYTp3iFf",
        "outputId": "d1e767d1-d954-4894-ef02-5456f1ea3d24"
      },
      "execution_count": 29,
      "outputs": [
        {
          "output_type": "stream",
          "name": "stdout",
          "text": [
            "/content/CEPN\n"
          ]
        }
      ]
    },
    {
      "cell_type": "code",
      "source": [
        "!python cepn.py FinCausal2020 config_new.ini target_dir_2020train_2022evaluate train"
      ],
      "metadata": {
        "id": "j6XLYHy8eD8C",
        "colab": {
          "base_uri": "https://localhost:8080/"
        },
        "outputId": "d9114e58-13c1-416c-d4e7-77651881c0ba"
      },
      "execution_count": null,
      "outputs": [
        {
          "output_type": "stream",
          "name": "stdout",
          "text": [
            "Experiment time:   2022-04-08 11:51:22.912655\n",
            "['cepn.py', 'FinCausal2020', 'config_new.ini', 'target_dir_2020train_2022evaluate', 'train']\n",
            "{'random_seed': '1023', 'bert_model_name': 'bert-base-cased', 'bert_tokenizer_name': 'bert-base-cased', 'bert_hidden_size': '768', 'update_bert': 'True', 'do_lower_case': 'False', 'update_freq': '1', 'att_type': '2', 'use_pos_tags': 'True', 'pos_dim': '32', 'use_char_feature': 'False', 'char_embed_dim': '30', 'char_feature_dim': '30', 'conv_filter_size': '3', 'max_word_len': '25', 'use_orthogonality': 'False', 'generation_order': 'CauseFirst'}\n",
            "{'data_dir': 'FinCausal2020/data', 'train_file': 'bert_base_cased_train.json', 'test_file': 'out_bert_file_json_task2_add2022.json', 'test_file_csv': 'blind_fnp2022-fincausal-task2.csv', 'batch_size': '4', 'num_epoch': '20', 'drop_rate': '0.3', 'max_src_token': '500', 'max_trg_steps': '5', 'dev_percent': '0.2', 'early_stop': '10', 'train_on_full': 'False', 'mfc': '1', 'max_span_percent': '0.8', 'use_cardinality': 'False', 'use_sent_boundary_tag': 'False', 'sent_boundary_tag_dim': '20', 'metric': 'Token_F1'}\n",
            "loading data......\n",
            "Total data:  1549\n",
            "Training data size:  1240\n",
            "Development data size:  309\n",
            "Test data size:  933\n",
            "Training started......\n",
            "Max cardinality:  4\n",
            "Max span:  316\n",
            "310\n",
            "Parameters size:  146097286\n",
            "Seq2SeqModel(\n",
            "  (encoder): Encoder(\n",
            "    (bert_vec): BERT(\n",
            "      (bert): BertModel(\n",
            "        (embeddings): BertEmbeddings(\n",
            "          (word_embeddings): Embedding(28996, 768, padding_idx=0)\n",
            "          (position_embeddings): Embedding(512, 768)\n",
            "          (token_type_embeddings): Embedding(2, 768)\n",
            "          (LayerNorm): LayerNorm((768,), eps=1e-12, elementwise_affine=True)\n",
            "          (dropout): Dropout(p=0.1, inplace=False)\n",
            "        )\n",
            "        (encoder): BertEncoder(\n",
            "          (layer): ModuleList(\n",
            "            (0): BertLayer(\n",
            "              (attention): BertAttention(\n",
            "                (self): BertSelfAttention(\n",
            "                  (query): Linear(in_features=768, out_features=768, bias=True)\n",
            "                  (key): Linear(in_features=768, out_features=768, bias=True)\n",
            "                  (value): Linear(in_features=768, out_features=768, bias=True)\n",
            "                  (dropout): Dropout(p=0.1, inplace=False)\n",
            "                )\n",
            "                (output): BertSelfOutput(\n",
            "                  (dense): Linear(in_features=768, out_features=768, bias=True)\n",
            "                  (LayerNorm): LayerNorm((768,), eps=1e-12, elementwise_affine=True)\n",
            "                  (dropout): Dropout(p=0.1, inplace=False)\n",
            "                )\n",
            "              )\n",
            "              (intermediate): BertIntermediate(\n",
            "                (dense): Linear(in_features=768, out_features=3072, bias=True)\n",
            "              )\n",
            "              (output): BertOutput(\n",
            "                (dense): Linear(in_features=3072, out_features=768, bias=True)\n",
            "                (LayerNorm): LayerNorm((768,), eps=1e-12, elementwise_affine=True)\n",
            "                (dropout): Dropout(p=0.1, inplace=False)\n",
            "              )\n",
            "            )\n",
            "            (1): BertLayer(\n",
            "              (attention): BertAttention(\n",
            "                (self): BertSelfAttention(\n",
            "                  (query): Linear(in_features=768, out_features=768, bias=True)\n",
            "                  (key): Linear(in_features=768, out_features=768, bias=True)\n",
            "                  (value): Linear(in_features=768, out_features=768, bias=True)\n",
            "                  (dropout): Dropout(p=0.1, inplace=False)\n",
            "                )\n",
            "                (output): BertSelfOutput(\n",
            "                  (dense): Linear(in_features=768, out_features=768, bias=True)\n",
            "                  (LayerNorm): LayerNorm((768,), eps=1e-12, elementwise_affine=True)\n",
            "                  (dropout): Dropout(p=0.1, inplace=False)\n",
            "                )\n",
            "              )\n",
            "              (intermediate): BertIntermediate(\n",
            "                (dense): Linear(in_features=768, out_features=3072, bias=True)\n",
            "              )\n",
            "              (output): BertOutput(\n",
            "                (dense): Linear(in_features=3072, out_features=768, bias=True)\n",
            "                (LayerNorm): LayerNorm((768,), eps=1e-12, elementwise_affine=True)\n",
            "                (dropout): Dropout(p=0.1, inplace=False)\n",
            "              )\n",
            "            )\n",
            "            (2): BertLayer(\n",
            "              (attention): BertAttention(\n",
            "                (self): BertSelfAttention(\n",
            "                  (query): Linear(in_features=768, out_features=768, bias=True)\n",
            "                  (key): Linear(in_features=768, out_features=768, bias=True)\n",
            "                  (value): Linear(in_features=768, out_features=768, bias=True)\n",
            "                  (dropout): Dropout(p=0.1, inplace=False)\n",
            "                )\n",
            "                (output): BertSelfOutput(\n",
            "                  (dense): Linear(in_features=768, out_features=768, bias=True)\n",
            "                  (LayerNorm): LayerNorm((768,), eps=1e-12, elementwise_affine=True)\n",
            "                  (dropout): Dropout(p=0.1, inplace=False)\n",
            "                )\n",
            "              )\n",
            "              (intermediate): BertIntermediate(\n",
            "                (dense): Linear(in_features=768, out_features=3072, bias=True)\n",
            "              )\n",
            "              (output): BertOutput(\n",
            "                (dense): Linear(in_features=3072, out_features=768, bias=True)\n",
            "                (LayerNorm): LayerNorm((768,), eps=1e-12, elementwise_affine=True)\n",
            "                (dropout): Dropout(p=0.1, inplace=False)\n",
            "              )\n",
            "            )\n",
            "            (3): BertLayer(\n",
            "              (attention): BertAttention(\n",
            "                (self): BertSelfAttention(\n",
            "                  (query): Linear(in_features=768, out_features=768, bias=True)\n",
            "                  (key): Linear(in_features=768, out_features=768, bias=True)\n",
            "                  (value): Linear(in_features=768, out_features=768, bias=True)\n",
            "                  (dropout): Dropout(p=0.1, inplace=False)\n",
            "                )\n",
            "                (output): BertSelfOutput(\n",
            "                  (dense): Linear(in_features=768, out_features=768, bias=True)\n",
            "                  (LayerNorm): LayerNorm((768,), eps=1e-12, elementwise_affine=True)\n",
            "                  (dropout): Dropout(p=0.1, inplace=False)\n",
            "                )\n",
            "              )\n",
            "              (intermediate): BertIntermediate(\n",
            "                (dense): Linear(in_features=768, out_features=3072, bias=True)\n",
            "              )\n",
            "              (output): BertOutput(\n",
            "                (dense): Linear(in_features=3072, out_features=768, bias=True)\n",
            "                (LayerNorm): LayerNorm((768,), eps=1e-12, elementwise_affine=True)\n",
            "                (dropout): Dropout(p=0.1, inplace=False)\n",
            "              )\n",
            "            )\n",
            "            (4): BertLayer(\n",
            "              (attention): BertAttention(\n",
            "                (self): BertSelfAttention(\n",
            "                  (query): Linear(in_features=768, out_features=768, bias=True)\n",
            "                  (key): Linear(in_features=768, out_features=768, bias=True)\n",
            "                  (value): Linear(in_features=768, out_features=768, bias=True)\n",
            "                  (dropout): Dropout(p=0.1, inplace=False)\n",
            "                )\n",
            "                (output): BertSelfOutput(\n",
            "                  (dense): Linear(in_features=768, out_features=768, bias=True)\n",
            "                  (LayerNorm): LayerNorm((768,), eps=1e-12, elementwise_affine=True)\n",
            "                  (dropout): Dropout(p=0.1, inplace=False)\n",
            "                )\n",
            "              )\n",
            "              (intermediate): BertIntermediate(\n",
            "                (dense): Linear(in_features=768, out_features=3072, bias=True)\n",
            "              )\n",
            "              (output): BertOutput(\n",
            "                (dense): Linear(in_features=3072, out_features=768, bias=True)\n",
            "                (LayerNorm): LayerNorm((768,), eps=1e-12, elementwise_affine=True)\n",
            "                (dropout): Dropout(p=0.1, inplace=False)\n",
            "              )\n",
            "            )\n",
            "            (5): BertLayer(\n",
            "              (attention): BertAttention(\n",
            "                (self): BertSelfAttention(\n",
            "                  (query): Linear(in_features=768, out_features=768, bias=True)\n",
            "                  (key): Linear(in_features=768, out_features=768, bias=True)\n",
            "                  (value): Linear(in_features=768, out_features=768, bias=True)\n",
            "                  (dropout): Dropout(p=0.1, inplace=False)\n",
            "                )\n",
            "                (output): BertSelfOutput(\n",
            "                  (dense): Linear(in_features=768, out_features=768, bias=True)\n",
            "                  (LayerNorm): LayerNorm((768,), eps=1e-12, elementwise_affine=True)\n",
            "                  (dropout): Dropout(p=0.1, inplace=False)\n",
            "                )\n",
            "              )\n",
            "              (intermediate): BertIntermediate(\n",
            "                (dense): Linear(in_features=768, out_features=3072, bias=True)\n",
            "              )\n",
            "              (output): BertOutput(\n",
            "                (dense): Linear(in_features=3072, out_features=768, bias=True)\n",
            "                (LayerNorm): LayerNorm((768,), eps=1e-12, elementwise_affine=True)\n",
            "                (dropout): Dropout(p=0.1, inplace=False)\n",
            "              )\n",
            "            )\n",
            "            (6): BertLayer(\n",
            "              (attention): BertAttention(\n",
            "                (self): BertSelfAttention(\n",
            "                  (query): Linear(in_features=768, out_features=768, bias=True)\n",
            "                  (key): Linear(in_features=768, out_features=768, bias=True)\n",
            "                  (value): Linear(in_features=768, out_features=768, bias=True)\n",
            "                  (dropout): Dropout(p=0.1, inplace=False)\n",
            "                )\n",
            "                (output): BertSelfOutput(\n",
            "                  (dense): Linear(in_features=768, out_features=768, bias=True)\n",
            "                  (LayerNorm): LayerNorm((768,), eps=1e-12, elementwise_affine=True)\n",
            "                  (dropout): Dropout(p=0.1, inplace=False)\n",
            "                )\n",
            "              )\n",
            "              (intermediate): BertIntermediate(\n",
            "                (dense): Linear(in_features=768, out_features=3072, bias=True)\n",
            "              )\n",
            "              (output): BertOutput(\n",
            "                (dense): Linear(in_features=3072, out_features=768, bias=True)\n",
            "                (LayerNorm): LayerNorm((768,), eps=1e-12, elementwise_affine=True)\n",
            "                (dropout): Dropout(p=0.1, inplace=False)\n",
            "              )\n",
            "            )\n",
            "            (7): BertLayer(\n",
            "              (attention): BertAttention(\n",
            "                (self): BertSelfAttention(\n",
            "                  (query): Linear(in_features=768, out_features=768, bias=True)\n",
            "                  (key): Linear(in_features=768, out_features=768, bias=True)\n",
            "                  (value): Linear(in_features=768, out_features=768, bias=True)\n",
            "                  (dropout): Dropout(p=0.1, inplace=False)\n",
            "                )\n",
            "                (output): BertSelfOutput(\n",
            "                  (dense): Linear(in_features=768, out_features=768, bias=True)\n",
            "                  (LayerNorm): LayerNorm((768,), eps=1e-12, elementwise_affine=True)\n",
            "                  (dropout): Dropout(p=0.1, inplace=False)\n",
            "                )\n",
            "              )\n",
            "              (intermediate): BertIntermediate(\n",
            "                (dense): Linear(in_features=768, out_features=3072, bias=True)\n",
            "              )\n",
            "              (output): BertOutput(\n",
            "                (dense): Linear(in_features=3072, out_features=768, bias=True)\n",
            "                (LayerNorm): LayerNorm((768,), eps=1e-12, elementwise_affine=True)\n",
            "                (dropout): Dropout(p=0.1, inplace=False)\n",
            "              )\n",
            "            )\n",
            "            (8): BertLayer(\n",
            "              (attention): BertAttention(\n",
            "                (self): BertSelfAttention(\n",
            "                  (query): Linear(in_features=768, out_features=768, bias=True)\n",
            "                  (key): Linear(in_features=768, out_features=768, bias=True)\n",
            "                  (value): Linear(in_features=768, out_features=768, bias=True)\n",
            "                  (dropout): Dropout(p=0.1, inplace=False)\n",
            "                )\n",
            "                (output): BertSelfOutput(\n",
            "                  (dense): Linear(in_features=768, out_features=768, bias=True)\n",
            "                  (LayerNorm): LayerNorm((768,), eps=1e-12, elementwise_affine=True)\n",
            "                  (dropout): Dropout(p=0.1, inplace=False)\n",
            "                )\n",
            "              )\n",
            "              (intermediate): BertIntermediate(\n",
            "                (dense): Linear(in_features=768, out_features=3072, bias=True)\n",
            "              )\n",
            "              (output): BertOutput(\n",
            "                (dense): Linear(in_features=3072, out_features=768, bias=True)\n",
            "                (LayerNorm): LayerNorm((768,), eps=1e-12, elementwise_affine=True)\n",
            "                (dropout): Dropout(p=0.1, inplace=False)\n",
            "              )\n",
            "            )\n",
            "            (9): BertLayer(\n",
            "              (attention): BertAttention(\n",
            "                (self): BertSelfAttention(\n",
            "                  (query): Linear(in_features=768, out_features=768, bias=True)\n",
            "                  (key): Linear(in_features=768, out_features=768, bias=True)\n",
            "                  (value): Linear(in_features=768, out_features=768, bias=True)\n",
            "                  (dropout): Dropout(p=0.1, inplace=False)\n",
            "                )\n",
            "                (output): BertSelfOutput(\n",
            "                  (dense): Linear(in_features=768, out_features=768, bias=True)\n",
            "                  (LayerNorm): LayerNorm((768,), eps=1e-12, elementwise_affine=True)\n",
            "                  (dropout): Dropout(p=0.1, inplace=False)\n",
            "                )\n",
            "              )\n",
            "              (intermediate): BertIntermediate(\n",
            "                (dense): Linear(in_features=768, out_features=3072, bias=True)\n",
            "              )\n",
            "              (output): BertOutput(\n",
            "                (dense): Linear(in_features=3072, out_features=768, bias=True)\n",
            "                (LayerNorm): LayerNorm((768,), eps=1e-12, elementwise_affine=True)\n",
            "                (dropout): Dropout(p=0.1, inplace=False)\n",
            "              )\n",
            "            )\n",
            "            (10): BertLayer(\n",
            "              (attention): BertAttention(\n",
            "                (self): BertSelfAttention(\n",
            "                  (query): Linear(in_features=768, out_features=768, bias=True)\n",
            "                  (key): Linear(in_features=768, out_features=768, bias=True)\n",
            "                  (value): Linear(in_features=768, out_features=768, bias=True)\n",
            "                  (dropout): Dropout(p=0.1, inplace=False)\n",
            "                )\n",
            "                (output): BertSelfOutput(\n",
            "                  (dense): Linear(in_features=768, out_features=768, bias=True)\n",
            "                  (LayerNorm): LayerNorm((768,), eps=1e-12, elementwise_affine=True)\n",
            "                  (dropout): Dropout(p=0.1, inplace=False)\n",
            "                )\n",
            "              )\n",
            "              (intermediate): BertIntermediate(\n",
            "                (dense): Linear(in_features=768, out_features=3072, bias=True)\n",
            "              )\n",
            "              (output): BertOutput(\n",
            "                (dense): Linear(in_features=3072, out_features=768, bias=True)\n",
            "                (LayerNorm): LayerNorm((768,), eps=1e-12, elementwise_affine=True)\n",
            "                (dropout): Dropout(p=0.1, inplace=False)\n",
            "              )\n",
            "            )\n",
            "            (11): BertLayer(\n",
            "              (attention): BertAttention(\n",
            "                (self): BertSelfAttention(\n",
            "                  (query): Linear(in_features=768, out_features=768, bias=True)\n",
            "                  (key): Linear(in_features=768, out_features=768, bias=True)\n",
            "                  (value): Linear(in_features=768, out_features=768, bias=True)\n",
            "                  (dropout): Dropout(p=0.1, inplace=False)\n",
            "                )\n",
            "                (output): BertSelfOutput(\n",
            "                  (dense): Linear(in_features=768, out_features=768, bias=True)\n",
            "                  (LayerNorm): LayerNorm((768,), eps=1e-12, elementwise_affine=True)\n",
            "                  (dropout): Dropout(p=0.1, inplace=False)\n",
            "                )\n",
            "              )\n",
            "              (intermediate): BertIntermediate(\n",
            "                (dense): Linear(in_features=768, out_features=3072, bias=True)\n",
            "              )\n",
            "              (output): BertOutput(\n",
            "                (dense): Linear(in_features=3072, out_features=768, bias=True)\n",
            "                (LayerNorm): LayerNorm((768,), eps=1e-12, elementwise_affine=True)\n",
            "                (dropout): Dropout(p=0.1, inplace=False)\n",
            "              )\n",
            "            )\n",
            "          )\n",
            "        )\n",
            "        (pooler): BertPooler(\n",
            "          (dense): Linear(in_features=768, out_features=768, bias=True)\n",
            "          (activation): Tanh()\n",
            "        )\n",
            "      )\n",
            "      (dropout): Dropout(p=0.3, inplace=False)\n",
            "    )\n",
            "    (pos_embeddings): POSEmbeddings(\n",
            "      (embeddings): Embedding(44, 32, padding_idx=0)\n",
            "      (dropout): Dropout(p=0.3, inplace=False)\n",
            "    )\n",
            "    (dropout): Dropout(p=0.3, inplace=False)\n",
            "  )\n",
            "  (decoder): Decoder(\n",
            "    (dec_att): Attention(\n",
            "      (linear_ctx): Linear(in_features=800, out_features=800, bias=False)\n",
            "      (linear_query): Linear(in_features=800, out_features=800, bias=True)\n",
            "      (v): Linear(in_features=800, out_features=1, bias=True)\n",
            "    )\n",
            "    (span_att): Attention(\n",
            "      (linear_ctx): Linear(in_features=800, out_features=800, bias=False)\n",
            "      (linear_query): Linear(in_features=3200, out_features=800, bias=True)\n",
            "      (v): Linear(in_features=800, out_features=1, bias=True)\n",
            "    )\n",
            "    (lstm): LSTMCell(4800, 800)\n",
            "    (ap_first_pointer_lstm): LSTM(1600, 400, batch_first=True, bidirectional=True)\n",
            "    (op_second_pointer_lstm): LSTM(2400, 400, batch_first=True, bidirectional=True)\n",
            "    (ap_start_lin): Linear(in_features=800, out_features=1, bias=True)\n",
            "    (ap_end_lin): Linear(in_features=800, out_features=1, bias=True)\n",
            "    (op_start_lin): Linear(in_features=800, out_features=1, bias=True)\n",
            "    (op_end_lin): Linear(in_features=800, out_features=1, bias=True)\n",
            "    (dropout): Dropout(p=0.3, inplace=False)\n",
            "  )\n",
            "  (dropout): Dropout(p=0.3, inplace=False)\n",
            ")\n",
            "AdamW (\n",
            "Parameter Group 0\n",
            "    betas: (0.9, 0.999)\n",
            "    correct_bias: False\n",
            "    eps: 1e-06\n",
            "    lr: 1e-05\n",
            "    weight_decay: 1e-05\n",
            ")\n",
            "Epoch:  1\n",
            "100% 310/310 [04:01<00:00,  1.29it/s]\n",
            "Training loss:  5.406366817412838\n",
            "Cardinality loss:  0.0\n",
            "Training time:  0:04:01.047659\n",
            "\n",
            "Dev Results\n",
            "\n",
            "100% 77/77 [00:25<00:00,  2.97it/s]\n",
            "Prediction time:  0:00:25.883575\n",
            "WARNING:root:get_tokens_sequence \"dea\" discarded\n",
            "Prec.: 0.727\tRec.: 0.718\tToken F1.: 0.721\tEM F1:0.543\n",
            "model saved......\n",
            "\n",
            "\n",
            "\n",
            "Epoch:  2\n",
            "100% 310/310 [04:04<00:00,  1.27it/s]\n",
            "Training loss:  1.9058205712706813\n",
            "Cardinality loss:  0.0\n",
            "Training time:  0:04:04.121651\n",
            "\n",
            "Dev Results\n",
            "\n",
            "100% 77/77 [00:26<00:00,  2.91it/s]\n",
            "Prediction time:  0:00:26.469583\n",
            "WARNING:root:get_tokens_sequence \"dea\" discarded\n",
            "Prec.: 0.794\tRec.: 0.781\tToken F1.: 0.785\tEM F1:0.607\n",
            "model saved......\n",
            "\n",
            "\n",
            "\n",
            "Epoch:  3\n",
            "100% 310/310 [04:03<00:00,  1.27it/s]\n",
            "Training loss:  1.0747269224014975\n",
            "Cardinality loss:  0.0\n",
            "Training time:  0:04:03.944180\n",
            "\n",
            "Dev Results\n",
            "\n",
            "100% 77/77 [00:26<00:00,  2.96it/s]\n",
            "Prediction time:  0:00:26.001584\n",
            "WARNING:root:get_tokens_sequence \"dea\" discarded\n",
            "Prec.: 0.816\tRec.: 0.808\tToken F1.: 0.81\tEM F1:0.686\n",
            "model saved......\n",
            "\n",
            "\n",
            "\n",
            "Epoch:  4\n",
            "100% 310/310 [04:02<00:00,  1.28it/s]\n",
            "Training loss:  0.7112693197544544\n",
            "Cardinality loss:  0.0\n",
            "Training time:  0:04:02.280222\n",
            "\n",
            "Dev Results\n",
            "\n",
            "100% 77/77 [00:25<00:00,  2.97it/s]\n",
            "Prediction time:  0:00:25.916344\n",
            "WARNING:root:get_tokens_sequence \"dea\" discarded\n",
            "Prec.: 0.808\tRec.: 0.797\tToken F1.: 0.8\tEM F1:0.672\n",
            "\n",
            "\n",
            "\n",
            "Epoch:  5\n",
            "100% 310/310 [04:00<00:00,  1.29it/s]\n",
            "Training loss:  0.5107728817410047\n",
            "Cardinality loss:  0.0\n",
            "Training time:  0:04:00.730087\n",
            "\n",
            "Dev Results\n",
            "\n",
            "100% 77/77 [00:25<00:00,  2.97it/s]\n",
            "Prediction time:  0:00:25.961902\n",
            "WARNING:root:get_tokens_sequence \"dea\" discarded\n",
            "Prec.: 0.816\tRec.: 0.801\tToken F1.: 0.805\tEM F1:0.666\n",
            "\n",
            "\n",
            "\n",
            "Epoch:  6\n",
            "100% 310/310 [04:00<00:00,  1.29it/s]\n",
            "Training loss:  0.42701502198413493\n",
            "Cardinality loss:  0.0\n",
            "Training time:  0:04:00.129913\n",
            "\n",
            "Dev Results\n",
            "\n",
            "100% 77/77 [00:25<00:00,  2.97it/s]\n",
            "Prediction time:  0:00:25.946336\n",
            "WARNING:root:get_tokens_sequence \"dea\" discarded\n",
            "Prec.: 0.821\tRec.: 0.805\tToken F1.: 0.81\tEM F1:0.669\n",
            "\n",
            "\n",
            "\n",
            "Epoch:  7\n",
            "100% 310/310 [03:58<00:00,  1.30it/s]\n",
            "Training loss:  0.3342505591410783\n",
            "Cardinality loss:  0.0\n",
            "Training time:  0:03:58.624649\n",
            "\n",
            "Dev Results\n",
            "\n",
            "100% 77/77 [00:25<00:00,  2.96it/s]\n",
            "Prediction time:  0:00:25.991799\n",
            "WARNING:root:get_tokens_sequence \"dea\" discarded\n",
            "Prec.: 0.825\tRec.: 0.819\tToken F1.: 0.821\tEM F1:0.695\n",
            "model saved......\n",
            "\n",
            "\n",
            "\n",
            "Epoch:  8\n",
            "100% 310/310 [04:01<00:00,  1.29it/s]\n",
            "Training loss:  0.31273646838662605\n",
            "Cardinality loss:  0.0\n",
            "Training time:  0:04:01.054231\n",
            "\n",
            "Dev Results\n",
            "\n",
            "100% 77/77 [00:25<00:00,  2.96it/s]\n",
            "Prediction time:  0:00:25.971383\n",
            "WARNING:root:get_tokens_sequence \"dea\" discarded\n",
            "Prec.: 0.808\tRec.: 0.8\tToken F1.: 0.802\tEM F1:0.686\n",
            "\n",
            "\n",
            "\n",
            "Epoch:  9\n",
            "100% 310/310 [04:03<00:00,  1.27it/s]\n",
            "Training loss:  0.2537554537637099\n",
            "Cardinality loss:  0.0\n",
            "Training time:  0:04:03.274751\n",
            "\n",
            "Dev Results\n",
            "\n",
            "100% 77/77 [00:26<00:00,  2.96it/s]\n",
            "Prediction time:  0:00:26.002148\n",
            "WARNING:root:get_tokens_sequence \"dea\" discarded\n",
            "Prec.: 0.811\tRec.: 0.799\tToken F1.: 0.802\tEM F1:0.674\n",
            "\n",
            "\n",
            "\n",
            "Epoch:  10\n",
            "100% 310/310 [03:58<00:00,  1.30it/s]\n",
            "Training loss:  0.20716653153780967\n",
            "Cardinality loss:  0.0\n",
            "Training time:  0:03:58.314949\n",
            "\n",
            "Dev Results\n",
            "\n",
            "100% 77/77 [00:25<00:00,  2.98it/s]\n",
            "Prediction time:  0:00:25.873157\n",
            "WARNING:root:get_tokens_sequence \"dea\" discarded\n",
            "Prec.: 0.825\tRec.: 0.813\tToken F1.: 0.816\tEM F1:0.68\n",
            "\n",
            "\n",
            "\n",
            "Epoch:  11\n",
            "100% 310/310 [04:01<00:00,  1.28it/s]\n",
            "Training loss:  0.16388768868731154\n",
            "Cardinality loss:  0.0\n",
            "Training time:  0:04:01.274017\n",
            "\n",
            "Dev Results\n",
            "\n",
            "100% 77/77 [00:25<00:00,  2.97it/s]\n",
            "Prediction time:  0:00:25.904513\n",
            "WARNING:root:get_tokens_sequence \"dea\" discarded\n",
            "Prec.: 0.818\tRec.: 0.811\tToken F1.: 0.813\tEM F1:0.672\n",
            "\n",
            "\n",
            "\n",
            "Epoch:  12\n",
            "100% 310/310 [04:01<00:00,  1.28it/s]\n",
            "Training loss:  0.1450837268159845\n",
            "Cardinality loss:  0.0\n",
            "Training time:  0:04:01.701731\n",
            "\n",
            "Dev Results\n",
            "\n",
            "100% 77/77 [00:25<00:00,  2.97it/s]\n",
            "Prediction time:  0:00:25.940938\n",
            "WARNING:root:get_tokens_sequence \"dea\" discarded\n",
            "Prec.: 0.816\tRec.: 0.808\tToken F1.: 0.81\tEM F1:0.689\n",
            "\n",
            "\n",
            "\n",
            "Epoch:  13\n",
            "100% 310/310 [03:59<00:00,  1.30it/s]\n",
            "Training loss:  0.11503293462991414\n",
            "Cardinality loss:  0.0\n",
            "Training time:  0:03:59.279028\n",
            "\n",
            "Dev Results\n",
            "\n",
            "100% 77/77 [00:25<00:00,  2.96it/s]\n",
            "Prediction time:  0:00:25.978119\n",
            "WARNING:root:get_tokens_sequence \"dea\" discarded\n",
            "Prec.: 0.817\tRec.: 0.809\tToken F1.: 0.811\tEM F1:0.674\n",
            "\n",
            "\n",
            "\n",
            "Epoch:  14\n",
            "100% 310/310 [04:02<00:00,  1.28it/s]\n",
            "Training loss:  0.09674780170748672\n",
            "Cardinality loss:  0.0\n",
            "Training time:  0:04:02.348397\n",
            "\n",
            "Dev Results\n",
            "\n",
            "100% 77/77 [00:25<00:00,  2.97it/s]\n",
            "Prediction time:  0:00:25.926719\n",
            "WARNING:root:get_tokens_sequence \"dea\" discarded\n",
            "Prec.: 0.823\tRec.: 0.811\tToken F1.: 0.814\tEM F1:0.68\n",
            "\n",
            "\n",
            "\n",
            "Epoch:  15\n",
            " 34% 105/310 [01:22<02:57,  1.16it/s]"
          ]
        }
      ]
    },
    {
      "cell_type": "code",
      "source": [
        "!zip /content/task2.zip /content/CEPN/target_dir_2020train_2022evaluate/task2.csv"
      ],
      "metadata": {
        "id": "nzCg5xyO2S8H"
      },
      "execution_count": null,
      "outputs": []
    },
    {
      "cell_type": "code",
      "source": [
        "files.download(\"/content/task2.zip\")"
      ],
      "metadata": {
        "id": "PnLQhYa-3A89"
      },
      "execution_count": null,
      "outputs": []
    },
    {
      "cell_type": "code",
      "source": [
        "files.download(\"/content/CEPN/target_dir_2020train_2022evaluate/training.log\")"
      ],
      "metadata": {
        "id": "gMGLLsV1PkP-"
      },
      "execution_count": null,
      "outputs": []
    },
    {
      "cell_type": "code",
      "source": [
        "!zip -r /content/model_2020.zip /content/CEPN/target_dir_2020train_2022evaluate/"
      ],
      "metadata": {
        "id": "qt0gZm-a62eX"
      },
      "execution_count": null,
      "outputs": []
    },
    {
      "cell_type": "code",
      "source": [
        "\n",
        "files.download(\"/content/model_2020.zip\")"
      ],
      "metadata": {
        "id": "BBnT6Jrt7ReO"
      },
      "execution_count": null,
      "outputs": []
    },
    {
      "cell_type": "markdown",
      "source": [
        "# Push this notebook to https://github.com/sohomghosh/CEPN after the competition FinCausal"
      ],
      "metadata": {
        "id": "NglSEtKhgRlV"
      }
    }
  ]
}