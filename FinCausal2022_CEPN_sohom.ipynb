{
  "nbformat": 4,
  "nbformat_minor": 0,
  "metadata": {
    "colab": {
      "name": "FinCausal2022_CEPN_sohom.ipynb",
      "provenance": [],
      "collapsed_sections": [
        "qkkG4Sdxw5Ca"
      ],
      "authorship_tag": "ABX9TyP0IrkFenUsSJFg1IZtxa18",
      "include_colab_link": true
    },
    "kernelspec": {
      "name": "python3",
      "display_name": "Python 3"
    },
    "language_info": {
      "name": "python"
    },
    "accelerator": "GPU"
  },
  "cells": [
    {
      "cell_type": "markdown",
      "metadata": {
        "id": "view-in-github",
        "colab_type": "text"
      },
      "source": [
        "<a href=\"https://colab.research.google.com/github/sohomghosh/CEPN/blob/main/FinCausal2022_CEPN_sohom.ipynb\" target=\"_parent\"><img src=\"https://colab.research.google.com/assets/colab-badge.svg\" alt=\"Open In Colab\"/></a>"
      ]
    },
    {
      "cell_type": "code",
      "source": [
        "!python --version"
      ],
      "metadata": {
        "colab": {
          "base_uri": "https://localhost:8080/"
        },
        "id": "IjWZTqbwV0WO",
        "outputId": "d006ef5c-9cb4-4aa2-94a9-21c0ab96b5c8"
      },
      "execution_count": null,
      "outputs": [
        {
          "output_type": "stream",
          "name": "stdout",
          "text": [
            "Python 3.7.13\n"
          ]
        }
      ]
    },
    {
      "cell_type": "code",
      "source": [
        "%%capture\n",
        "!pip install recordclass"
      ],
      "metadata": {
        "id": "tgFQ-oCzDpxg"
      },
      "execution_count": null,
      "outputs": []
    },
    {
      "cell_type": "code",
      "source": [
        "%%capture\n",
        "!pip install transformers==3.5.0"
      ],
      "metadata": {
        "id": "vBNBQW4_WC3T"
      },
      "execution_count": null,
      "outputs": []
    },
    {
      "cell_type": "code",
      "source": [
        "%%capture\n",
        "!pip install torch==1.7.1"
      ],
      "metadata": {
        "id": "cX7jUurdKA-m"
      },
      "execution_count": null,
      "outputs": []
    },
    {
      "cell_type": "code",
      "source": [
        "!git clone https://github.com/nayakt/CEPN.git"
      ],
      "metadata": {
        "colab": {
          "base_uri": "https://localhost:8080/"
        },
        "id": "fLfKrhnIWiZM",
        "outputId": "d4aa200b-7614-4961-d30d-543ad472a41d"
      },
      "execution_count": 44,
      "outputs": [
        {
          "output_type": "stream",
          "name": "stdout",
          "text": [
            "Cloning into 'CEPN'...\n",
            "remote: Enumerating objects: 23, done.\u001b[K\n",
            "remote: Counting objects: 100% (23/23), done.\u001b[K\n",
            "remote: Compressing objects: 100% (17/17), done.\u001b[K\n",
            "remote: Total 23 (delta 11), reused 18 (delta 6), pack-reused 0\u001b[K\n",
            "Unpacking objects: 100% (23/23), done.\n"
          ]
        }
      ]
    },
    {
      "cell_type": "code",
      "source": [
        "%%capture\n",
        "!pip install gdown"
      ],
      "metadata": {
        "id": "0EXfJ37oXJJI"
      },
      "execution_count": null,
      "outputs": []
    },
    {
      "cell_type": "code",
      "source": [
        "%%capture\n",
        "!gdown --folder https://drive.google.com/drive/folders/1DGmljtCkvNY2PUzZH94G74agPNyMoKPi"
      ],
      "metadata": {
        "id": "xFOySCK6XM6o"
      },
      "execution_count": null,
      "outputs": []
    },
    {
      "cell_type": "code",
      "source": [
        "!mv  -v CEPN_data/* CEPN"
      ],
      "metadata": {
        "colab": {
          "base_uri": "https://localhost:8080/"
        },
        "id": "LGQZDt9XEbAq",
        "outputId": "25a68155-5664-40dd-f6ba-be92c36bb1d0"
      },
      "execution_count": null,
      "outputs": [
        {
          "output_type": "stream",
          "name": "stdout",
          "text": [
            "mv: target 'CEPN' is not a directory\n"
          ]
        }
      ]
    },
    {
      "cell_type": "code",
      "source": [
        "!rm -r CEPN_data"
      ],
      "metadata": {
        "id": "Hek1q7JPFtZa"
      },
      "execution_count": null,
      "outputs": []
    },
    {
      "cell_type": "code",
      "source": [
        "#!wget https://raw.githubusercontent.com/yseop/YseopLab/develop/FNP_2022_FinCausal/data/practice_addition_fnp2022-fincausal-task2.csv /content/CEPN/FinCausal2021/"
      ],
      "metadata": {
        "id": "9j1hTXFs-urC"
      },
      "execution_count": null,
      "outputs": []
    },
    {
      "cell_type": "code",
      "source": [
        "!mkdir /content/CEPN/FinCausal2020/data/\n",
        "!mkdir /content/CEPN/FinCausal2021/data/"
      ],
      "metadata": {
        "id": "WCVWUMTdEQ8S",
        "colab": {
          "base_uri": "https://localhost:8080/"
        },
        "outputId": "142f9f5e-ebf0-4dde-8807-85b871389048"
      },
      "execution_count": null,
      "outputs": [
        {
          "output_type": "stream",
          "name": "stdout",
          "text": [
            "mkdir: cannot create directory ‘/content/CEPN/FinCausal2020/data/’: No such file or directory\n",
            "mkdir: cannot create directory ‘/content/CEPN/FinCausal2021/data/’: No such file or directory\n"
          ]
        }
      ]
    },
    {
      "cell_type": "code",
      "source": [
        "!mv /content/CEPN/FinCausal2020/bert_base_cased_train.json /content/CEPN/FinCausal2020/data/bert_base_cased_train.json\n",
        "!mv /content/CEPN/FinCausal2020/bert_large_cased_train.json /content/CEPN/FinCausal2020/data/bert_large_cased_train.json"
      ],
      "metadata": {
        "id": "f016IFEYFA6P",
        "colab": {
          "base_uri": "https://localhost:8080/"
        },
        "outputId": "6d4d98da-4afa-48e2-f951-4c17e961b949"
      },
      "execution_count": null,
      "outputs": [
        {
          "output_type": "stream",
          "name": "stdout",
          "text": [
            "mv: cannot stat '/content/CEPN/FinCausal2020/bert_base_cased_train.json': No such file or directory\n",
            "mv: cannot stat '/content/CEPN/FinCausal2020/bert_large_cased_train.json': No such file or directory\n"
          ]
        }
      ]
    },
    {
      "cell_type": "code",
      "source": [
        "!mv /content/CEPN/FinCausal2021/bert_base_cased_train.json /content/CEPN/FinCausal2021/data/bert_base_cased_train.json\n",
        "!mv /content/CEPN/FinCausal2021/bert_large_cased_train.json /content/CEPN/FinCausal2021/data/bert_large_cased_train.json"
      ],
      "metadata": {
        "id": "cnFhKyPkEZL_",
        "colab": {
          "base_uri": "https://localhost:8080/"
        },
        "outputId": "4268a07c-4ae8-4417-a7f0-9abe9094dbce"
      },
      "execution_count": null,
      "outputs": [
        {
          "output_type": "stream",
          "name": "stdout",
          "text": [
            "mv: cannot stat '/content/CEPN/FinCausal2021/bert_base_cased_train.json': No such file or directory\n",
            "mv: cannot stat '/content/CEPN/FinCausal2021/bert_large_cased_train.json': No such file or directory\n"
          ]
        }
      ]
    },
    {
      "cell_type": "code",
      "source": [
        "%%capture\n",
        "!wget https://raw.githubusercontent.com/yseop/YseopLab/develop/FNP_2022_FinCausal/data/blind_fnp2022-fincausal-task2.csv -P /content/CEPN/FinCausal2020/data/"
      ],
      "metadata": {
        "id": "ZERJ6eC6Exlc"
      },
      "execution_count": null,
      "outputs": []
    },
    {
      "cell_type": "code",
      "source": [
        "%%capture\n",
        "!wget https://raw.githubusercontent.com/yseop/YseopLab/develop/FNP_2022_FinCausal/data/blind_fnp2022-fincausal-task2.csv -P /content/CEPN/FinCausal2021/data/"
      ],
      "metadata": {
        "id": "dk94kWZSDsEE"
      },
      "execution_count": null,
      "outputs": []
    },
    {
      "cell_type": "code",
      "execution_count": null,
      "metadata": {
        "id": "ZrVZWcauVKGA",
        "colab": {
          "base_uri": "https://localhost:8080/"
        },
        "outputId": "ac7b78a3-c075-4ff6-b7ce-f9e1388e9c60"
      },
      "outputs": [
        {
          "output_type": "stream",
          "name": "stdout",
          "text": [
            "[nltk_data] Downloading package punkt to /root/nltk_data...\n",
            "[nltk_data]   Unzipping tokenizers/punkt.zip.\n",
            "[nltk_data] Downloading package averaged_perceptron_tagger to\n",
            "[nltk_data]     /root/nltk_data...\n",
            "[nltk_data]   Unzipping taggers/averaged_perceptron_tagger.zip.\n",
            "3.5.0\n"
          ]
        }
      ],
      "source": [
        "import nltk\n",
        "import pandas as pd\n",
        "import numpy as np\n",
        "import transformers\n",
        "import torch\n",
        "import sys\n",
        "import os\n",
        "from google.colab import files\n",
        "sys.path.append('/content/CEPN')\n",
        "os.chdir('/content/CEPN')\n",
        "nltk.download('punkt')\n",
        "nltk.download('averaged_perceptron_tagger')\n",
        "print(transformers.__version__)"
      ]
    },
    {
      "cell_type": "code",
      "source": [
        "%%capture\n",
        "!wget https://raw.githubusercontent.com/sohomghosh/CEPN/main/config_new.ini -P /content/CEPN/"
      ],
      "metadata": {
        "id": "TkGxF9BYzkr_"
      },
      "execution_count": null,
      "outputs": []
    },
    {
      "cell_type": "code",
      "source": [
        "%%capture\n",
        "!wget https://raw.githubusercontent.com/sohomghosh/CEPN/main/out_file_json_task2_add2022.json -P /content/CEPN/FinCausal2020/data/\n",
        "!wget https://raw.githubusercontent.com/sohomghosh/CEPN/main/out_bert_file_json_task2_add2022.json -P /content/CEPN/FinCausal2020/data/"
      ],
      "metadata": {
        "id": "-lUDBe9A01u_"
      },
      "execution_count": null,
      "outputs": []
    },
    {
      "cell_type": "code",
      "source": [
        "%%capture\n",
        "!wget https://raw.githubusercontent.com/sohomghosh/CEPN/main/out_file_json_task2_add2022.json -P /content/CEPN/FinCausal2021/data/\n",
        "!wget https://raw.githubusercontent.com/sohomghosh/CEPN/main/out_bert_file_json_task2_add2022.json -P /content/CEPN/FinCausal2021/data/"
      ],
      "metadata": {
        "id": "sWhnB-Cz1eMf"
      },
      "execution_count": null,
      "outputs": []
    },
    {
      "cell_type": "markdown",
      "source": [
        "# STOP HERE SOHOM"
      ],
      "metadata": {
        "id": "E_sh7q9Lzh1C"
      }
    },
    {
      "cell_type": "code",
      "source": [
        "# Removed the following line \n",
        "# from task2_eval import evaluate_lines, evaluate_span_lines\n",
        "# in data_prep.py"
      ],
      "metadata": {
        "id": "LN7bEkTi_Egu"
      },
      "execution_count": null,
      "outputs": []
    },
    {
      "cell_type": "markdown",
      "source": [
        "## Combined all data json file create"
      ],
      "metadata": {
        "id": "pIEdytAdxM-5"
      }
    },
    {
      "cell_type": "code",
      "source": [
        "!wget https://raw.githubusercontent.com/sohomghosh/CEPN/main/FINCAUSAL_data_all_till2022_dedup_clean.csv -P /content/CEPN/"
      ],
      "metadata": {
        "id": "nolAtoB4w-Jk",
        "colab": {
          "base_uri": "https://localhost:8080/"
        },
        "outputId": "5eb3492f-8701-47f8-c833-7df77dfcf1aa"
      },
      "execution_count": null,
      "outputs": [
        {
          "output_type": "stream",
          "name": "stdout",
          "text": [
            "--2022-04-09 05:04:59--  https://raw.githubusercontent.com/sohomghosh/CEPN/main/FINCAUSAL_data_all_till2022_dedup_clean.csv\n",
            "Resolving raw.githubusercontent.com (raw.githubusercontent.com)... 185.199.109.133, 185.199.108.133, 185.199.111.133, ...\n",
            "Connecting to raw.githubusercontent.com (raw.githubusercontent.com)|185.199.109.133|:443... connected.\n",
            "HTTP request sent, awaiting response... 200 OK\n",
            "Length: 1390062 (1.3M) [text/plain]\n",
            "Saving to: ‘/content/CEPN/FINCAUSAL_data_all_till2022_dedup_clean.csv’\n",
            "\n",
            "FINCAUSAL_data_all_ 100%[===================>]   1.33M  --.-KB/s    in 0.07s   \n",
            "\n",
            "2022-04-09 05:05:00 (19.6 MB/s) - ‘/content/CEPN/FINCAUSAL_data_all_till2022_dedup_clean.csv’ saved [1390062/1390062]\n",
            "\n"
          ]
        }
      ]
    },
    {
      "cell_type": "code",
      "source": [
        "final_data = pd.read_csv('FINCAUSAL_data_all_till2022_dedup_clean.csv')\n",
        "final_data\n",
        "#np.random.seed(0)\n",
        "#msk = np.random.rand(final_data.shape[0]) < 0.8\n",
        "#train = final_data[msk]\n",
        "#valid = final_data[~msk]"
      ],
      "metadata": {
        "id": "NPuHxh_6Wa-K",
        "colab": {
          "base_uri": "https://localhost:8080/",
          "height": 423
        },
        "outputId": "43770ce2-fb97-44cd-8748-738598dd12a3"
      },
      "execution_count": null,
      "outputs": [
        {
          "output_type": "execute_result",
          "data": {
            "text/plain": [
              "      index                                               text  \\\n",
              "0         0  The increase in net interest income was due pr...   \n",
              "1         1  NPAs increased $703 million year over year, pr...   \n",
              "2         2  Additional increases in noninterest income wer...   \n",
              "3         3  During 2020, the Company also issued $6.5 bill...   \n",
              "4         4  The significant increases in earnings assets a...   \n",
              "...     ...                                                ...   \n",
              "2805   2805   WisdomTree U.S. Quality Dividend Growth Fund ...   \n",
              "2806   2806   NASDAQ:DGRW traded up $0.32 during trading ho...   \n",
              "2807   2807   Rural Funds Group (RFF) to Issue Interim Divi...   \n",
              "2808   2808   Rural Funds Group (RFF) to Issue Interim Divi...   \n",
              "2809   2809   Shares of Rural Funds Group stock traded down...   \n",
              "\n",
              "                                                  cause  \\\n",
              "0     a $152.9 billion increase in average outstandi...   \n",
              "1     PCI loans that would have been classified as n...   \n",
              "2     higher insurance income driven by improved pro...   \n",
              "3     The increase is due to net income in excess of...   \n",
              "4     the Merger, as well as impacts from the COVID-...   \n",
              "...                                                 ...   \n",
              "2805   WisdomTree U.S. Quality Dividend Growth Fund ...   \n",
              "2806   NASDAQ:DGRW traded up $0.32 during trading ho...   \n",
              "2807   Rural Funds Group (RFF) to Issue Interim Divi...   \n",
              "2808   Rural Funds Group (RFF) to Issue Interim Divi...   \n",
              "2809   Shares of Rural Funds Group stock traded down...   \n",
              "\n",
              "                                                 effect  \n",
              "0                   The increase in net interest income  \n",
              "1            NPAs increased $703 million year over year  \n",
              "2            Additional increases in noninterest income  \n",
              "3     During 2020, the Company also issued $6.5 bill...  \n",
              "4     The significant increases in earnings assets a...  \n",
              "...                                                 ...  \n",
              "2805                   This represents a yield of 2.4%.  \n",
              "2806                                    hitting $44.98.  \n",
              "2807   Stockholders of record on Thursday, October 3...  \n",
              "2808         This represents a dividend yield of 1.33%.  \n",
              "2809                            hitting A$1.73 ($1.22).  \n",
              "\n",
              "[2810 rows x 4 columns]"
            ],
            "text/html": [
              "\n",
              "  <div id=\"df-75ec95ae-8b47-4416-84ec-24ad99da5ebd\">\n",
              "    <div class=\"colab-df-container\">\n",
              "      <div>\n",
              "<style scoped>\n",
              "    .dataframe tbody tr th:only-of-type {\n",
              "        vertical-align: middle;\n",
              "    }\n",
              "\n",
              "    .dataframe tbody tr th {\n",
              "        vertical-align: top;\n",
              "    }\n",
              "\n",
              "    .dataframe thead th {\n",
              "        text-align: right;\n",
              "    }\n",
              "</style>\n",
              "<table border=\"1\" class=\"dataframe\">\n",
              "  <thead>\n",
              "    <tr style=\"text-align: right;\">\n",
              "      <th></th>\n",
              "      <th>index</th>\n",
              "      <th>text</th>\n",
              "      <th>cause</th>\n",
              "      <th>effect</th>\n",
              "    </tr>\n",
              "  </thead>\n",
              "  <tbody>\n",
              "    <tr>\n",
              "      <th>0</th>\n",
              "      <td>0</td>\n",
              "      <td>The increase in net interest income was due pr...</td>\n",
              "      <td>a $152.9 billion increase in average outstandi...</td>\n",
              "      <td>The increase in net interest income</td>\n",
              "    </tr>\n",
              "    <tr>\n",
              "      <th>1</th>\n",
              "      <td>1</td>\n",
              "      <td>NPAs increased $703 million year over year, pr...</td>\n",
              "      <td>PCI loans that would have been classified as n...</td>\n",
              "      <td>NPAs increased $703 million year over year</td>\n",
              "    </tr>\n",
              "    <tr>\n",
              "      <th>2</th>\n",
              "      <td>2</td>\n",
              "      <td>Additional increases in noninterest income wer...</td>\n",
              "      <td>higher insurance income driven by improved pro...</td>\n",
              "      <td>Additional increases in noninterest income</td>\n",
              "    </tr>\n",
              "    <tr>\n",
              "      <th>3</th>\n",
              "      <td>3</td>\n",
              "      <td>During 2020, the Company also issued $6.5 bill...</td>\n",
              "      <td>The increase is due to net income in excess of...</td>\n",
              "      <td>During 2020, the Company also issued $6.5 bill...</td>\n",
              "    </tr>\n",
              "    <tr>\n",
              "      <th>4</th>\n",
              "      <td>4</td>\n",
              "      <td>The significant increases in earnings assets a...</td>\n",
              "      <td>the Merger, as well as impacts from the COVID-...</td>\n",
              "      <td>The significant increases in earnings assets a...</td>\n",
              "    </tr>\n",
              "    <tr>\n",
              "      <th>...</th>\n",
              "      <td>...</td>\n",
              "      <td>...</td>\n",
              "      <td>...</td>\n",
              "      <td>...</td>\n",
              "    </tr>\n",
              "    <tr>\n",
              "      <th>2805</th>\n",
              "      <td>2805</td>\n",
              "      <td>WisdomTree U.S. Quality Dividend Growth Fund ...</td>\n",
              "      <td>WisdomTree U.S. Quality Dividend Growth Fund ...</td>\n",
              "      <td>This represents a yield of 2.4%.</td>\n",
              "    </tr>\n",
              "    <tr>\n",
              "      <th>2806</th>\n",
              "      <td>2806</td>\n",
              "      <td>NASDAQ:DGRW traded up $0.32 during trading ho...</td>\n",
              "      <td>NASDAQ:DGRW traded up $0.32 during trading ho...</td>\n",
              "      <td>hitting $44.98.</td>\n",
              "    </tr>\n",
              "    <tr>\n",
              "      <th>2807</th>\n",
              "      <td>2807</td>\n",
              "      <td>Rural Funds Group (RFF) to Issue Interim Divi...</td>\n",
              "      <td>Rural Funds Group (RFF) to Issue Interim Divi...</td>\n",
              "      <td>Stockholders of record on Thursday, October 3...</td>\n",
              "    </tr>\n",
              "    <tr>\n",
              "      <th>2808</th>\n",
              "      <td>2808</td>\n",
              "      <td>Rural Funds Group (RFF) to Issue Interim Divi...</td>\n",
              "      <td>Rural Funds Group (RFF) to Issue Interim Divi...</td>\n",
              "      <td>This represents a dividend yield of 1.33%.</td>\n",
              "    </tr>\n",
              "    <tr>\n",
              "      <th>2809</th>\n",
              "      <td>2809</td>\n",
              "      <td>Shares of Rural Funds Group stock traded down...</td>\n",
              "      <td>Shares of Rural Funds Group stock traded down...</td>\n",
              "      <td>hitting A$1.73 ($1.22).</td>\n",
              "    </tr>\n",
              "  </tbody>\n",
              "</table>\n",
              "<p>2810 rows × 4 columns</p>\n",
              "</div>\n",
              "      <button class=\"colab-df-convert\" onclick=\"convertToInteractive('df-75ec95ae-8b47-4416-84ec-24ad99da5ebd')\"\n",
              "              title=\"Convert this dataframe to an interactive table.\"\n",
              "              style=\"display:none;\">\n",
              "        \n",
              "  <svg xmlns=\"http://www.w3.org/2000/svg\" height=\"24px\"viewBox=\"0 0 24 24\"\n",
              "       width=\"24px\">\n",
              "    <path d=\"M0 0h24v24H0V0z\" fill=\"none\"/>\n",
              "    <path d=\"M18.56 5.44l.94 2.06.94-2.06 2.06-.94-2.06-.94-.94-2.06-.94 2.06-2.06.94zm-11 1L8.5 8.5l.94-2.06 2.06-.94-2.06-.94L8.5 2.5l-.94 2.06-2.06.94zm10 10l.94 2.06.94-2.06 2.06-.94-2.06-.94-.94-2.06-.94 2.06-2.06.94z\"/><path d=\"M17.41 7.96l-1.37-1.37c-.4-.4-.92-.59-1.43-.59-.52 0-1.04.2-1.43.59L10.3 9.45l-7.72 7.72c-.78.78-.78 2.05 0 2.83L4 21.41c.39.39.9.59 1.41.59.51 0 1.02-.2 1.41-.59l7.78-7.78 2.81-2.81c.8-.78.8-2.07 0-2.86zM5.41 20L4 18.59l7.72-7.72 1.47 1.35L5.41 20z\"/>\n",
              "  </svg>\n",
              "      </button>\n",
              "      \n",
              "  <style>\n",
              "    .colab-df-container {\n",
              "      display:flex;\n",
              "      flex-wrap:wrap;\n",
              "      gap: 12px;\n",
              "    }\n",
              "\n",
              "    .colab-df-convert {\n",
              "      background-color: #E8F0FE;\n",
              "      border: none;\n",
              "      border-radius: 50%;\n",
              "      cursor: pointer;\n",
              "      display: none;\n",
              "      fill: #1967D2;\n",
              "      height: 32px;\n",
              "      padding: 0 0 0 0;\n",
              "      width: 32px;\n",
              "    }\n",
              "\n",
              "    .colab-df-convert:hover {\n",
              "      background-color: #E2EBFA;\n",
              "      box-shadow: 0px 1px 2px rgba(60, 64, 67, 0.3), 0px 1px 3px 1px rgba(60, 64, 67, 0.15);\n",
              "      fill: #174EA6;\n",
              "    }\n",
              "\n",
              "    [theme=dark] .colab-df-convert {\n",
              "      background-color: #3B4455;\n",
              "      fill: #D2E3FC;\n",
              "    }\n",
              "\n",
              "    [theme=dark] .colab-df-convert:hover {\n",
              "      background-color: #434B5C;\n",
              "      box-shadow: 0px 1px 3px 1px rgba(0, 0, 0, 0.15);\n",
              "      filter: drop-shadow(0px 1px 2px rgba(0, 0, 0, 0.3));\n",
              "      fill: #FFFFFF;\n",
              "    }\n",
              "  </style>\n",
              "\n",
              "      <script>\n",
              "        const buttonEl =\n",
              "          document.querySelector('#df-75ec95ae-8b47-4416-84ec-24ad99da5ebd button.colab-df-convert');\n",
              "        buttonEl.style.display =\n",
              "          google.colab.kernel.accessAllowed ? 'block' : 'none';\n",
              "\n",
              "        async function convertToInteractive(key) {\n",
              "          const element = document.querySelector('#df-75ec95ae-8b47-4416-84ec-24ad99da5ebd');\n",
              "          const dataTable =\n",
              "            await google.colab.kernel.invokeFunction('convertToInteractive',\n",
              "                                                     [key], {});\n",
              "          if (!dataTable) return;\n",
              "\n",
              "          const docLinkHtml = 'Like what you see? Visit the ' +\n",
              "            '<a target=\"_blank\" href=https://colab.research.google.com/notebooks/data_table.ipynb>data table notebook</a>'\n",
              "            + ' to learn more about interactive tables.';\n",
              "          element.innerHTML = '';\n",
              "          dataTable['output_type'] = 'display_data';\n",
              "          await google.colab.output.renderOutput(dataTable, element);\n",
              "          const docLink = document.createElement('div');\n",
              "          docLink.innerHTML = docLinkHtml;\n",
              "          element.appendChild(docLink);\n",
              "        }\n",
              "      </script>\n",
              "    </div>\n",
              "  </div>\n",
              "  "
            ]
          },
          "metadata": {},
          "execution_count": 25
        }
      ]
    },
    {
      "cell_type": "code",
      "source": [
        "def returnPosn(x, typ):\n",
        "  try:\n",
        "    posn = x['text'].index(x[typ])\n",
        "  except:\n",
        "    posn = -1\n",
        "  return posn"
      ],
      "metadata": {
        "id": "T02p2BU-9FPl"
      },
      "execution_count": 33,
      "outputs": []
    },
    {
      "cell_type": "code",
      "source": [
        "del final_data['index']"
      ],
      "metadata": {
        "id": "zJhjr-PV6fco"
      },
      "execution_count": null,
      "outputs": []
    },
    {
      "cell_type": "code",
      "source": [
        "final_data['cause_start'] = final_data.apply(lambda x : returnPosn(x, 'cause'), axis = 1)\n",
        "final_data['effect_start'] = final_data.apply(lambda x : returnPosn(x, 'effect'), axis = 1)"
      ],
      "metadata": {
        "id": "Hy3rWCYq63U1"
      },
      "execution_count": 34,
      "outputs": []
    },
    {
      "cell_type": "code",
      "source": [
        "final_data[final_data['cause_start']==-1]"
      ],
      "metadata": {
        "colab": {
          "base_uri": "https://localhost:8080/",
          "height": 156
        },
        "id": "NZjJ9FUm9_L9",
        "outputId": "dd226121-d416-469c-dd61-99b049a3ac61"
      },
      "execution_count": 35,
      "outputs": [
        {
          "output_type": "execute_result",
          "data": {
            "text/plain": [
              "      index                                               text  \\\n",
              "388     388  The decrease in net sales was also driven by s...   \n",
              "2457   2457   Adjusted net income was $81.1M (YoY increase ...   \n",
              "\n",
              "                                                  cause  \\\n",
              "388   softening trends in the Writing business relat...   \n",
              "2457                              YoY increase of 13.7%   \n",
              "\n",
              "                               effect  cause_start  effect_start  \n",
              "388         The decrease in net sales           -1             0  \n",
              "2457   Adjusted net income was $81.1M           -1             0  "
            ],
            "text/html": [
              "\n",
              "  <div id=\"df-7d5297f6-7d9d-41e2-938c-3dcd240587cd\">\n",
              "    <div class=\"colab-df-container\">\n",
              "      <div>\n",
              "<style scoped>\n",
              "    .dataframe tbody tr th:only-of-type {\n",
              "        vertical-align: middle;\n",
              "    }\n",
              "\n",
              "    .dataframe tbody tr th {\n",
              "        vertical-align: top;\n",
              "    }\n",
              "\n",
              "    .dataframe thead th {\n",
              "        text-align: right;\n",
              "    }\n",
              "</style>\n",
              "<table border=\"1\" class=\"dataframe\">\n",
              "  <thead>\n",
              "    <tr style=\"text-align: right;\">\n",
              "      <th></th>\n",
              "      <th>index</th>\n",
              "      <th>text</th>\n",
              "      <th>cause</th>\n",
              "      <th>effect</th>\n",
              "      <th>cause_start</th>\n",
              "      <th>effect_start</th>\n",
              "    </tr>\n",
              "  </thead>\n",
              "  <tbody>\n",
              "    <tr>\n",
              "      <th>388</th>\n",
              "      <td>388</td>\n",
              "      <td>The decrease in net sales was also driven by s...</td>\n",
              "      <td>softening trends in the Writing business relat...</td>\n",
              "      <td>The decrease in net sales</td>\n",
              "      <td>-1</td>\n",
              "      <td>0</td>\n",
              "    </tr>\n",
              "    <tr>\n",
              "      <th>2457</th>\n",
              "      <td>2457</td>\n",
              "      <td>Adjusted net income was $81.1M (YoY increase ...</td>\n",
              "      <td>YoY increase of 13.7%</td>\n",
              "      <td>Adjusted net income was $81.1M</td>\n",
              "      <td>-1</td>\n",
              "      <td>0</td>\n",
              "    </tr>\n",
              "  </tbody>\n",
              "</table>\n",
              "</div>\n",
              "      <button class=\"colab-df-convert\" onclick=\"convertToInteractive('df-7d5297f6-7d9d-41e2-938c-3dcd240587cd')\"\n",
              "              title=\"Convert this dataframe to an interactive table.\"\n",
              "              style=\"display:none;\">\n",
              "        \n",
              "  <svg xmlns=\"http://www.w3.org/2000/svg\" height=\"24px\"viewBox=\"0 0 24 24\"\n",
              "       width=\"24px\">\n",
              "    <path d=\"M0 0h24v24H0V0z\" fill=\"none\"/>\n",
              "    <path d=\"M18.56 5.44l.94 2.06.94-2.06 2.06-.94-2.06-.94-.94-2.06-.94 2.06-2.06.94zm-11 1L8.5 8.5l.94-2.06 2.06-.94-2.06-.94L8.5 2.5l-.94 2.06-2.06.94zm10 10l.94 2.06.94-2.06 2.06-.94-2.06-.94-.94-2.06-.94 2.06-2.06.94z\"/><path d=\"M17.41 7.96l-1.37-1.37c-.4-.4-.92-.59-1.43-.59-.52 0-1.04.2-1.43.59L10.3 9.45l-7.72 7.72c-.78.78-.78 2.05 0 2.83L4 21.41c.39.39.9.59 1.41.59.51 0 1.02-.2 1.41-.59l7.78-7.78 2.81-2.81c.8-.78.8-2.07 0-2.86zM5.41 20L4 18.59l7.72-7.72 1.47 1.35L5.41 20z\"/>\n",
              "  </svg>\n",
              "      </button>\n",
              "      \n",
              "  <style>\n",
              "    .colab-df-container {\n",
              "      display:flex;\n",
              "      flex-wrap:wrap;\n",
              "      gap: 12px;\n",
              "    }\n",
              "\n",
              "    .colab-df-convert {\n",
              "      background-color: #E8F0FE;\n",
              "      border: none;\n",
              "      border-radius: 50%;\n",
              "      cursor: pointer;\n",
              "      display: none;\n",
              "      fill: #1967D2;\n",
              "      height: 32px;\n",
              "      padding: 0 0 0 0;\n",
              "      width: 32px;\n",
              "    }\n",
              "\n",
              "    .colab-df-convert:hover {\n",
              "      background-color: #E2EBFA;\n",
              "      box-shadow: 0px 1px 2px rgba(60, 64, 67, 0.3), 0px 1px 3px 1px rgba(60, 64, 67, 0.15);\n",
              "      fill: #174EA6;\n",
              "    }\n",
              "\n",
              "    [theme=dark] .colab-df-convert {\n",
              "      background-color: #3B4455;\n",
              "      fill: #D2E3FC;\n",
              "    }\n",
              "\n",
              "    [theme=dark] .colab-df-convert:hover {\n",
              "      background-color: #434B5C;\n",
              "      box-shadow: 0px 1px 3px 1px rgba(0, 0, 0, 0.15);\n",
              "      filter: drop-shadow(0px 1px 2px rgba(0, 0, 0, 0.3));\n",
              "      fill: #FFFFFF;\n",
              "    }\n",
              "  </style>\n",
              "\n",
              "      <script>\n",
              "        const buttonEl =\n",
              "          document.querySelector('#df-7d5297f6-7d9d-41e2-938c-3dcd240587cd button.colab-df-convert');\n",
              "        buttonEl.style.display =\n",
              "          google.colab.kernel.accessAllowed ? 'block' : 'none';\n",
              "\n",
              "        async function convertToInteractive(key) {\n",
              "          const element = document.querySelector('#df-7d5297f6-7d9d-41e2-938c-3dcd240587cd');\n",
              "          const dataTable =\n",
              "            await google.colab.kernel.invokeFunction('convertToInteractive',\n",
              "                                                     [key], {});\n",
              "          if (!dataTable) return;\n",
              "\n",
              "          const docLinkHtml = 'Like what you see? Visit the ' +\n",
              "            '<a target=\"_blank\" href=https://colab.research.google.com/notebooks/data_table.ipynb>data table notebook</a>'\n",
              "            + ' to learn more about interactive tables.';\n",
              "          element.innerHTML = '';\n",
              "          dataTable['output_type'] = 'display_data';\n",
              "          await google.colab.output.renderOutput(dataTable, element);\n",
              "          const docLink = document.createElement('div');\n",
              "          docLink.innerHTML = docLinkHtml;\n",
              "          element.appendChild(docLink);\n",
              "        }\n",
              "      </script>\n",
              "    </div>\n",
              "  </div>\n",
              "  "
            ]
          },
          "metadata": {},
          "execution_count": 35
        }
      ]
    },
    {
      "cell_type": "code",
      "source": [
        "final_data[final_data['effect_start']==-1]"
      ],
      "metadata": {
        "colab": {
          "base_uri": "https://localhost:8080/",
          "height": 50
        },
        "id": "fJxl4Ucx-JR_",
        "outputId": "e042d6d0-04f2-44ee-e89f-cec5ec414c91"
      },
      "execution_count": 36,
      "outputs": [
        {
          "output_type": "execute_result",
          "data": {
            "text/plain": [
              "Empty DataFrame\n",
              "Columns: [index, text, cause, effect, cause_start, effect_start]\n",
              "Index: []"
            ],
            "text/html": [
              "\n",
              "  <div id=\"df-38d3c632-5cff-4fde-80ea-ab29169e3a09\">\n",
              "    <div class=\"colab-df-container\">\n",
              "      <div>\n",
              "<style scoped>\n",
              "    .dataframe tbody tr th:only-of-type {\n",
              "        vertical-align: middle;\n",
              "    }\n",
              "\n",
              "    .dataframe tbody tr th {\n",
              "        vertical-align: top;\n",
              "    }\n",
              "\n",
              "    .dataframe thead th {\n",
              "        text-align: right;\n",
              "    }\n",
              "</style>\n",
              "<table border=\"1\" class=\"dataframe\">\n",
              "  <thead>\n",
              "    <tr style=\"text-align: right;\">\n",
              "      <th></th>\n",
              "      <th>index</th>\n",
              "      <th>text</th>\n",
              "      <th>cause</th>\n",
              "      <th>effect</th>\n",
              "      <th>cause_start</th>\n",
              "      <th>effect_start</th>\n",
              "    </tr>\n",
              "  </thead>\n",
              "  <tbody>\n",
              "  </tbody>\n",
              "</table>\n",
              "</div>\n",
              "      <button class=\"colab-df-convert\" onclick=\"convertToInteractive('df-38d3c632-5cff-4fde-80ea-ab29169e3a09')\"\n",
              "              title=\"Convert this dataframe to an interactive table.\"\n",
              "              style=\"display:none;\">\n",
              "        \n",
              "  <svg xmlns=\"http://www.w3.org/2000/svg\" height=\"24px\"viewBox=\"0 0 24 24\"\n",
              "       width=\"24px\">\n",
              "    <path d=\"M0 0h24v24H0V0z\" fill=\"none\"/>\n",
              "    <path d=\"M18.56 5.44l.94 2.06.94-2.06 2.06-.94-2.06-.94-.94-2.06-.94 2.06-2.06.94zm-11 1L8.5 8.5l.94-2.06 2.06-.94-2.06-.94L8.5 2.5l-.94 2.06-2.06.94zm10 10l.94 2.06.94-2.06 2.06-.94-2.06-.94-.94-2.06-.94 2.06-2.06.94z\"/><path d=\"M17.41 7.96l-1.37-1.37c-.4-.4-.92-.59-1.43-.59-.52 0-1.04.2-1.43.59L10.3 9.45l-7.72 7.72c-.78.78-.78 2.05 0 2.83L4 21.41c.39.39.9.59 1.41.59.51 0 1.02-.2 1.41-.59l7.78-7.78 2.81-2.81c.8-.78.8-2.07 0-2.86zM5.41 20L4 18.59l7.72-7.72 1.47 1.35L5.41 20z\"/>\n",
              "  </svg>\n",
              "      </button>\n",
              "      \n",
              "  <style>\n",
              "    .colab-df-container {\n",
              "      display:flex;\n",
              "      flex-wrap:wrap;\n",
              "      gap: 12px;\n",
              "    }\n",
              "\n",
              "    .colab-df-convert {\n",
              "      background-color: #E8F0FE;\n",
              "      border: none;\n",
              "      border-radius: 50%;\n",
              "      cursor: pointer;\n",
              "      display: none;\n",
              "      fill: #1967D2;\n",
              "      height: 32px;\n",
              "      padding: 0 0 0 0;\n",
              "      width: 32px;\n",
              "    }\n",
              "\n",
              "    .colab-df-convert:hover {\n",
              "      background-color: #E2EBFA;\n",
              "      box-shadow: 0px 1px 2px rgba(60, 64, 67, 0.3), 0px 1px 3px 1px rgba(60, 64, 67, 0.15);\n",
              "      fill: #174EA6;\n",
              "    }\n",
              "\n",
              "    [theme=dark] .colab-df-convert {\n",
              "      background-color: #3B4455;\n",
              "      fill: #D2E3FC;\n",
              "    }\n",
              "\n",
              "    [theme=dark] .colab-df-convert:hover {\n",
              "      background-color: #434B5C;\n",
              "      box-shadow: 0px 1px 3px 1px rgba(0, 0, 0, 0.15);\n",
              "      filter: drop-shadow(0px 1px 2px rgba(0, 0, 0, 0.3));\n",
              "      fill: #FFFFFF;\n",
              "    }\n",
              "  </style>\n",
              "\n",
              "      <script>\n",
              "        const buttonEl =\n",
              "          document.querySelector('#df-38d3c632-5cff-4fde-80ea-ab29169e3a09 button.colab-df-convert');\n",
              "        buttonEl.style.display =\n",
              "          google.colab.kernel.accessAllowed ? 'block' : 'none';\n",
              "\n",
              "        async function convertToInteractive(key) {\n",
              "          const element = document.querySelector('#df-38d3c632-5cff-4fde-80ea-ab29169e3a09');\n",
              "          const dataTable =\n",
              "            await google.colab.kernel.invokeFunction('convertToInteractive',\n",
              "                                                     [key], {});\n",
              "          if (!dataTable) return;\n",
              "\n",
              "          const docLinkHtml = 'Like what you see? Visit the ' +\n",
              "            '<a target=\"_blank\" href=https://colab.research.google.com/notebooks/data_table.ipynb>data table notebook</a>'\n",
              "            + ' to learn more about interactive tables.';\n",
              "          element.innerHTML = '';\n",
              "          dataTable['output_type'] = 'display_data';\n",
              "          await google.colab.output.renderOutput(dataTable, element);\n",
              "          const docLink = document.createElement('div');\n",
              "          docLink.innerHTML = docLinkHtml;\n",
              "          element.appendChild(docLink);\n",
              "        }\n",
              "      </script>\n",
              "    </div>\n",
              "  </div>\n",
              "  "
            ]
          },
          "metadata": {},
          "execution_count": 36
        }
      ]
    },
    {
      "cell_type": "code",
      "source": [
        ""
      ],
      "metadata": {
        "id": "JSpC6uqdG3lC"
      },
      "execution_count": null,
      "outputs": []
    },
    {
      "cell_type": "code",
      "source": [
        "for col in ['text', 'cause', 'effect']:\n",
        "  final_data[col] = final_data[col].apply(lambda x : str(x).replace(';', ''))"
      ],
      "metadata": {
        "id": "EQzZP6rB_6Q6"
      },
      "execution_count": 41,
      "outputs": []
    },
    {
      "cell_type": "code",
      "source": [
        "final_data[(final_data['cause_start']!=-1) & (final_data['effect_start']!=-1)].to_csv('FINCAUSAL_data_all_till2022_dedup_clean_formatted.csv', index = False, header = False, sep = ';')"
      ],
      "metadata": {
        "id": "Ml7bJezG-OGh"
      },
      "execution_count": 42,
      "outputs": []
    },
    {
      "cell_type": "code",
      "source": [
        "final_data_use = final_data[(final_data['cause_start']!=-1) & (final_data['effect_start']!=-1)].copy()"
      ],
      "metadata": {
        "id": "bHP6Bz3vG_y4"
      },
      "execution_count": 58,
      "outputs": []
    },
    {
      "cell_type": "code",
      "source": [
        "# Output should be headerless file having columns separated by '; '\n",
        "\n",
        "# 0 is index\n",
        "# sent = parts[1].strip() # text\n",
        "# cause = parts[2].strip() # cause\n",
        "# effect = parts[3].strip() # effect\n",
        "# cause_start = int(float(parts[6].strip()))\n",
        "# effect_start = int(float(parts[8].strip()))"
      ],
      "metadata": {
        "id": "AYgTgOu_z_bY"
      },
      "execution_count": null,
      "outputs": []
    },
    {
      "cell_type": "code",
      "source": [
        "!rm /content/CEPN/data_prep.py\n",
        "!wget https://raw.githubusercontent.com/sohomghosh/CEPN/main/data_prep.py -P /content/CEPN/"
      ],
      "metadata": {
        "colab": {
          "base_uri": "https://localhost:8080/"
        },
        "id": "DiSyfhkuCGK1",
        "outputId": "f46b4702-c4f2-4232-d939-ca78d647ffbf"
      },
      "execution_count": 108,
      "outputs": [
        {
          "output_type": "stream",
          "name": "stdout",
          "text": [
            "--2022-04-09 08:44:11--  https://raw.githubusercontent.com/sohomghosh/CEPN/main/data_prep.py\n",
            "Resolving raw.githubusercontent.com (raw.githubusercontent.com)... 185.199.108.133, 185.199.109.133, 185.199.110.133, ...\n",
            "Connecting to raw.githubusercontent.com (raw.githubusercontent.com)|185.199.108.133|:443... connected.\n",
            "HTTP request sent, awaiting response... 200 OK\n",
            "Length: 6714 (6.6K) [text/plain]\n",
            "Saving to: ‘/content/CEPN/data_prep.py’\n",
            "\n",
            "\rdata_prep.py          0%[                    ]       0  --.-KB/s               \rdata_prep.py        100%[===================>]   6.56K  --.-KB/s    in 0s      \n",
            "\n",
            "2022-04-09 08:44:11 (85.1 MB/s) - ‘/content/CEPN/data_prep.py’ saved [6714/6714]\n",
            "\n"
          ]
        }
      ]
    },
    {
      "cell_type": "code",
      "source": [
        "!rm /content/CEPN/FINCAUSAL_data_all_till2022_dedup_clean_formatted.csv\n",
        "!wget https://raw.githubusercontent.com/sohomghosh/CEPN/main/FINCAUSAL_data_all_till2022_dedup_clean_formatted.csv -P /content/CEPN/"
      ],
      "metadata": {
        "colab": {
          "base_uri": "https://localhost:8080/"
        },
        "id": "srIqs3fnT-nN",
        "outputId": "53028ca5-1afa-4eb5-addc-8c69bb2c7a84"
      },
      "execution_count": 105,
      "outputs": [
        {
          "output_type": "stream",
          "name": "stdout",
          "text": [
            "--2022-04-09 08:36:34--  https://raw.githubusercontent.com/sohomghosh/CEPN/main/FINCAUSAL_data_all_till2022_dedup_clean_formatted.csv\n",
            "Resolving raw.githubusercontent.com (raw.githubusercontent.com)... 185.199.108.133, 185.199.109.133, 185.199.110.133, ...\n",
            "Connecting to raw.githubusercontent.com (raw.githubusercontent.com)|185.199.108.133|:443... connected.\n",
            "HTTP request sent, awaiting response... 200 OK\n",
            "Length: 1395026 (1.3M) [text/plain]\n",
            "Saving to: ‘/content/CEPN/FINCAUSAL_data_all_till2022_dedup_clean_formatted.csv’\n",
            "\n",
            "\r          FINCAUSAL   0%[                    ]       0  --.-KB/s               \rFINCAUSAL_data_all_ 100%[===================>]   1.33M  --.-KB/s    in 0.05s   \n",
            "\n",
            "2022-04-09 08:36:34 (24.5 MB/s) - ‘/content/CEPN/FINCAUSAL_data_all_till2022_dedup_clean_formatted.csv’ saved [1395026/1395026]\n",
            "\n"
          ]
        }
      ]
    },
    {
      "cell_type": "code",
      "source": [
        "!python /content/CEPN/data_prep.py /content/CEPN/FINCAUSAL_data_all_till2022_dedup_clean_formatted.csv /content/CEPN/train_out_file_json_till2022.json /content/CEPN/train_out_bert_file_json_till2022.json bert-base-cased"
      ],
      "metadata": {
        "colab": {
          "base_uri": "https://localhost:8080/"
        },
        "id": "2IWMiVmJA0bQ",
        "outputId": "ae0f17c3-44b6-4ce4-ea8b-aa7727f5605f"
      },
      "execution_count": 109,
      "outputs": [
        {
          "output_type": "stream",
          "name": "stdout",
          "text": [
            "2808\n",
            "index of error is: 129 OrderedDict([(0, 0), (7, 1), (13, 2), (17, 3), (25, 4), (29, 5), (40, 6), (48, 7), (57, 8), (71, 9), (77, 10), (80, 11), (85, 12), (93, 13), (102, 14), (105, 15), (113, 16), (122, 17), (129, 18), (132, 19), (138, 20), (146, 21), (150, 22), (156, 23), (159, 24), (170, 25), (180, 26), (192, 27), (200, 28), (204, 29), (209, 30), (216, 31), (223, 32), (228, 33), (237, 34), (240, 35), (253, 36), (256, 37), (260, 38), (266, 39), (272, 40), (276, 41), (284, 42), (295, 43), (302, 44), (306, 45), (314, 46), (317, 47), (324, 48), (332, 49), (336, 50), (342, 51), (350, 52), (354, 53), (359, 54), (363, 55), (369, 56)]) effect_start: 271 cause_start: 0\n",
            "index of error is: 178 OrderedDict([(0, 0), (4, 1), (10, 2), (18, 3), (33, 4), (42, 5), (45, 6), (55, 7), (60, 8), (65, 9), (69, 10), (79, 11), (86, 12), (89, 13), (93, 14), (113, 15), (127, 16), (130, 17), (135, 18), (144, 19), (147, 20), (154, 21), (160, 22), (168, 23), (177, 24), (180, 25), (190, 26), (203, 27), (212, 28), (217, 29), (220, 30), (225, 31), (234, 32), (237, 33), (242, 34), (248, 35), (253, 36), (261, 37), (270, 38), (273, 39), (282, 40), (290, 41), (299, 42), (306, 43), (311, 44), (320, 45), (323, 46), (337, 47), (344, 48), (349, 49), (355, 50), (363, 51), (372, 52), (375, 53), (389, 54), (392, 55), (396, 56), (406, 57), (414, 58), (422, 59), (429, 60), (439, 61), (443, 62), (451, 63), (456, 64), (464, 65), (472, 66), (480, 67)]) effect_start: 0 cause_start: 103\n",
            "index of error is: 179 OrderedDict([(0, 0), (4, 1), (10, 2), (18, 3), (33, 4), (41, 5), (44, 6), (54, 7), (59, 8), (64, 9), (68, 10), (78, 11), (85, 12), (88, 13), (92, 14), (102, 15), (116, 16), (125, 17), (133, 18), (142, 19), (145, 20), (150, 21), (159, 22), (162, 23), (168, 24), (178, 25), (185, 26), (193, 27), (198, 28), (201, 29), (206, 30), (210, 31), (218, 32), (225, 33), (228, 34), (233, 35), (242, 36), (245, 37), (254, 38), (262, 39), (271, 40), (274, 41), (279, 42), (283, 43), (291, 44), (298, 45), (301, 46), (307, 47), (313, 48), (322, 49), (325, 50), (328, 51), (340, 52), (347, 53), (355, 54), (359, 55), (362, 56), (367, 57), (370, 58), (382, 59), (385, 60), (403, 61), (410, 62), (415, 63), (421, 64), (429, 65), (437, 66), (440, 67), (454, 68), (457, 69), (461, 70), (471, 71), (479, 72), (484, 73), (492, 74), (500, 75), (508, 76), (514, 77), (519, 78), (525, 79), (533, 80), (536, 81), (541, 82), (544, 83), (550, 84), (558, 85), (561, 86), (566, 87), (572, 88), (578, 89), (586, 90), (594, 91), (597, 92), (602, 93), (607, 94), (611, 95), (618, 96), (631, 97), (637, 98), (641, 99), (649, 100), (658, 101), (662, 102), (671, 103), (674, 104), (681, 105), (689, 106), (694, 107), (698, 108), (709, 109), (719, 110), (732, 111), (741, 112), (744, 113), (750, 114), (758, 115), (761, 116), (765, 117), (774, 118), (782, 119), (785, 120), (791, 121), (801, 122), (814, 123), (817, 124)]) effect_start: 0 cause_start: 108\n",
            "index of error is: 412 OrderedDict([(0, 0), (4, 1), (10, 2), (16, 3), (19, 4), (29, 5), (34, 6), (39, 7), (47, 8), (51, 9), (64, 10), (67, 11), (71, 12), (76, 13), (82, 14), (87, 15), (90, 16), (94, 17), (102, 18), (107, 19), (111, 20), (115, 21), (124, 22), (127, 23), (131, 24), (141, 25), (147, 26), (150, 27), (153, 28), (162, 29), (166, 30), (172, 31), (176, 32), (186, 33), (198, 34), (203, 35), (209, 36), (215, 37), (218, 38), (222, 39), (227, 40), (231, 41), (237, 42), (248, 43), (257, 44), (261, 45), (271, 46), (276, 47), (281, 48), (286, 49), (295, 50), (299, 51), (307, 52), (311, 53), (316, 54), (325, 55)]) effect_start: 146 cause_start: 0\n",
            "index of error is: 1770 OrderedDict([(0, 0), (10, 1), (14, 2), (21, 3), (29, 4), (36, 5), (39, 6), (43, 7), (53, 8), (59, 9), (68, 10), (75, 11)]) effect_start: 0 cause_start: 41\n",
            "2525\n",
            "2803\n"
          ]
        }
      ]
    },
    {
      "cell_type": "code",
      "source": [
        "!python /content/CEPN/data_prep.py /content/CEPN/FINCAUSAL_data_all_till2022_dedup_clean_formatted.csv /content/CEPN/train_out_large_file_json_till2022.json /content/CEPN/train_out_bert_large_file_json_till2022.json bert-large-cased"
      ],
      "metadata": {
        "colab": {
          "base_uri": "https://localhost:8080/"
        },
        "id": "ZXsDS6i2gizV",
        "outputId": "95e20bc9-1f5c-4c55-83ae-6db20de6b724"
      },
      "execution_count": 111,
      "outputs": [
        {
          "output_type": "stream",
          "name": "stdout",
          "text": [
            "2808\n",
            "index of error is: 129 OrderedDict([(0, 0), (7, 1), (13, 2), (17, 3), (25, 4), (29, 5), (40, 6), (48, 7), (57, 8), (71, 9), (77, 10), (80, 11), (85, 12), (93, 13), (102, 14), (105, 15), (113, 16), (122, 17), (129, 18), (132, 19), (138, 20), (146, 21), (150, 22), (156, 23), (159, 24), (170, 25), (180, 26), (192, 27), (200, 28), (204, 29), (209, 30), (216, 31), (223, 32), (228, 33), (237, 34), (240, 35), (253, 36), (256, 37), (260, 38), (266, 39), (272, 40), (276, 41), (284, 42), (295, 43), (302, 44), (306, 45), (314, 46), (317, 47), (324, 48), (332, 49), (336, 50), (342, 51), (350, 52), (354, 53), (359, 54), (363, 55), (369, 56)]) effect_start: 271 cause_start: 0\n",
            "index of error is: 178 OrderedDict([(0, 0), (4, 1), (10, 2), (18, 3), (33, 4), (42, 5), (45, 6), (55, 7), (60, 8), (65, 9), (69, 10), (79, 11), (86, 12), (89, 13), (93, 14), (113, 15), (127, 16), (130, 17), (135, 18), (144, 19), (147, 20), (154, 21), (160, 22), (168, 23), (177, 24), (180, 25), (190, 26), (203, 27), (212, 28), (217, 29), (220, 30), (225, 31), (234, 32), (237, 33), (242, 34), (248, 35), (253, 36), (261, 37), (270, 38), (273, 39), (282, 40), (290, 41), (299, 42), (306, 43), (311, 44), (320, 45), (323, 46), (337, 47), (344, 48), (349, 49), (355, 50), (363, 51), (372, 52), (375, 53), (389, 54), (392, 55), (396, 56), (406, 57), (414, 58), (422, 59), (429, 60), (439, 61), (443, 62), (451, 63), (456, 64), (464, 65), (472, 66), (480, 67)]) effect_start: 0 cause_start: 103\n",
            "index of error is: 179 OrderedDict([(0, 0), (4, 1), (10, 2), (18, 3), (33, 4), (41, 5), (44, 6), (54, 7), (59, 8), (64, 9), (68, 10), (78, 11), (85, 12), (88, 13), (92, 14), (102, 15), (116, 16), (125, 17), (133, 18), (142, 19), (145, 20), (150, 21), (159, 22), (162, 23), (168, 24), (178, 25), (185, 26), (193, 27), (198, 28), (201, 29), (206, 30), (210, 31), (218, 32), (225, 33), (228, 34), (233, 35), (242, 36), (245, 37), (254, 38), (262, 39), (271, 40), (274, 41), (279, 42), (283, 43), (291, 44), (298, 45), (301, 46), (307, 47), (313, 48), (322, 49), (325, 50), (328, 51), (340, 52), (347, 53), (355, 54), (359, 55), (362, 56), (367, 57), (370, 58), (382, 59), (385, 60), (403, 61), (410, 62), (415, 63), (421, 64), (429, 65), (437, 66), (440, 67), (454, 68), (457, 69), (461, 70), (471, 71), (479, 72), (484, 73), (492, 74), (500, 75), (508, 76), (514, 77), (519, 78), (525, 79), (533, 80), (536, 81), (541, 82), (544, 83), (550, 84), (558, 85), (561, 86), (566, 87), (572, 88), (578, 89), (586, 90), (594, 91), (597, 92), (602, 93), (607, 94), (611, 95), (618, 96), (631, 97), (637, 98), (641, 99), (649, 100), (658, 101), (662, 102), (671, 103), (674, 104), (681, 105), (689, 106), (694, 107), (698, 108), (709, 109), (719, 110), (732, 111), (741, 112), (744, 113), (750, 114), (758, 115), (761, 116), (765, 117), (774, 118), (782, 119), (785, 120), (791, 121), (801, 122), (814, 123), (817, 124)]) effect_start: 0 cause_start: 108\n",
            "index of error is: 412 OrderedDict([(0, 0), (4, 1), (10, 2), (16, 3), (19, 4), (29, 5), (34, 6), (39, 7), (47, 8), (51, 9), (64, 10), (67, 11), (71, 12), (76, 13), (82, 14), (87, 15), (90, 16), (94, 17), (102, 18), (107, 19), (111, 20), (115, 21), (124, 22), (127, 23), (131, 24), (141, 25), (147, 26), (150, 27), (153, 28), (162, 29), (166, 30), (172, 31), (176, 32), (186, 33), (198, 34), (203, 35), (209, 36), (215, 37), (218, 38), (222, 39), (227, 40), (231, 41), (237, 42), (248, 43), (257, 44), (261, 45), (271, 46), (276, 47), (281, 48), (286, 49), (295, 50), (299, 51), (307, 52), (311, 53), (316, 54), (325, 55)]) effect_start: 146 cause_start: 0\n",
            "index of error is: 1770 OrderedDict([(0, 0), (10, 1), (14, 2), (21, 3), (29, 4), (36, 5), (39, 6), (43, 7), (53, 8), (59, 9), (68, 10), (75, 11)]) effect_start: 0 cause_start: 41\n",
            "2525\n",
            "2803\n",
            "Downloading: 100% 762/762 [00:00<00:00, 689kB/s]\n",
            "Downloading: 100% 213k/213k [00:00<00:00, 3.64MB/s]\n"
          ]
        }
      ]
    },
    {
      "cell_type": "code",
      "source": [
        "final_data_use = pd.read_csv('/content/CEPN/FINCAUSAL_data_all_till2022_dedup_clean_formatted.csv', sep = ';', header = None)"
      ],
      "metadata": {
        "id": "x3GAWmbVUx6d"
      },
      "execution_count": 91,
      "outputs": []
    },
    {
      "cell_type": "code",
      "source": [
        "final_data_use"
      ],
      "metadata": {
        "colab": {
          "base_uri": "https://localhost:8080/",
          "height": 467
        },
        "id": "YTunqdT5VaCr",
        "outputId": "05a4ccc6-a7e6-4cc1-9eb3-4f634a4b6e36"
      },
      "execution_count": 92,
      "outputs": [
        {
          "output_type": "execute_result",
          "data": {
            "text/plain": [
              "         0                                                  1  \\\n",
              "0        0  The increase in net interest income was due pr...   \n",
              "1        1  NPAs increased $703 million year over year, pr...   \n",
              "2        2  Additional increases in noninterest income wer...   \n",
              "3        3  During 2020, the Company also issued $6.5 bill...   \n",
              "4        4  The significant increases in earnings assets a...   \n",
              "...    ...                                                ...   \n",
              "2803  2805   WisdomTree U.S. Quality Dividend Growth Fund ...   \n",
              "2804  2806   NASDAQ:DGRW traded up $0.32 during trading ho...   \n",
              "2805  2807   Rural Funds Group (RFF) to Issue Interim Divi...   \n",
              "2806  2808   Rural Funds Group (RFF) to Issue Interim Divi...   \n",
              "2807  2809   Shares of Rural Funds Group stock traded down...   \n",
              "\n",
              "                                                      2  \\\n",
              "0     a $152.9 billion increase in average outstandi...   \n",
              "1     PCI loans that would have been classified as n...   \n",
              "2     higher insurance income driven by improved pro...   \n",
              "3     The increase is due to net income in excess of...   \n",
              "4     the Merger, as well as impacts from the COVID-...   \n",
              "...                                                 ...   \n",
              "2803   WisdomTree U.S. Quality Dividend Growth Fund ...   \n",
              "2804   NASDAQ:DGRW traded up $0.32 during trading ho...   \n",
              "2805   Rural Funds Group (RFF) to Issue Interim Divi...   \n",
              "2806   Rural Funds Group (RFF) to Issue Interim Divi...   \n",
              "2807   Shares of Rural Funds Group stock traded down...   \n",
              "\n",
              "                                                      3    4    5  \n",
              "0                   The increase in net interest income   57    0  \n",
              "1            NPAs increased $703 million year over year   61    0  \n",
              "2            Additional increases in noninterest income   65    0  \n",
              "3     During 2020, the Company also issued $6.5 bill...  204    0  \n",
              "4     The significant increases in earnings assets a...   82    0  \n",
              "...                                                 ...  ...  ...  \n",
              "2803                   This represents a yield of 2.4%.    0  262  \n",
              "2804                                    hitting $44.98.    0   63  \n",
              "2805   Stockholders of record on Thursday, October 3...    0  188  \n",
              "2806         This represents a dividend yield of 1.33%.    0  308  \n",
              "2807                            hitting A$1.73 ($1.22).    0   75  \n",
              "\n",
              "[2808 rows x 6 columns]"
            ],
            "text/html": [
              "\n",
              "  <div id=\"df-479fda17-dc39-46ef-befc-98c326edbfe4\">\n",
              "    <div class=\"colab-df-container\">\n",
              "      <div>\n",
              "<style scoped>\n",
              "    .dataframe tbody tr th:only-of-type {\n",
              "        vertical-align: middle;\n",
              "    }\n",
              "\n",
              "    .dataframe tbody tr th {\n",
              "        vertical-align: top;\n",
              "    }\n",
              "\n",
              "    .dataframe thead th {\n",
              "        text-align: right;\n",
              "    }\n",
              "</style>\n",
              "<table border=\"1\" class=\"dataframe\">\n",
              "  <thead>\n",
              "    <tr style=\"text-align: right;\">\n",
              "      <th></th>\n",
              "      <th>0</th>\n",
              "      <th>1</th>\n",
              "      <th>2</th>\n",
              "      <th>3</th>\n",
              "      <th>4</th>\n",
              "      <th>5</th>\n",
              "    </tr>\n",
              "  </thead>\n",
              "  <tbody>\n",
              "    <tr>\n",
              "      <th>0</th>\n",
              "      <td>0</td>\n",
              "      <td>The increase in net interest income was due pr...</td>\n",
              "      <td>a $152.9 billion increase in average outstandi...</td>\n",
              "      <td>The increase in net interest income</td>\n",
              "      <td>57</td>\n",
              "      <td>0</td>\n",
              "    </tr>\n",
              "    <tr>\n",
              "      <th>1</th>\n",
              "      <td>1</td>\n",
              "      <td>NPAs increased $703 million year over year, pr...</td>\n",
              "      <td>PCI loans that would have been classified as n...</td>\n",
              "      <td>NPAs increased $703 million year over year</td>\n",
              "      <td>61</td>\n",
              "      <td>0</td>\n",
              "    </tr>\n",
              "    <tr>\n",
              "      <th>2</th>\n",
              "      <td>2</td>\n",
              "      <td>Additional increases in noninterest income wer...</td>\n",
              "      <td>higher insurance income driven by improved pro...</td>\n",
              "      <td>Additional increases in noninterest income</td>\n",
              "      <td>65</td>\n",
              "      <td>0</td>\n",
              "    </tr>\n",
              "    <tr>\n",
              "      <th>3</th>\n",
              "      <td>3</td>\n",
              "      <td>During 2020, the Company also issued $6.5 bill...</td>\n",
              "      <td>The increase is due to net income in excess of...</td>\n",
              "      <td>During 2020, the Company also issued $6.5 bill...</td>\n",
              "      <td>204</td>\n",
              "      <td>0</td>\n",
              "    </tr>\n",
              "    <tr>\n",
              "      <th>4</th>\n",
              "      <td>4</td>\n",
              "      <td>The significant increases in earnings assets a...</td>\n",
              "      <td>the Merger, as well as impacts from the COVID-...</td>\n",
              "      <td>The significant increases in earnings assets a...</td>\n",
              "      <td>82</td>\n",
              "      <td>0</td>\n",
              "    </tr>\n",
              "    <tr>\n",
              "      <th>...</th>\n",
              "      <td>...</td>\n",
              "      <td>...</td>\n",
              "      <td>...</td>\n",
              "      <td>...</td>\n",
              "      <td>...</td>\n",
              "      <td>...</td>\n",
              "    </tr>\n",
              "    <tr>\n",
              "      <th>2803</th>\n",
              "      <td>2805</td>\n",
              "      <td>WisdomTree U.S. Quality Dividend Growth Fund ...</td>\n",
              "      <td>WisdomTree U.S. Quality Dividend Growth Fund ...</td>\n",
              "      <td>This represents a yield of 2.4%.</td>\n",
              "      <td>0</td>\n",
              "      <td>262</td>\n",
              "    </tr>\n",
              "    <tr>\n",
              "      <th>2804</th>\n",
              "      <td>2806</td>\n",
              "      <td>NASDAQ:DGRW traded up $0.32 during trading ho...</td>\n",
              "      <td>NASDAQ:DGRW traded up $0.32 during trading ho...</td>\n",
              "      <td>hitting $44.98.</td>\n",
              "      <td>0</td>\n",
              "      <td>63</td>\n",
              "    </tr>\n",
              "    <tr>\n",
              "      <th>2805</th>\n",
              "      <td>2807</td>\n",
              "      <td>Rural Funds Group (RFF) to Issue Interim Divi...</td>\n",
              "      <td>Rural Funds Group (RFF) to Issue Interim Divi...</td>\n",
              "      <td>Stockholders of record on Thursday, October 3...</td>\n",
              "      <td>0</td>\n",
              "      <td>188</td>\n",
              "    </tr>\n",
              "    <tr>\n",
              "      <th>2806</th>\n",
              "      <td>2808</td>\n",
              "      <td>Rural Funds Group (RFF) to Issue Interim Divi...</td>\n",
              "      <td>Rural Funds Group (RFF) to Issue Interim Divi...</td>\n",
              "      <td>This represents a dividend yield of 1.33%.</td>\n",
              "      <td>0</td>\n",
              "      <td>308</td>\n",
              "    </tr>\n",
              "    <tr>\n",
              "      <th>2807</th>\n",
              "      <td>2809</td>\n",
              "      <td>Shares of Rural Funds Group stock traded down...</td>\n",
              "      <td>Shares of Rural Funds Group stock traded down...</td>\n",
              "      <td>hitting A$1.73 ($1.22).</td>\n",
              "      <td>0</td>\n",
              "      <td>75</td>\n",
              "    </tr>\n",
              "  </tbody>\n",
              "</table>\n",
              "<p>2808 rows × 6 columns</p>\n",
              "</div>\n",
              "      <button class=\"colab-df-convert\" onclick=\"convertToInteractive('df-479fda17-dc39-46ef-befc-98c326edbfe4')\"\n",
              "              title=\"Convert this dataframe to an interactive table.\"\n",
              "              style=\"display:none;\">\n",
              "        \n",
              "  <svg xmlns=\"http://www.w3.org/2000/svg\" height=\"24px\"viewBox=\"0 0 24 24\"\n",
              "       width=\"24px\">\n",
              "    <path d=\"M0 0h24v24H0V0z\" fill=\"none\"/>\n",
              "    <path d=\"M18.56 5.44l.94 2.06.94-2.06 2.06-.94-2.06-.94-.94-2.06-.94 2.06-2.06.94zm-11 1L8.5 8.5l.94-2.06 2.06-.94-2.06-.94L8.5 2.5l-.94 2.06-2.06.94zm10 10l.94 2.06.94-2.06 2.06-.94-2.06-.94-.94-2.06-.94 2.06-2.06.94z\"/><path d=\"M17.41 7.96l-1.37-1.37c-.4-.4-.92-.59-1.43-.59-.52 0-1.04.2-1.43.59L10.3 9.45l-7.72 7.72c-.78.78-.78 2.05 0 2.83L4 21.41c.39.39.9.59 1.41.59.51 0 1.02-.2 1.41-.59l7.78-7.78 2.81-2.81c.8-.78.8-2.07 0-2.86zM5.41 20L4 18.59l7.72-7.72 1.47 1.35L5.41 20z\"/>\n",
              "  </svg>\n",
              "      </button>\n",
              "      \n",
              "  <style>\n",
              "    .colab-df-container {\n",
              "      display:flex;\n",
              "      flex-wrap:wrap;\n",
              "      gap: 12px;\n",
              "    }\n",
              "\n",
              "    .colab-df-convert {\n",
              "      background-color: #E8F0FE;\n",
              "      border: none;\n",
              "      border-radius: 50%;\n",
              "      cursor: pointer;\n",
              "      display: none;\n",
              "      fill: #1967D2;\n",
              "      height: 32px;\n",
              "      padding: 0 0 0 0;\n",
              "      width: 32px;\n",
              "    }\n",
              "\n",
              "    .colab-df-convert:hover {\n",
              "      background-color: #E2EBFA;\n",
              "      box-shadow: 0px 1px 2px rgba(60, 64, 67, 0.3), 0px 1px 3px 1px rgba(60, 64, 67, 0.15);\n",
              "      fill: #174EA6;\n",
              "    }\n",
              "\n",
              "    [theme=dark] .colab-df-convert {\n",
              "      background-color: #3B4455;\n",
              "      fill: #D2E3FC;\n",
              "    }\n",
              "\n",
              "    [theme=dark] .colab-df-convert:hover {\n",
              "      background-color: #434B5C;\n",
              "      box-shadow: 0px 1px 3px 1px rgba(0, 0, 0, 0.15);\n",
              "      filter: drop-shadow(0px 1px 2px rgba(0, 0, 0, 0.3));\n",
              "      fill: #FFFFFF;\n",
              "    }\n",
              "  </style>\n",
              "\n",
              "      <script>\n",
              "        const buttonEl =\n",
              "          document.querySelector('#df-479fda17-dc39-46ef-befc-98c326edbfe4 button.colab-df-convert');\n",
              "        buttonEl.style.display =\n",
              "          google.colab.kernel.accessAllowed ? 'block' : 'none';\n",
              "\n",
              "        async function convertToInteractive(key) {\n",
              "          const element = document.querySelector('#df-479fda17-dc39-46ef-befc-98c326edbfe4');\n",
              "          const dataTable =\n",
              "            await google.colab.kernel.invokeFunction('convertToInteractive',\n",
              "                                                     [key], {});\n",
              "          if (!dataTable) return;\n",
              "\n",
              "          const docLinkHtml = 'Like what you see? Visit the ' +\n",
              "            '<a target=\"_blank\" href=https://colab.research.google.com/notebooks/data_table.ipynb>data table notebook</a>'\n",
              "            + ' to learn more about interactive tables.';\n",
              "          element.innerHTML = '';\n",
              "          dataTable['output_type'] = 'display_data';\n",
              "          await google.colab.output.renderOutput(dataTable, element);\n",
              "          const docLink = document.createElement('div');\n",
              "          docLink.innerHTML = docLinkHtml;\n",
              "          element.appendChild(docLink);\n",
              "        }\n",
              "      </script>\n",
              "    </div>\n",
              "  </div>\n",
              "  "
            ]
          },
          "metadata": {},
          "execution_count": 92
        }
      ]
    },
    {
      "cell_type": "code",
      "source": [
        "final_data_use[1].str.strip().nunique()"
      ],
      "metadata": {
        "colab": {
          "base_uri": "https://localhost:8080/"
        },
        "id": "W_6CKqiMY8p2",
        "outputId": "2e9f61ef-1cb0-4824-f039-27690c1a4dc1"
      },
      "execution_count": 101,
      "outputs": [
        {
          "output_type": "execute_result",
          "data": {
            "text/plain": [
              "2529"
            ]
          },
          "metadata": {},
          "execution_count": 101
        }
      ]
    },
    {
      "cell_type": "code",
      "source": [
        "2529 - 4 # 4 is malformed"
      ],
      "metadata": {
        "colab": {
          "base_uri": "https://localhost:8080/"
        },
        "id": "F6XUZLCYfyu_",
        "outputId": "a71e867c-868b-4a61-8d85-c795c2e2ce83"
      },
      "execution_count": 110,
      "outputs": [
        {
          "output_type": "execute_result",
          "data": {
            "text/plain": [
              "2525"
            ]
          },
          "metadata": {},
          "execution_count": 110
        }
      ]
    },
    {
      "cell_type": "code",
      "source": [
        "final_data_use.iloc[129,][1]# 1 is the text column"
      ],
      "metadata": {
        "colab": {
          "base_uri": "https://localhost:8080/",
          "height": 70
        },
        "id": "ByjhNcChHKEP",
        "outputId": "f63e6e08-cd0d-4c36-8160-eaa693167189"
      },
      "execution_count": 93,
      "outputs": [
        {
          "output_type": "execute_result",
          "data": {
            "text/plain": [
              "'During 2012, the Company has recognized foreign exchange transactional gains of $2.3 million compared to foreign exchange losses of $14.7 million for 2011, as currencies generally appreciated against the U.S. Dollar during 2012 compared to depreciating in the prior year. The Company recognized income tax expense of $166.3 million and $17.9 million for 2012 and 2011, respectively.'"
            ],
            "application/vnd.google.colaboratory.intrinsic+json": {
              "type": "string"
            }
          },
          "metadata": {},
          "execution_count": 93
        }
      ]
    },
    {
      "cell_type": "code",
      "source": [
        "'During 2012, the Company has recognized foreign exchange transactional gains of $2.3 million compared to foreign exchange losses of $14.7 million for 2011, as currencies generally appreciated against the U.S. Dollar during 2012 compared to depreciating in the prior year.The Company recognized income tax expense of $166.3 million and $17.9 million for 2012 and 2011, respectively.'[271:]"
      ],
      "metadata": {
        "colab": {
          "base_uri": "https://localhost:8080/",
          "height": 36
        },
        "id": "Xjrp4pLvPdbh",
        "outputId": "9a780839-dd21-4a2f-bd1d-728210c30e07"
      },
      "execution_count": 77,
      "outputs": [
        {
          "output_type": "execute_result",
          "data": {
            "text/plain": [
              "'The Company recognized income tax expense of $166.3 million and $17.9 million for 2012 and 2011, respectively.'"
            ],
            "application/vnd.google.colaboratory.intrinsic+json": {
              "type": "string"
            }
          },
          "metadata": {},
          "execution_count": 77
        }
      ]
    },
    {
      "cell_type": "code",
      "source": [
        "final_data_use.iloc[129,][1][103: 150]"
      ],
      "metadata": {
        "colab": {
          "base_uri": "https://localhost:8080/",
          "height": 36
        },
        "id": "hHuRRlm3HRFx",
        "outputId": "188f78f0-e759-4f39-ee67-b94e9e9a75d8"
      },
      "execution_count": 95,
      "outputs": [
        {
          "output_type": "execute_result",
          "data": {
            "text/plain": [
              "'o foreign exchange losses of $14.7 million for '"
            ],
            "application/vnd.google.colaboratory.intrinsic+json": {
              "type": "string"
            }
          },
          "metadata": {},
          "execution_count": 95
        }
      ]
    },
    {
      "cell_type": "code",
      "source": [
        "final_data_use.iloc[129,]['text'][102: 150]"
      ],
      "metadata": {
        "colab": {
          "base_uri": "https://localhost:8080/",
          "height": 36
        },
        "id": "ESuBS5HtOpOo",
        "outputId": "35b10cf4-3a95-49c3-f717-1b2040476f77"
      },
      "execution_count": 75,
      "outputs": [
        {
          "output_type": "execute_result",
          "data": {
            "text/plain": [
              "'to foreign exchange losses of $14.7 million for '"
            ],
            "application/vnd.google.colaboratory.intrinsic+json": {
              "type": "string"
            }
          },
          "metadata": {},
          "execution_count": 75
        }
      ]
    },
    {
      "cell_type": "code",
      "source": [
        "final_data_use.iloc[129,]['effect']"
      ],
      "metadata": {
        "colab": {
          "base_uri": "https://localhost:8080/",
          "height": 36
        },
        "id": "w0GPDBesHEbN",
        "outputId": "607e65e3-1306-4e5f-df05-836ca5a7de7d"
      },
      "execution_count": 59,
      "outputs": [
        {
          "output_type": "execute_result",
          "data": {
            "text/plain": [
              "'The Company recognized income tax expense of $166.3 million and $17.9 million for 2012 and 2011, respectively.'"
            ],
            "application/vnd.google.colaboratory.intrinsic+json": {
              "type": "string"
            }
          },
          "metadata": {},
          "execution_count": 59
        }
      ]
    },
    {
      "cell_type": "code",
      "source": [
        "final_data_use.iloc[129,]"
      ],
      "metadata": {
        "colab": {
          "base_uri": "https://localhost:8080/"
        },
        "id": "a09KSxtVPZ05",
        "outputId": "40bd24e7-1e3a-4b6b-f0fb-59a3eafe24fe"
      },
      "execution_count": 76,
      "outputs": [
        {
          "output_type": "execute_result",
          "data": {
            "text/plain": [
              "index                                                         129\n",
              "text            During 2012, the Company has recognized foreig...\n",
              "cause           During 2012, the Company has recognized foreig...\n",
              "effect          The Company recognized income tax expense of $...\n",
              "cause_start                                                     0\n",
              "effect_start                                                  271\n",
              "Name: 129, dtype: object"
            ]
          },
          "metadata": {},
          "execution_count": 76
        }
      ]
    },
    {
      "cell_type": "markdown",
      "source": [
        "## Add extra columns [Saturday do here Sohom]\n",
        "## run data_prep.py"
      ],
      "metadata": {
        "id": "qkkG4Sdxw5Ca"
      }
    },
    {
      "cell_type": "code",
      "source": [
        "# Need to format 2022 data like previous years i.e. it should have six/seven columns instead of just index, text, cause & effect"
      ],
      "metadata": {
        "id": "Iz71rAovBIbn"
      },
      "execution_count": null,
      "outputs": []
    },
    {
      "cell_type": "code",
      "source": [
        "!python cepn.py FinCausal2021 config.ini target_dir_2021 train5fold"
      ],
      "metadata": {
        "id": "qA3EjdZEAaC5"
      },
      "execution_count": null,
      "outputs": []
    },
    {
      "cell_type": "code",
      "source": [
        "# NOTE: \n",
        "# running cepn.py in train5fold mode will do the evaluation for the 5 fold cross validation set\n"
      ],
      "metadata": {
        "id": "znkZ0TXcDkGx"
      },
      "execution_count": null,
      "outputs": []
    },
    {
      "cell_type": "code",
      "source": [
        "len('hwjb jgs '.split())"
      ],
      "metadata": {
        "colab": {
          "base_uri": "https://localhost:8080/"
        },
        "id": "1U1og5mMcSR2",
        "outputId": "5b1824d9-946a-4989-bcca-39ad91cce806"
      },
      "execution_count": 104,
      "outputs": [
        {
          "output_type": "execute_result",
          "data": {
            "text/plain": [
              "2"
            ]
          },
          "metadata": {},
          "execution_count": 104
        }
      ]
    },
    {
      "cell_type": "code",
      "source": [
        "# Upload config_new.ini in the CEPN folder\n",
        "!mv /content/config_new.ini /content/CEPN"
      ],
      "metadata": {
        "id": "aFQMegVdHcbO"
      },
      "execution_count": null,
      "outputs": []
    },
    {
      "cell_type": "code",
      "source": [
        "#Getting this error as we need to reformat test_blind.csv to json\n",
        "#In cepn.py handle datatype=3 i.e. testset by modifying the function: get_sample(uid, data, datatype)\n",
        "#testset in json format is expected to have: 'org_sent', 'bert_sent', 'bert_to_org_token_map'  'bert_pointers', 'pos_tags', \n",
        "\n",
        "#'original_causality',\n",
        "\n",
        "#OPTIONAL: 'bert_boundary_tags'\n",
        "#modified_causality"
      ],
      "metadata": {
        "id": "m7JXlReYVL5U"
      },
      "execution_count": null,
      "outputs": []
    },
    {
      "cell_type": "code",
      "source": [
        "# check if config_new.ini has the"
      ],
      "metadata": {
        "id": "l3PM293lp24d"
      },
      "execution_count": null,
      "outputs": []
    },
    {
      "cell_type": "markdown",
      "source": [
        "Need to have a tet set with these columns\n",
        "\n",
        "['org_sent', 'bert_sent', 'pos_tags', 'bert_to_org_token_map', 'original_causality', 'modified_causality', 'bert_pointers']"
      ],
      "metadata": {
        "id": "Fh_Cmg0BMXGj"
      }
    },
    {
      "cell_type": "code",
      "source": [
        "# upload data_prep_test.py\n",
        "# move to CEPN directory\n",
        "!mv /content/data_prep_test.py /content/CEPN"
      ],
      "metadata": {
        "id": "hmwqda3KqB03"
      },
      "execution_count": null,
      "outputs": []
    },
    {
      "cell_type": "code",
      "source": [
        "!wget https://raw.githubusercontent.com/sohomghosh/CEPN/main/data_prep_test.py -P /content/CEPN"
      ],
      "metadata": {
        "colab": {
          "base_uri": "https://localhost:8080/"
        },
        "id": "vbzQuujr5HCh",
        "outputId": "a44c5036-f83a-489e-fac1-9f6d22039b9b"
      },
      "execution_count": null,
      "outputs": [
        {
          "output_type": "stream",
          "name": "stdout",
          "text": [
            "--2022-04-08 15:59:35--  https://raw.githubusercontent.com/sohomghosh/CEPN/main/data_prep_test.py\n",
            "Resolving raw.githubusercontent.com (raw.githubusercontent.com)... 185.199.111.133, 185.199.110.133, 185.199.108.133, ...\n",
            "Connecting to raw.githubusercontent.com (raw.githubusercontent.com)|185.199.111.133|:443... connected.\n",
            "HTTP request sent, awaiting response... 200 OK\n",
            "Length: 7055 (6.9K) [text/plain]\n",
            "Saving to: ‘/content/CEPN/data_prep_test.py’\n",
            "\n",
            "\rdata_prep_test.py     0%[                    ]       0  --.-KB/s               \rdata_prep_test.py   100%[===================>]   6.89K  --.-KB/s    in 0s      \n",
            "\n",
            "2022-04-08 15:59:35 (38.7 MB/s) - ‘/content/CEPN/data_prep_test.py’ saved [7055/7055]\n",
            "\n"
          ]
        }
      ]
    },
    {
      "cell_type": "code",
      "source": [
        "!python /content/CEPN/data_prep_test.py /content/CEPN/FinCausal2020/data/blind_fnp2022-fincausal-task2.csv /content/CEPN/FinCausal2020/data/out_file_json_task2_add2022.json /content/CEPN/FinCausal2020/data/out_bert_file_json_task2_add2022.json bert-base-cased"
      ],
      "metadata": {
        "colab": {
          "base_uri": "https://localhost:8080/"
        },
        "id": "L6mui-iU2vtv",
        "outputId": "2a026f5f-efbc-442e-cc80-ff9e3722a3e7"
      },
      "execution_count": null,
      "outputs": [
        {
          "output_type": "stream",
          "name": "stdout",
          "text": [
            "933\n",
            "933\n"
          ]
        }
      ]
    },
    {
      "cell_type": "code",
      "source": [
        "!python /content/CEPN/data_prep_test.py /content/CEPN/FinCausal2021/data/blind_fnp2022-fincausal-task2.csv /content/CEPN/FinCausal2021/data/out_file_json_task2_add2022.json /content/CEPN/FinCausal2021/data/out_bert_file_json_task2_add2022.json bert-base-cased"
      ],
      "metadata": {
        "colab": {
          "base_uri": "https://localhost:8080/"
        },
        "id": "fSybPFhw4-uw",
        "outputId": "132017fb-13a5-4837-c826-6e702600ec70"
      },
      "execution_count": null,
      "outputs": [
        {
          "output_type": "stream",
          "name": "stdout",
          "text": [
            "933\n",
            "933\n"
          ]
        }
      ]
    },
    {
      "cell_type": "code",
      "source": [
        "!python /content/CEPN/data_prep_test.py /content/CEPN/FinCausal2020/data/blind_fnp2022-fincausal-task2.csv /content/CEPN/FinCausal2020/data/out_large_file_json_task2_add2022.json /content/CEPN/FinCausal2020/data/out_bert_large_file_json_task2_add2022.json bert-large-cased"
      ],
      "metadata": {
        "colab": {
          "base_uri": "https://localhost:8080/"
        },
        "id": "FOyuI18b5ybs",
        "outputId": "87ef70ef-40e0-43fd-f31e-db6671dd5d7f"
      },
      "execution_count": null,
      "outputs": [
        {
          "output_type": "stream",
          "name": "stdout",
          "text": [
            "933\n",
            "933\n",
            "Downloading: 100% 762/762 [00:00<00:00, 479kB/s]\n",
            "Downloading: 100% 213k/213k [00:00<00:00, 853kB/s]\n"
          ]
        }
      ]
    },
    {
      "cell_type": "code",
      "source": [
        "!python /content/CEPN/data_prep_test.py /content/CEPN/FinCausal2021/data/blind_fnp2022-fincausal-task2.csv /content/CEPN/FinCausal2021/data/out_large_file_json_task2_add2022.json /content/CEPN/FinCausal2021/data/out_bert_large_file_json_task2_add2022.json bert-large-cased"
      ],
      "metadata": {
        "colab": {
          "base_uri": "https://localhost:8080/"
        },
        "id": "UwFb8j7Z6Qjq",
        "outputId": "968d4505-9102-448f-ce83-febe65f28e20"
      },
      "execution_count": null,
      "outputs": [
        {
          "output_type": "stream",
          "name": "stdout",
          "text": [
            "933\n",
            "933\n"
          ]
        }
      ]
    },
    {
      "cell_type": "code",
      "source": [
        "# Need to change cepy.py to handle test set"
      ],
      "metadata": {
        "id": "_pJ31bFo9Qoq"
      },
      "execution_count": null,
      "outputs": []
    },
    {
      "cell_type": "code",
      "source": [
        "# Upload new cepn.py"
      ],
      "metadata": {
        "id": "bdtaRpIMZNqC"
      },
      "execution_count": null,
      "outputs": []
    },
    {
      "cell_type": "markdown",
      "source": [
        "# BEGIN HERE SOHOM"
      ],
      "metadata": {
        "id": "pHHPE3dVgL13"
      }
    },
    {
      "cell_type": "code",
      "source": [
        "%%capture\n",
        "!rm /content/CEPN/cepn.py\n",
        "!wget https://raw.githubusercontent.com/sohomghosh/CEPN/main/cepn.py -P /content/CEPN/"
      ],
      "metadata": {
        "id": "j5s1uYtL0ZDh"
      },
      "execution_count": null,
      "outputs": []
    },
    {
      "cell_type": "code",
      "source": [
        "%%capture\n",
        "!wget https://raw.githubusercontent.com/sohomghosh/CEPN/main/config_new.ini -P /content/CEPN/"
      ],
      "metadata": {
        "id": "SAoQykjKRtRX"
      },
      "execution_count": null,
      "outputs": []
    },
    {
      "cell_type": "code",
      "source": [
        "!pwd"
      ],
      "metadata": {
        "colab": {
          "base_uri": "https://localhost:8080/"
        },
        "id": "e8xczYTp3iFf",
        "outputId": "d1e767d1-d954-4894-ef02-5456f1ea3d24"
      },
      "execution_count": null,
      "outputs": [
        {
          "output_type": "stream",
          "name": "stdout",
          "text": [
            "/content/CEPN\n"
          ]
        }
      ]
    },
    {
      "cell_type": "code",
      "source": [
        "!python cepn.py FinCausal2020 config_new.ini target_dir_2020train_2022evaluate train"
      ],
      "metadata": {
        "id": "j6XLYHy8eD8C",
        "colab": {
          "base_uri": "https://localhost:8080/"
        },
        "outputId": "d9114e58-13c1-416c-d4e7-77651881c0ba"
      },
      "execution_count": null,
      "outputs": [
        {
          "output_type": "stream",
          "name": "stdout",
          "text": [
            "Experiment time:   2022-04-08 11:51:22.912655\n",
            "['cepn.py', 'FinCausal2020', 'config_new.ini', 'target_dir_2020train_2022evaluate', 'train']\n",
            "{'random_seed': '1023', 'bert_model_name': 'bert-base-cased', 'bert_tokenizer_name': 'bert-base-cased', 'bert_hidden_size': '768', 'update_bert': 'True', 'do_lower_case': 'False', 'update_freq': '1', 'att_type': '2', 'use_pos_tags': 'True', 'pos_dim': '32', 'use_char_feature': 'False', 'char_embed_dim': '30', 'char_feature_dim': '30', 'conv_filter_size': '3', 'max_word_len': '25', 'use_orthogonality': 'False', 'generation_order': 'CauseFirst'}\n",
            "{'data_dir': 'FinCausal2020/data', 'train_file': 'bert_base_cased_train.json', 'test_file': 'out_bert_file_json_task2_add2022.json', 'test_file_csv': 'blind_fnp2022-fincausal-task2.csv', 'batch_size': '4', 'num_epoch': '20', 'drop_rate': '0.3', 'max_src_token': '500', 'max_trg_steps': '5', 'dev_percent': '0.2', 'early_stop': '10', 'train_on_full': 'False', 'mfc': '1', 'max_span_percent': '0.8', 'use_cardinality': 'False', 'use_sent_boundary_tag': 'False', 'sent_boundary_tag_dim': '20', 'metric': 'Token_F1'}\n",
            "loading data......\n",
            "Total data:  1549\n",
            "Training data size:  1240\n",
            "Development data size:  309\n",
            "Test data size:  933\n",
            "Training started......\n",
            "Max cardinality:  4\n",
            "Max span:  316\n",
            "310\n",
            "Parameters size:  146097286\n",
            "Seq2SeqModel(\n",
            "  (encoder): Encoder(\n",
            "    (bert_vec): BERT(\n",
            "      (bert): BertModel(\n",
            "        (embeddings): BertEmbeddings(\n",
            "          (word_embeddings): Embedding(28996, 768, padding_idx=0)\n",
            "          (position_embeddings): Embedding(512, 768)\n",
            "          (token_type_embeddings): Embedding(2, 768)\n",
            "          (LayerNorm): LayerNorm((768,), eps=1e-12, elementwise_affine=True)\n",
            "          (dropout): Dropout(p=0.1, inplace=False)\n",
            "        )\n",
            "        (encoder): BertEncoder(\n",
            "          (layer): ModuleList(\n",
            "            (0): BertLayer(\n",
            "              (attention): BertAttention(\n",
            "                (self): BertSelfAttention(\n",
            "                  (query): Linear(in_features=768, out_features=768, bias=True)\n",
            "                  (key): Linear(in_features=768, out_features=768, bias=True)\n",
            "                  (value): Linear(in_features=768, out_features=768, bias=True)\n",
            "                  (dropout): Dropout(p=0.1, inplace=False)\n",
            "                )\n",
            "                (output): BertSelfOutput(\n",
            "                  (dense): Linear(in_features=768, out_features=768, bias=True)\n",
            "                  (LayerNorm): LayerNorm((768,), eps=1e-12, elementwise_affine=True)\n",
            "                  (dropout): Dropout(p=0.1, inplace=False)\n",
            "                )\n",
            "              )\n",
            "              (intermediate): BertIntermediate(\n",
            "                (dense): Linear(in_features=768, out_features=3072, bias=True)\n",
            "              )\n",
            "              (output): BertOutput(\n",
            "                (dense): Linear(in_features=3072, out_features=768, bias=True)\n",
            "                (LayerNorm): LayerNorm((768,), eps=1e-12, elementwise_affine=True)\n",
            "                (dropout): Dropout(p=0.1, inplace=False)\n",
            "              )\n",
            "            )\n",
            "            (1): BertLayer(\n",
            "              (attention): BertAttention(\n",
            "                (self): BertSelfAttention(\n",
            "                  (query): Linear(in_features=768, out_features=768, bias=True)\n",
            "                  (key): Linear(in_features=768, out_features=768, bias=True)\n",
            "                  (value): Linear(in_features=768, out_features=768, bias=True)\n",
            "                  (dropout): Dropout(p=0.1, inplace=False)\n",
            "                )\n",
            "                (output): BertSelfOutput(\n",
            "                  (dense): Linear(in_features=768, out_features=768, bias=True)\n",
            "                  (LayerNorm): LayerNorm((768,), eps=1e-12, elementwise_affine=True)\n",
            "                  (dropout): Dropout(p=0.1, inplace=False)\n",
            "                )\n",
            "              )\n",
            "              (intermediate): BertIntermediate(\n",
            "                (dense): Linear(in_features=768, out_features=3072, bias=True)\n",
            "              )\n",
            "              (output): BertOutput(\n",
            "                (dense): Linear(in_features=3072, out_features=768, bias=True)\n",
            "                (LayerNorm): LayerNorm((768,), eps=1e-12, elementwise_affine=True)\n",
            "                (dropout): Dropout(p=0.1, inplace=False)\n",
            "              )\n",
            "            )\n",
            "            (2): BertLayer(\n",
            "              (attention): BertAttention(\n",
            "                (self): BertSelfAttention(\n",
            "                  (query): Linear(in_features=768, out_features=768, bias=True)\n",
            "                  (key): Linear(in_features=768, out_features=768, bias=True)\n",
            "                  (value): Linear(in_features=768, out_features=768, bias=True)\n",
            "                  (dropout): Dropout(p=0.1, inplace=False)\n",
            "                )\n",
            "                (output): BertSelfOutput(\n",
            "                  (dense): Linear(in_features=768, out_features=768, bias=True)\n",
            "                  (LayerNorm): LayerNorm((768,), eps=1e-12, elementwise_affine=True)\n",
            "                  (dropout): Dropout(p=0.1, inplace=False)\n",
            "                )\n",
            "              )\n",
            "              (intermediate): BertIntermediate(\n",
            "                (dense): Linear(in_features=768, out_features=3072, bias=True)\n",
            "              )\n",
            "              (output): BertOutput(\n",
            "                (dense): Linear(in_features=3072, out_features=768, bias=True)\n",
            "                (LayerNorm): LayerNorm((768,), eps=1e-12, elementwise_affine=True)\n",
            "                (dropout): Dropout(p=0.1, inplace=False)\n",
            "              )\n",
            "            )\n",
            "            (3): BertLayer(\n",
            "              (attention): BertAttention(\n",
            "                (self): BertSelfAttention(\n",
            "                  (query): Linear(in_features=768, out_features=768, bias=True)\n",
            "                  (key): Linear(in_features=768, out_features=768, bias=True)\n",
            "                  (value): Linear(in_features=768, out_features=768, bias=True)\n",
            "                  (dropout): Dropout(p=0.1, inplace=False)\n",
            "                )\n",
            "                (output): BertSelfOutput(\n",
            "                  (dense): Linear(in_features=768, out_features=768, bias=True)\n",
            "                  (LayerNorm): LayerNorm((768,), eps=1e-12, elementwise_affine=True)\n",
            "                  (dropout): Dropout(p=0.1, inplace=False)\n",
            "                )\n",
            "              )\n",
            "              (intermediate): BertIntermediate(\n",
            "                (dense): Linear(in_features=768, out_features=3072, bias=True)\n",
            "              )\n",
            "              (output): BertOutput(\n",
            "                (dense): Linear(in_features=3072, out_features=768, bias=True)\n",
            "                (LayerNorm): LayerNorm((768,), eps=1e-12, elementwise_affine=True)\n",
            "                (dropout): Dropout(p=0.1, inplace=False)\n",
            "              )\n",
            "            )\n",
            "            (4): BertLayer(\n",
            "              (attention): BertAttention(\n",
            "                (self): BertSelfAttention(\n",
            "                  (query): Linear(in_features=768, out_features=768, bias=True)\n",
            "                  (key): Linear(in_features=768, out_features=768, bias=True)\n",
            "                  (value): Linear(in_features=768, out_features=768, bias=True)\n",
            "                  (dropout): Dropout(p=0.1, inplace=False)\n",
            "                )\n",
            "                (output): BertSelfOutput(\n",
            "                  (dense): Linear(in_features=768, out_features=768, bias=True)\n",
            "                  (LayerNorm): LayerNorm((768,), eps=1e-12, elementwise_affine=True)\n",
            "                  (dropout): Dropout(p=0.1, inplace=False)\n",
            "                )\n",
            "              )\n",
            "              (intermediate): BertIntermediate(\n",
            "                (dense): Linear(in_features=768, out_features=3072, bias=True)\n",
            "              )\n",
            "              (output): BertOutput(\n",
            "                (dense): Linear(in_features=3072, out_features=768, bias=True)\n",
            "                (LayerNorm): LayerNorm((768,), eps=1e-12, elementwise_affine=True)\n",
            "                (dropout): Dropout(p=0.1, inplace=False)\n",
            "              )\n",
            "            )\n",
            "            (5): BertLayer(\n",
            "              (attention): BertAttention(\n",
            "                (self): BertSelfAttention(\n",
            "                  (query): Linear(in_features=768, out_features=768, bias=True)\n",
            "                  (key): Linear(in_features=768, out_features=768, bias=True)\n",
            "                  (value): Linear(in_features=768, out_features=768, bias=True)\n",
            "                  (dropout): Dropout(p=0.1, inplace=False)\n",
            "                )\n",
            "                (output): BertSelfOutput(\n",
            "                  (dense): Linear(in_features=768, out_features=768, bias=True)\n",
            "                  (LayerNorm): LayerNorm((768,), eps=1e-12, elementwise_affine=True)\n",
            "                  (dropout): Dropout(p=0.1, inplace=False)\n",
            "                )\n",
            "              )\n",
            "              (intermediate): BertIntermediate(\n",
            "                (dense): Linear(in_features=768, out_features=3072, bias=True)\n",
            "              )\n",
            "              (output): BertOutput(\n",
            "                (dense): Linear(in_features=3072, out_features=768, bias=True)\n",
            "                (LayerNorm): LayerNorm((768,), eps=1e-12, elementwise_affine=True)\n",
            "                (dropout): Dropout(p=0.1, inplace=False)\n",
            "              )\n",
            "            )\n",
            "            (6): BertLayer(\n",
            "              (attention): BertAttention(\n",
            "                (self): BertSelfAttention(\n",
            "                  (query): Linear(in_features=768, out_features=768, bias=True)\n",
            "                  (key): Linear(in_features=768, out_features=768, bias=True)\n",
            "                  (value): Linear(in_features=768, out_features=768, bias=True)\n",
            "                  (dropout): Dropout(p=0.1, inplace=False)\n",
            "                )\n",
            "                (output): BertSelfOutput(\n",
            "                  (dense): Linear(in_features=768, out_features=768, bias=True)\n",
            "                  (LayerNorm): LayerNorm((768,), eps=1e-12, elementwise_affine=True)\n",
            "                  (dropout): Dropout(p=0.1, inplace=False)\n",
            "                )\n",
            "              )\n",
            "              (intermediate): BertIntermediate(\n",
            "                (dense): Linear(in_features=768, out_features=3072, bias=True)\n",
            "              )\n",
            "              (output): BertOutput(\n",
            "                (dense): Linear(in_features=3072, out_features=768, bias=True)\n",
            "                (LayerNorm): LayerNorm((768,), eps=1e-12, elementwise_affine=True)\n",
            "                (dropout): Dropout(p=0.1, inplace=False)\n",
            "              )\n",
            "            )\n",
            "            (7): BertLayer(\n",
            "              (attention): BertAttention(\n",
            "                (self): BertSelfAttention(\n",
            "                  (query): Linear(in_features=768, out_features=768, bias=True)\n",
            "                  (key): Linear(in_features=768, out_features=768, bias=True)\n",
            "                  (value): Linear(in_features=768, out_features=768, bias=True)\n",
            "                  (dropout): Dropout(p=0.1, inplace=False)\n",
            "                )\n",
            "                (output): BertSelfOutput(\n",
            "                  (dense): Linear(in_features=768, out_features=768, bias=True)\n",
            "                  (LayerNorm): LayerNorm((768,), eps=1e-12, elementwise_affine=True)\n",
            "                  (dropout): Dropout(p=0.1, inplace=False)\n",
            "                )\n",
            "              )\n",
            "              (intermediate): BertIntermediate(\n",
            "                (dense): Linear(in_features=768, out_features=3072, bias=True)\n",
            "              )\n",
            "              (output): BertOutput(\n",
            "                (dense): Linear(in_features=3072, out_features=768, bias=True)\n",
            "                (LayerNorm): LayerNorm((768,), eps=1e-12, elementwise_affine=True)\n",
            "                (dropout): Dropout(p=0.1, inplace=False)\n",
            "              )\n",
            "            )\n",
            "            (8): BertLayer(\n",
            "              (attention): BertAttention(\n",
            "                (self): BertSelfAttention(\n",
            "                  (query): Linear(in_features=768, out_features=768, bias=True)\n",
            "                  (key): Linear(in_features=768, out_features=768, bias=True)\n",
            "                  (value): Linear(in_features=768, out_features=768, bias=True)\n",
            "                  (dropout): Dropout(p=0.1, inplace=False)\n",
            "                )\n",
            "                (output): BertSelfOutput(\n",
            "                  (dense): Linear(in_features=768, out_features=768, bias=True)\n",
            "                  (LayerNorm): LayerNorm((768,), eps=1e-12, elementwise_affine=True)\n",
            "                  (dropout): Dropout(p=0.1, inplace=False)\n",
            "                )\n",
            "              )\n",
            "              (intermediate): BertIntermediate(\n",
            "                (dense): Linear(in_features=768, out_features=3072, bias=True)\n",
            "              )\n",
            "              (output): BertOutput(\n",
            "                (dense): Linear(in_features=3072, out_features=768, bias=True)\n",
            "                (LayerNorm): LayerNorm((768,), eps=1e-12, elementwise_affine=True)\n",
            "                (dropout): Dropout(p=0.1, inplace=False)\n",
            "              )\n",
            "            )\n",
            "            (9): BertLayer(\n",
            "              (attention): BertAttention(\n",
            "                (self): BertSelfAttention(\n",
            "                  (query): Linear(in_features=768, out_features=768, bias=True)\n",
            "                  (key): Linear(in_features=768, out_features=768, bias=True)\n",
            "                  (value): Linear(in_features=768, out_features=768, bias=True)\n",
            "                  (dropout): Dropout(p=0.1, inplace=False)\n",
            "                )\n",
            "                (output): BertSelfOutput(\n",
            "                  (dense): Linear(in_features=768, out_features=768, bias=True)\n",
            "                  (LayerNorm): LayerNorm((768,), eps=1e-12, elementwise_affine=True)\n",
            "                  (dropout): Dropout(p=0.1, inplace=False)\n",
            "                )\n",
            "              )\n",
            "              (intermediate): BertIntermediate(\n",
            "                (dense): Linear(in_features=768, out_features=3072, bias=True)\n",
            "              )\n",
            "              (output): BertOutput(\n",
            "                (dense): Linear(in_features=3072, out_features=768, bias=True)\n",
            "                (LayerNorm): LayerNorm((768,), eps=1e-12, elementwise_affine=True)\n",
            "                (dropout): Dropout(p=0.1, inplace=False)\n",
            "              )\n",
            "            )\n",
            "            (10): BertLayer(\n",
            "              (attention): BertAttention(\n",
            "                (self): BertSelfAttention(\n",
            "                  (query): Linear(in_features=768, out_features=768, bias=True)\n",
            "                  (key): Linear(in_features=768, out_features=768, bias=True)\n",
            "                  (value): Linear(in_features=768, out_features=768, bias=True)\n",
            "                  (dropout): Dropout(p=0.1, inplace=False)\n",
            "                )\n",
            "                (output): BertSelfOutput(\n",
            "                  (dense): Linear(in_features=768, out_features=768, bias=True)\n",
            "                  (LayerNorm): LayerNorm((768,), eps=1e-12, elementwise_affine=True)\n",
            "                  (dropout): Dropout(p=0.1, inplace=False)\n",
            "                )\n",
            "              )\n",
            "              (intermediate): BertIntermediate(\n",
            "                (dense): Linear(in_features=768, out_features=3072, bias=True)\n",
            "              )\n",
            "              (output): BertOutput(\n",
            "                (dense): Linear(in_features=3072, out_features=768, bias=True)\n",
            "                (LayerNorm): LayerNorm((768,), eps=1e-12, elementwise_affine=True)\n",
            "                (dropout): Dropout(p=0.1, inplace=False)\n",
            "              )\n",
            "            )\n",
            "            (11): BertLayer(\n",
            "              (attention): BertAttention(\n",
            "                (self): BertSelfAttention(\n",
            "                  (query): Linear(in_features=768, out_features=768, bias=True)\n",
            "                  (key): Linear(in_features=768, out_features=768, bias=True)\n",
            "                  (value): Linear(in_features=768, out_features=768, bias=True)\n",
            "                  (dropout): Dropout(p=0.1, inplace=False)\n",
            "                )\n",
            "                (output): BertSelfOutput(\n",
            "                  (dense): Linear(in_features=768, out_features=768, bias=True)\n",
            "                  (LayerNorm): LayerNorm((768,), eps=1e-12, elementwise_affine=True)\n",
            "                  (dropout): Dropout(p=0.1, inplace=False)\n",
            "                )\n",
            "              )\n",
            "              (intermediate): BertIntermediate(\n",
            "                (dense): Linear(in_features=768, out_features=3072, bias=True)\n",
            "              )\n",
            "              (output): BertOutput(\n",
            "                (dense): Linear(in_features=3072, out_features=768, bias=True)\n",
            "                (LayerNorm): LayerNorm((768,), eps=1e-12, elementwise_affine=True)\n",
            "                (dropout): Dropout(p=0.1, inplace=False)\n",
            "              )\n",
            "            )\n",
            "          )\n",
            "        )\n",
            "        (pooler): BertPooler(\n",
            "          (dense): Linear(in_features=768, out_features=768, bias=True)\n",
            "          (activation): Tanh()\n",
            "        )\n",
            "      )\n",
            "      (dropout): Dropout(p=0.3, inplace=False)\n",
            "    )\n",
            "    (pos_embeddings): POSEmbeddings(\n",
            "      (embeddings): Embedding(44, 32, padding_idx=0)\n",
            "      (dropout): Dropout(p=0.3, inplace=False)\n",
            "    )\n",
            "    (dropout): Dropout(p=0.3, inplace=False)\n",
            "  )\n",
            "  (decoder): Decoder(\n",
            "    (dec_att): Attention(\n",
            "      (linear_ctx): Linear(in_features=800, out_features=800, bias=False)\n",
            "      (linear_query): Linear(in_features=800, out_features=800, bias=True)\n",
            "      (v): Linear(in_features=800, out_features=1, bias=True)\n",
            "    )\n",
            "    (span_att): Attention(\n",
            "      (linear_ctx): Linear(in_features=800, out_features=800, bias=False)\n",
            "      (linear_query): Linear(in_features=3200, out_features=800, bias=True)\n",
            "      (v): Linear(in_features=800, out_features=1, bias=True)\n",
            "    )\n",
            "    (lstm): LSTMCell(4800, 800)\n",
            "    (ap_first_pointer_lstm): LSTM(1600, 400, batch_first=True, bidirectional=True)\n",
            "    (op_second_pointer_lstm): LSTM(2400, 400, batch_first=True, bidirectional=True)\n",
            "    (ap_start_lin): Linear(in_features=800, out_features=1, bias=True)\n",
            "    (ap_end_lin): Linear(in_features=800, out_features=1, bias=True)\n",
            "    (op_start_lin): Linear(in_features=800, out_features=1, bias=True)\n",
            "    (op_end_lin): Linear(in_features=800, out_features=1, bias=True)\n",
            "    (dropout): Dropout(p=0.3, inplace=False)\n",
            "  )\n",
            "  (dropout): Dropout(p=0.3, inplace=False)\n",
            ")\n",
            "AdamW (\n",
            "Parameter Group 0\n",
            "    betas: (0.9, 0.999)\n",
            "    correct_bias: False\n",
            "    eps: 1e-06\n",
            "    lr: 1e-05\n",
            "    weight_decay: 1e-05\n",
            ")\n",
            "Epoch:  1\n",
            "100% 310/310 [04:01<00:00,  1.29it/s]\n",
            "Training loss:  5.406366817412838\n",
            "Cardinality loss:  0.0\n",
            "Training time:  0:04:01.047659\n",
            "\n",
            "Dev Results\n",
            "\n",
            "100% 77/77 [00:25<00:00,  2.97it/s]\n",
            "Prediction time:  0:00:25.883575\n",
            "WARNING:root:get_tokens_sequence \"dea\" discarded\n",
            "Prec.: 0.727\tRec.: 0.718\tToken F1.: 0.721\tEM F1:0.543\n",
            "model saved......\n",
            "\n",
            "\n",
            "\n",
            "Epoch:  2\n",
            "100% 310/310 [04:04<00:00,  1.27it/s]\n",
            "Training loss:  1.9058205712706813\n",
            "Cardinality loss:  0.0\n",
            "Training time:  0:04:04.121651\n",
            "\n",
            "Dev Results\n",
            "\n",
            "100% 77/77 [00:26<00:00,  2.91it/s]\n",
            "Prediction time:  0:00:26.469583\n",
            "WARNING:root:get_tokens_sequence \"dea\" discarded\n",
            "Prec.: 0.794\tRec.: 0.781\tToken F1.: 0.785\tEM F1:0.607\n",
            "model saved......\n",
            "\n",
            "\n",
            "\n",
            "Epoch:  3\n",
            "100% 310/310 [04:03<00:00,  1.27it/s]\n",
            "Training loss:  1.0747269224014975\n",
            "Cardinality loss:  0.0\n",
            "Training time:  0:04:03.944180\n",
            "\n",
            "Dev Results\n",
            "\n",
            "100% 77/77 [00:26<00:00,  2.96it/s]\n",
            "Prediction time:  0:00:26.001584\n",
            "WARNING:root:get_tokens_sequence \"dea\" discarded\n",
            "Prec.: 0.816\tRec.: 0.808\tToken F1.: 0.81\tEM F1:0.686\n",
            "model saved......\n",
            "\n",
            "\n",
            "\n",
            "Epoch:  4\n",
            "100% 310/310 [04:02<00:00,  1.28it/s]\n",
            "Training loss:  0.7112693197544544\n",
            "Cardinality loss:  0.0\n",
            "Training time:  0:04:02.280222\n",
            "\n",
            "Dev Results\n",
            "\n",
            "100% 77/77 [00:25<00:00,  2.97it/s]\n",
            "Prediction time:  0:00:25.916344\n",
            "WARNING:root:get_tokens_sequence \"dea\" discarded\n",
            "Prec.: 0.808\tRec.: 0.797\tToken F1.: 0.8\tEM F1:0.672\n",
            "\n",
            "\n",
            "\n",
            "Epoch:  5\n",
            "100% 310/310 [04:00<00:00,  1.29it/s]\n",
            "Training loss:  0.5107728817410047\n",
            "Cardinality loss:  0.0\n",
            "Training time:  0:04:00.730087\n",
            "\n",
            "Dev Results\n",
            "\n",
            "100% 77/77 [00:25<00:00,  2.97it/s]\n",
            "Prediction time:  0:00:25.961902\n",
            "WARNING:root:get_tokens_sequence \"dea\" discarded\n",
            "Prec.: 0.816\tRec.: 0.801\tToken F1.: 0.805\tEM F1:0.666\n",
            "\n",
            "\n",
            "\n",
            "Epoch:  6\n",
            "100% 310/310 [04:00<00:00,  1.29it/s]\n",
            "Training loss:  0.42701502198413493\n",
            "Cardinality loss:  0.0\n",
            "Training time:  0:04:00.129913\n",
            "\n",
            "Dev Results\n",
            "\n",
            "100% 77/77 [00:25<00:00,  2.97it/s]\n",
            "Prediction time:  0:00:25.946336\n",
            "WARNING:root:get_tokens_sequence \"dea\" discarded\n",
            "Prec.: 0.821\tRec.: 0.805\tToken F1.: 0.81\tEM F1:0.669\n",
            "\n",
            "\n",
            "\n",
            "Epoch:  7\n",
            "100% 310/310 [03:58<00:00,  1.30it/s]\n",
            "Training loss:  0.3342505591410783\n",
            "Cardinality loss:  0.0\n",
            "Training time:  0:03:58.624649\n",
            "\n",
            "Dev Results\n",
            "\n",
            "100% 77/77 [00:25<00:00,  2.96it/s]\n",
            "Prediction time:  0:00:25.991799\n",
            "WARNING:root:get_tokens_sequence \"dea\" discarded\n",
            "Prec.: 0.825\tRec.: 0.819\tToken F1.: 0.821\tEM F1:0.695\n",
            "model saved......\n",
            "\n",
            "\n",
            "\n",
            "Epoch:  8\n",
            "100% 310/310 [04:01<00:00,  1.29it/s]\n",
            "Training loss:  0.31273646838662605\n",
            "Cardinality loss:  0.0\n",
            "Training time:  0:04:01.054231\n",
            "\n",
            "Dev Results\n",
            "\n",
            "100% 77/77 [00:25<00:00,  2.96it/s]\n",
            "Prediction time:  0:00:25.971383\n",
            "WARNING:root:get_tokens_sequence \"dea\" discarded\n",
            "Prec.: 0.808\tRec.: 0.8\tToken F1.: 0.802\tEM F1:0.686\n",
            "\n",
            "\n",
            "\n",
            "Epoch:  9\n",
            "100% 310/310 [04:03<00:00,  1.27it/s]\n",
            "Training loss:  0.2537554537637099\n",
            "Cardinality loss:  0.0\n",
            "Training time:  0:04:03.274751\n",
            "\n",
            "Dev Results\n",
            "\n",
            "100% 77/77 [00:26<00:00,  2.96it/s]\n",
            "Prediction time:  0:00:26.002148\n",
            "WARNING:root:get_tokens_sequence \"dea\" discarded\n",
            "Prec.: 0.811\tRec.: 0.799\tToken F1.: 0.802\tEM F1:0.674\n",
            "\n",
            "\n",
            "\n",
            "Epoch:  10\n",
            "100% 310/310 [03:58<00:00,  1.30it/s]\n",
            "Training loss:  0.20716653153780967\n",
            "Cardinality loss:  0.0\n",
            "Training time:  0:03:58.314949\n",
            "\n",
            "Dev Results\n",
            "\n",
            "100% 77/77 [00:25<00:00,  2.98it/s]\n",
            "Prediction time:  0:00:25.873157\n",
            "WARNING:root:get_tokens_sequence \"dea\" discarded\n",
            "Prec.: 0.825\tRec.: 0.813\tToken F1.: 0.816\tEM F1:0.68\n",
            "\n",
            "\n",
            "\n",
            "Epoch:  11\n",
            "100% 310/310 [04:01<00:00,  1.28it/s]\n",
            "Training loss:  0.16388768868731154\n",
            "Cardinality loss:  0.0\n",
            "Training time:  0:04:01.274017\n",
            "\n",
            "Dev Results\n",
            "\n",
            "100% 77/77 [00:25<00:00,  2.97it/s]\n",
            "Prediction time:  0:00:25.904513\n",
            "WARNING:root:get_tokens_sequence \"dea\" discarded\n",
            "Prec.: 0.818\tRec.: 0.811\tToken F1.: 0.813\tEM F1:0.672\n",
            "\n",
            "\n",
            "\n",
            "Epoch:  12\n",
            "100% 310/310 [04:01<00:00,  1.28it/s]\n",
            "Training loss:  0.1450837268159845\n",
            "Cardinality loss:  0.0\n",
            "Training time:  0:04:01.701731\n",
            "\n",
            "Dev Results\n",
            "\n",
            "100% 77/77 [00:25<00:00,  2.97it/s]\n",
            "Prediction time:  0:00:25.940938\n",
            "WARNING:root:get_tokens_sequence \"dea\" discarded\n",
            "Prec.: 0.816\tRec.: 0.808\tToken F1.: 0.81\tEM F1:0.689\n",
            "\n",
            "\n",
            "\n",
            "Epoch:  13\n",
            "100% 310/310 [03:59<00:00,  1.30it/s]\n",
            "Training loss:  0.11503293462991414\n",
            "Cardinality loss:  0.0\n",
            "Training time:  0:03:59.279028\n",
            "\n",
            "Dev Results\n",
            "\n",
            "100% 77/77 [00:25<00:00,  2.96it/s]\n",
            "Prediction time:  0:00:25.978119\n",
            "WARNING:root:get_tokens_sequence \"dea\" discarded\n",
            "Prec.: 0.817\tRec.: 0.809\tToken F1.: 0.811\tEM F1:0.674\n",
            "\n",
            "\n",
            "\n",
            "Epoch:  14\n",
            "100% 310/310 [04:02<00:00,  1.28it/s]\n",
            "Training loss:  0.09674780170748672\n",
            "Cardinality loss:  0.0\n",
            "Training time:  0:04:02.348397\n",
            "\n",
            "Dev Results\n",
            "\n",
            "100% 77/77 [00:25<00:00,  2.97it/s]\n",
            "Prediction time:  0:00:25.926719\n",
            "WARNING:root:get_tokens_sequence \"dea\" discarded\n",
            "Prec.: 0.823\tRec.: 0.811\tToken F1.: 0.814\tEM F1:0.68\n",
            "\n",
            "\n",
            "\n",
            "Epoch:  15\n",
            " 34% 105/310 [01:22<02:57,  1.16it/s]"
          ]
        }
      ]
    },
    {
      "cell_type": "code",
      "source": [
        "!zip /content/task2.zip /content/CEPN/target_dir_2020train_2022evaluate/task2.csv"
      ],
      "metadata": {
        "id": "nzCg5xyO2S8H"
      },
      "execution_count": null,
      "outputs": []
    },
    {
      "cell_type": "code",
      "source": [
        "files.download(\"/content/task2.zip\")"
      ],
      "metadata": {
        "id": "PnLQhYa-3A89"
      },
      "execution_count": null,
      "outputs": []
    },
    {
      "cell_type": "code",
      "source": [
        "files.download(\"/content/CEPN/target_dir_2020train_2022evaluate/training.log\")"
      ],
      "metadata": {
        "id": "gMGLLsV1PkP-"
      },
      "execution_count": null,
      "outputs": []
    },
    {
      "cell_type": "code",
      "source": [
        "!zip -r /content/model_2020.zip /content/CEPN/target_dir_2020train_2022evaluate/"
      ],
      "metadata": {
        "id": "qt0gZm-a62eX"
      },
      "execution_count": null,
      "outputs": []
    },
    {
      "cell_type": "code",
      "source": [
        "files.download(\"/content/model_2020.zip\")"
      ],
      "metadata": {
        "id": "BBnT6Jrt7ReO"
      },
      "execution_count": null,
      "outputs": []
    },
    {
      "cell_type": "markdown",
      "source": [
        "# Push this notebook to https://github.com/sohomghosh/CEPN after the competition FinCausal"
      ],
      "metadata": {
        "id": "NglSEtKhgRlV"
      }
    },
    {
      "cell_type": "code",
      "source": [
        "!mkdir /content/CEPN/FinCausal2022TillDate/data/"
      ],
      "metadata": {
        "id": "OEvlKmAYp01E"
      },
      "execution_count": 119,
      "outputs": []
    },
    {
      "cell_type": "code",
      "source": [
        "!wget https://raw.githubusercontent.com/sohomghosh/CEPN/main/FinCausal2022TillDate/train_out_bert_large_file_json_till2022.json -P /content/CEPN/FinCausal2022TillDate/data/"
      ],
      "metadata": {
        "colab": {
          "base_uri": "https://localhost:8080/"
        },
        "id": "-0OpLPEnob8F",
        "outputId": "4fe3d02f-116a-45df-9fcc-532651d30401"
      },
      "execution_count": 120,
      "outputs": [
        {
          "output_type": "stream",
          "name": "stdout",
          "text": [
            "--2022-04-09 09:39:50--  https://raw.githubusercontent.com/sohomghosh/CEPN/main/FinCausal2022TillDate/train_out_bert_large_file_json_till2022.json\n",
            "Resolving raw.githubusercontent.com (raw.githubusercontent.com)... 185.199.108.133, 185.199.109.133, 185.199.110.133, ...\n",
            "Connecting to raw.githubusercontent.com (raw.githubusercontent.com)|185.199.108.133|:443... connected.\n",
            "HTTP request sent, awaiting response... 200 OK\n",
            "Length: 5895994 (5.6M) [text/plain]\n",
            "Saving to: ‘/content/CEPN/FinCausal2022TillDate/data/train_out_bert_large_file_json_till2022.json’\n",
            "\n",
            "train_out_bert_larg 100%[===================>]   5.62M  --.-KB/s    in 0.09s   \n",
            "\n",
            "2022-04-09 09:39:50 (65.0 MB/s) - ‘/content/CEPN/FinCausal2022TillDate/data/train_out_bert_large_file_json_till2022.json’ saved [5895994/5895994]\n",
            "\n"
          ]
        }
      ]
    },
    {
      "cell_type": "code",
      "source": [
        "!rm /content/CEPN/config_large_new_alldata_till2022.ini\n",
        "!wget https://raw.githubusercontent.com/sohomghosh/CEPN/main/config_large_new_alldata_till2022.ini -P /content/CEPN/"
      ],
      "metadata": {
        "colab": {
          "base_uri": "https://localhost:8080/"
        },
        "id": "MQxKGoi5qGGl",
        "outputId": "1efe82d3-532b-4a9c-878b-e4881ae430a5"
      },
      "execution_count": 124,
      "outputs": [
        {
          "output_type": "stream",
          "name": "stdout",
          "text": [
            "--2022-04-09 09:42:35--  https://raw.githubusercontent.com/sohomghosh/CEPN/main/config_large_new_alldata_till2022.ini\n",
            "Resolving raw.githubusercontent.com (raw.githubusercontent.com)... 185.199.108.133, 185.199.109.133, 185.199.111.133, ...\n",
            "Connecting to raw.githubusercontent.com (raw.githubusercontent.com)|185.199.108.133|:443... connected.\n",
            "HTTP request sent, awaiting response... 200 OK\n",
            "Length: 2021 (2.0K) [text/plain]\n",
            "Saving to: ‘/content/CEPN/config_large_new_alldata_till2022.ini’\n",
            "\n",
            "\r          config_la   0%[                    ]       0  --.-KB/s               \rconfig_large_new_al 100%[===================>]   1.97K  --.-KB/s    in 0s      \n",
            "\n",
            "2022-04-09 09:42:35 (22.6 MB/s) - ‘/content/CEPN/config_large_new_alldata_till2022.ini’ saved [2021/2021]\n",
            "\n"
          ]
        }
      ]
    },
    {
      "cell_type": "code",
      "source": [
        "!rm /content/CEPN/cepn.py\n",
        "!wget https://raw.githubusercontent.com/sohomghosh/CEPN/main/cepn.py -P /content/CEPN/"
      ],
      "metadata": {
        "colab": {
          "base_uri": "https://localhost:8080/"
        },
        "id": "Gys8oCIhr7aj",
        "outputId": "01d4b550-1044-4cf6-ff34-1be7cdc42929"
      },
      "execution_count": 117,
      "outputs": [
        {
          "output_type": "stream",
          "name": "stdout",
          "text": [
            "--2022-04-09 09:39:07--  https://raw.githubusercontent.com/sohomghosh/CEPN/main/cepn.py\n",
            "Resolving raw.githubusercontent.com (raw.githubusercontent.com)... 185.199.108.133, 185.199.109.133, 185.199.110.133, ...\n",
            "Connecting to raw.githubusercontent.com (raw.githubusercontent.com)|185.199.108.133|:443... connected.\n",
            "HTTP request sent, awaiting response... 200 OK\n",
            "Length: 72682 (71K) [text/plain]\n",
            "Saving to: ‘/content/CEPN/cepn.py’\n",
            "\n",
            "\rcepn.py               0%[                    ]       0  --.-KB/s               \rcepn.py             100%[===================>]  70.98K  --.-KB/s    in 0.01s   \n",
            "\n",
            "2022-04-09 09:39:07 (5.57 MB/s) - ‘/content/CEPN/cepn.py’ saved [72682/72682]\n",
            "\n"
          ]
        }
      ]
    },
    {
      "cell_type": "code",
      "source": [
        "!rm /content/CEPN/FinCausal2022TillDate/out_bert_large_file_json_task2_add2022.json\n",
        "!wget https://raw.githubusercontent.com/sohomghosh/CEPN/main/out_bert_large_file_json_task2_add2022.json -P /content/CEPN/FinCausal2022TillDate/data/"
      ],
      "metadata": {
        "colab": {
          "base_uri": "https://localhost:8080/"
        },
        "id": "g2uqFdgyuWfi",
        "outputId": "7fd679b8-3460-4e24-e593-3001b0d4f5fe"
      },
      "execution_count": 130,
      "outputs": [
        {
          "output_type": "stream",
          "name": "stdout",
          "text": [
            "rm: cannot remove '/content/CEPN/FinCausal2022TillDate/out_bert_large_file_json_task2_add2022.json': No such file or directory\n",
            "--2022-04-09 09:53:00--  https://raw.githubusercontent.com/sohomghosh/CEPN/main/out_bert_large_file_json_task2_add2022.json\n",
            "Resolving raw.githubusercontent.com (raw.githubusercontent.com)... 185.199.111.133, 185.199.109.133, 185.199.108.133, ...\n",
            "Connecting to raw.githubusercontent.com (raw.githubusercontent.com)|185.199.111.133|:443... connected.\n",
            "HTTP request sent, awaiting response... 200 OK\n",
            "Length: 1737063 (1.7M) [text/plain]\n",
            "Saving to: ‘/content/CEPN/FinCausal2022TillDate/data/out_bert_large_file_json_task2_add2022.json’\n",
            "\n",
            "out_bert_large_file 100%[===================>]   1.66M  --.-KB/s    in 0.06s   \n",
            "\n",
            "2022-04-09 09:53:00 (29.5 MB/s) - ‘/content/CEPN/FinCausal2022TillDate/data/out_bert_large_file_json_task2_add2022.json’ saved [1737063/1737063]\n",
            "\n"
          ]
        }
      ]
    },
    {
      "cell_type": "code",
      "source": [
        "!rm /content/CEPN/FinCausal2022TillDate/blind_fnp2022-fincausal-task2.csv\n",
        "!wget https://raw.githubusercontent.com/yseop/YseopLab/develop/FNP_2022_FinCausal/data/blind_fnp2022-fincausal-task2.csv -P /content/CEPN/FinCausal2022TillDate/data/"
      ],
      "metadata": {
        "colab": {
          "base_uri": "https://localhost:8080/"
        },
        "id": "S0AzXqgAuyFN",
        "outputId": "98cbb108-ff30-4731-836d-2efec20acb89"
      },
      "execution_count": 129,
      "outputs": [
        {
          "output_type": "stream",
          "name": "stdout",
          "text": [
            "rm: cannot remove '/content/CEPN/FinCausal2022TillDate/blind_fnp2022-fincausal-task2.csv': No such file or directory\n",
            "--2022-04-09 09:52:47--  https://raw.githubusercontent.com/yseop/YseopLab/develop/FNP_2022_FinCausal/data/blind_fnp2022-fincausal-task2.csv\n",
            "Resolving raw.githubusercontent.com (raw.githubusercontent.com)... 185.199.108.133, 185.199.109.133, 185.199.111.133, ...\n",
            "Connecting to raw.githubusercontent.com (raw.githubusercontent.com)|185.199.108.133|:443... connected.\n",
            "HTTP request sent, awaiting response... 200 OK\n",
            "Length: 259452 (253K) [text/plain]\n",
            "Saving to: ‘/content/CEPN/FinCausal2022TillDate/data/blind_fnp2022-fincausal-task2.csv’\n",
            "\n",
            "blind_fnp2022-finca 100%[===================>] 253.37K  --.-KB/s    in 0.03s   \n",
            "\n",
            "2022-04-09 09:52:47 (8.83 MB/s) - ‘/content/CEPN/FinCausal2022TillDate/data/blind_fnp2022-fincausal-task2.csv’ saved [259452/259452]\n",
            "\n"
          ]
        }
      ]
    },
    {
      "cell_type": "code",
      "source": [
        "!python cepn.py FinCausal2022TillDate config_large_new_alldata_till2022.ini target_dir_2022till_train_2022evaluate train"
      ],
      "metadata": {
        "colab": {
          "base_uri": "https://localhost:8080/"
        },
        "id": "St02-cSVqacP",
        "outputId": "855148fb-58c3-4b08-c1a8-e7fd4552ac59"
      },
      "execution_count": null,
      "outputs": [
        {
          "output_type": "stream",
          "name": "stdout",
          "text": [
            "Experiment time:   2022-04-09 09:53:11.114066\n",
            "['cepn.py', 'FinCausal2022TillDate', 'config_large_new_alldata_till2022.ini', 'target_dir_2022till_train_2022evaluate', 'train']\n",
            "{'random_seed': '1023', 'bert_model_name': 'bert-large-cased', 'bert_tokenizer_name': 'bert-large-cased', 'bert_hidden_size': '1024', 'update_bert': 'True', 'do_lower_case': 'False', 'update_freq': '1', 'att_type': '2', 'use_pos_tags': 'True', 'pos_dim': '32', 'use_char_feature': 'False', 'char_embed_dim': '30', 'char_feature_dim': '30', 'conv_filter_size': '3', 'max_word_len': '25', 'use_orthogonality': 'False', 'generation_order': 'CauseFirst'}\n",
            "{'data_dir': 'FinCausal2022TillDate/data', 'train_file': 'train_out_bert_large_file_json_till2022.json', 'test_file': 'out_bert_large_file_json_task2_add2022.json', 'test_file_csv': 'blind_fnp2022-fincausal-task2.csv', 'batch_size': '2', 'num_epoch': '20', 'drop_rate': '0.3', 'max_src_token': '500', 'max_trg_steps': '5', 'dev_percent': '0.2', 'early_stop': '10', 'train_on_full': 'False', 'mfc': '1', 'max_span_percent': '0.8', 'use_cardinality': 'False', 'use_sent_boundary_tag': 'False', 'sent_boundary_tag_dim': '20', 'metric': 'Token_F1'}\n",
            "loading data......\n",
            "Total data:  2525\n",
            "Training data size:  2020\n",
            "Development data size:  505\n",
            "Test data size:  933\n",
            "Training started......\n",
            "Max cardinality:  4\n",
            "Max span:  316\n",
            "1010\n",
            "Downloading: 100% 1.34G/1.34G [00:27<00:00, 48.8MB/s]\n",
            "Parameters size:  399407494\n",
            "Seq2SeqModel(\n",
            "  (encoder): Encoder(\n",
            "    (bert_vec): BERT(\n",
            "      (bert): BertModel(\n",
            "        (embeddings): BertEmbeddings(\n",
            "          (word_embeddings): Embedding(28996, 1024, padding_idx=0)\n",
            "          (position_embeddings): Embedding(512, 1024)\n",
            "          (token_type_embeddings): Embedding(2, 1024)\n",
            "          (LayerNorm): LayerNorm((1024,), eps=1e-12, elementwise_affine=True)\n",
            "          (dropout): Dropout(p=0.1, inplace=False)\n",
            "        )\n",
            "        (encoder): BertEncoder(\n",
            "          (layer): ModuleList(\n",
            "            (0): BertLayer(\n",
            "              (attention): BertAttention(\n",
            "                (self): BertSelfAttention(\n",
            "                  (query): Linear(in_features=1024, out_features=1024, bias=True)\n",
            "                  (key): Linear(in_features=1024, out_features=1024, bias=True)\n",
            "                  (value): Linear(in_features=1024, out_features=1024, bias=True)\n",
            "                  (dropout): Dropout(p=0.1, inplace=False)\n",
            "                )\n",
            "                (output): BertSelfOutput(\n",
            "                  (dense): Linear(in_features=1024, out_features=1024, bias=True)\n",
            "                  (LayerNorm): LayerNorm((1024,), eps=1e-12, elementwise_affine=True)\n",
            "                  (dropout): Dropout(p=0.1, inplace=False)\n",
            "                )\n",
            "              )\n",
            "              (intermediate): BertIntermediate(\n",
            "                (dense): Linear(in_features=1024, out_features=4096, bias=True)\n",
            "              )\n",
            "              (output): BertOutput(\n",
            "                (dense): Linear(in_features=4096, out_features=1024, bias=True)\n",
            "                (LayerNorm): LayerNorm((1024,), eps=1e-12, elementwise_affine=True)\n",
            "                (dropout): Dropout(p=0.1, inplace=False)\n",
            "              )\n",
            "            )\n",
            "            (1): BertLayer(\n",
            "              (attention): BertAttention(\n",
            "                (self): BertSelfAttention(\n",
            "                  (query): Linear(in_features=1024, out_features=1024, bias=True)\n",
            "                  (key): Linear(in_features=1024, out_features=1024, bias=True)\n",
            "                  (value): Linear(in_features=1024, out_features=1024, bias=True)\n",
            "                  (dropout): Dropout(p=0.1, inplace=False)\n",
            "                )\n",
            "                (output): BertSelfOutput(\n",
            "                  (dense): Linear(in_features=1024, out_features=1024, bias=True)\n",
            "                  (LayerNorm): LayerNorm((1024,), eps=1e-12, elementwise_affine=True)\n",
            "                  (dropout): Dropout(p=0.1, inplace=False)\n",
            "                )\n",
            "              )\n",
            "              (intermediate): BertIntermediate(\n",
            "                (dense): Linear(in_features=1024, out_features=4096, bias=True)\n",
            "              )\n",
            "              (output): BertOutput(\n",
            "                (dense): Linear(in_features=4096, out_features=1024, bias=True)\n",
            "                (LayerNorm): LayerNorm((1024,), eps=1e-12, elementwise_affine=True)\n",
            "                (dropout): Dropout(p=0.1, inplace=False)\n",
            "              )\n",
            "            )\n",
            "            (2): BertLayer(\n",
            "              (attention): BertAttention(\n",
            "                (self): BertSelfAttention(\n",
            "                  (query): Linear(in_features=1024, out_features=1024, bias=True)\n",
            "                  (key): Linear(in_features=1024, out_features=1024, bias=True)\n",
            "                  (value): Linear(in_features=1024, out_features=1024, bias=True)\n",
            "                  (dropout): Dropout(p=0.1, inplace=False)\n",
            "                )\n",
            "                (output): BertSelfOutput(\n",
            "                  (dense): Linear(in_features=1024, out_features=1024, bias=True)\n",
            "                  (LayerNorm): LayerNorm((1024,), eps=1e-12, elementwise_affine=True)\n",
            "                  (dropout): Dropout(p=0.1, inplace=False)\n",
            "                )\n",
            "              )\n",
            "              (intermediate): BertIntermediate(\n",
            "                (dense): Linear(in_features=1024, out_features=4096, bias=True)\n",
            "              )\n",
            "              (output): BertOutput(\n",
            "                (dense): Linear(in_features=4096, out_features=1024, bias=True)\n",
            "                (LayerNorm): LayerNorm((1024,), eps=1e-12, elementwise_affine=True)\n",
            "                (dropout): Dropout(p=0.1, inplace=False)\n",
            "              )\n",
            "            )\n",
            "            (3): BertLayer(\n",
            "              (attention): BertAttention(\n",
            "                (self): BertSelfAttention(\n",
            "                  (query): Linear(in_features=1024, out_features=1024, bias=True)\n",
            "                  (key): Linear(in_features=1024, out_features=1024, bias=True)\n",
            "                  (value): Linear(in_features=1024, out_features=1024, bias=True)\n",
            "                  (dropout): Dropout(p=0.1, inplace=False)\n",
            "                )\n",
            "                (output): BertSelfOutput(\n",
            "                  (dense): Linear(in_features=1024, out_features=1024, bias=True)\n",
            "                  (LayerNorm): LayerNorm((1024,), eps=1e-12, elementwise_affine=True)\n",
            "                  (dropout): Dropout(p=0.1, inplace=False)\n",
            "                )\n",
            "              )\n",
            "              (intermediate): BertIntermediate(\n",
            "                (dense): Linear(in_features=1024, out_features=4096, bias=True)\n",
            "              )\n",
            "              (output): BertOutput(\n",
            "                (dense): Linear(in_features=4096, out_features=1024, bias=True)\n",
            "                (LayerNorm): LayerNorm((1024,), eps=1e-12, elementwise_affine=True)\n",
            "                (dropout): Dropout(p=0.1, inplace=False)\n",
            "              )\n",
            "            )\n",
            "            (4): BertLayer(\n",
            "              (attention): BertAttention(\n",
            "                (self): BertSelfAttention(\n",
            "                  (query): Linear(in_features=1024, out_features=1024, bias=True)\n",
            "                  (key): Linear(in_features=1024, out_features=1024, bias=True)\n",
            "                  (value): Linear(in_features=1024, out_features=1024, bias=True)\n",
            "                  (dropout): Dropout(p=0.1, inplace=False)\n",
            "                )\n",
            "                (output): BertSelfOutput(\n",
            "                  (dense): Linear(in_features=1024, out_features=1024, bias=True)\n",
            "                  (LayerNorm): LayerNorm((1024,), eps=1e-12, elementwise_affine=True)\n",
            "                  (dropout): Dropout(p=0.1, inplace=False)\n",
            "                )\n",
            "              )\n",
            "              (intermediate): BertIntermediate(\n",
            "                (dense): Linear(in_features=1024, out_features=4096, bias=True)\n",
            "              )\n",
            "              (output): BertOutput(\n",
            "                (dense): Linear(in_features=4096, out_features=1024, bias=True)\n",
            "                (LayerNorm): LayerNorm((1024,), eps=1e-12, elementwise_affine=True)\n",
            "                (dropout): Dropout(p=0.1, inplace=False)\n",
            "              )\n",
            "            )\n",
            "            (5): BertLayer(\n",
            "              (attention): BertAttention(\n",
            "                (self): BertSelfAttention(\n",
            "                  (query): Linear(in_features=1024, out_features=1024, bias=True)\n",
            "                  (key): Linear(in_features=1024, out_features=1024, bias=True)\n",
            "                  (value): Linear(in_features=1024, out_features=1024, bias=True)\n",
            "                  (dropout): Dropout(p=0.1, inplace=False)\n",
            "                )\n",
            "                (output): BertSelfOutput(\n",
            "                  (dense): Linear(in_features=1024, out_features=1024, bias=True)\n",
            "                  (LayerNorm): LayerNorm((1024,), eps=1e-12, elementwise_affine=True)\n",
            "                  (dropout): Dropout(p=0.1, inplace=False)\n",
            "                )\n",
            "              )\n",
            "              (intermediate): BertIntermediate(\n",
            "                (dense): Linear(in_features=1024, out_features=4096, bias=True)\n",
            "              )\n",
            "              (output): BertOutput(\n",
            "                (dense): Linear(in_features=4096, out_features=1024, bias=True)\n",
            "                (LayerNorm): LayerNorm((1024,), eps=1e-12, elementwise_affine=True)\n",
            "                (dropout): Dropout(p=0.1, inplace=False)\n",
            "              )\n",
            "            )\n",
            "            (6): BertLayer(\n",
            "              (attention): BertAttention(\n",
            "                (self): BertSelfAttention(\n",
            "                  (query): Linear(in_features=1024, out_features=1024, bias=True)\n",
            "                  (key): Linear(in_features=1024, out_features=1024, bias=True)\n",
            "                  (value): Linear(in_features=1024, out_features=1024, bias=True)\n",
            "                  (dropout): Dropout(p=0.1, inplace=False)\n",
            "                )\n",
            "                (output): BertSelfOutput(\n",
            "                  (dense): Linear(in_features=1024, out_features=1024, bias=True)\n",
            "                  (LayerNorm): LayerNorm((1024,), eps=1e-12, elementwise_affine=True)\n",
            "                  (dropout): Dropout(p=0.1, inplace=False)\n",
            "                )\n",
            "              )\n",
            "              (intermediate): BertIntermediate(\n",
            "                (dense): Linear(in_features=1024, out_features=4096, bias=True)\n",
            "              )\n",
            "              (output): BertOutput(\n",
            "                (dense): Linear(in_features=4096, out_features=1024, bias=True)\n",
            "                (LayerNorm): LayerNorm((1024,), eps=1e-12, elementwise_affine=True)\n",
            "                (dropout): Dropout(p=0.1, inplace=False)\n",
            "              )\n",
            "            )\n",
            "            (7): BertLayer(\n",
            "              (attention): BertAttention(\n",
            "                (self): BertSelfAttention(\n",
            "                  (query): Linear(in_features=1024, out_features=1024, bias=True)\n",
            "                  (key): Linear(in_features=1024, out_features=1024, bias=True)\n",
            "                  (value): Linear(in_features=1024, out_features=1024, bias=True)\n",
            "                  (dropout): Dropout(p=0.1, inplace=False)\n",
            "                )\n",
            "                (output): BertSelfOutput(\n",
            "                  (dense): Linear(in_features=1024, out_features=1024, bias=True)\n",
            "                  (LayerNorm): LayerNorm((1024,), eps=1e-12, elementwise_affine=True)\n",
            "                  (dropout): Dropout(p=0.1, inplace=False)\n",
            "                )\n",
            "              )\n",
            "              (intermediate): BertIntermediate(\n",
            "                (dense): Linear(in_features=1024, out_features=4096, bias=True)\n",
            "              )\n",
            "              (output): BertOutput(\n",
            "                (dense): Linear(in_features=4096, out_features=1024, bias=True)\n",
            "                (LayerNorm): LayerNorm((1024,), eps=1e-12, elementwise_affine=True)\n",
            "                (dropout): Dropout(p=0.1, inplace=False)\n",
            "              )\n",
            "            )\n",
            "            (8): BertLayer(\n",
            "              (attention): BertAttention(\n",
            "                (self): BertSelfAttention(\n",
            "                  (query): Linear(in_features=1024, out_features=1024, bias=True)\n",
            "                  (key): Linear(in_features=1024, out_features=1024, bias=True)\n",
            "                  (value): Linear(in_features=1024, out_features=1024, bias=True)\n",
            "                  (dropout): Dropout(p=0.1, inplace=False)\n",
            "                )\n",
            "                (output): BertSelfOutput(\n",
            "                  (dense): Linear(in_features=1024, out_features=1024, bias=True)\n",
            "                  (LayerNorm): LayerNorm((1024,), eps=1e-12, elementwise_affine=True)\n",
            "                  (dropout): Dropout(p=0.1, inplace=False)\n",
            "                )\n",
            "              )\n",
            "              (intermediate): BertIntermediate(\n",
            "                (dense): Linear(in_features=1024, out_features=4096, bias=True)\n",
            "              )\n",
            "              (output): BertOutput(\n",
            "                (dense): Linear(in_features=4096, out_features=1024, bias=True)\n",
            "                (LayerNorm): LayerNorm((1024,), eps=1e-12, elementwise_affine=True)\n",
            "                (dropout): Dropout(p=0.1, inplace=False)\n",
            "              )\n",
            "            )\n",
            "            (9): BertLayer(\n",
            "              (attention): BertAttention(\n",
            "                (self): BertSelfAttention(\n",
            "                  (query): Linear(in_features=1024, out_features=1024, bias=True)\n",
            "                  (key): Linear(in_features=1024, out_features=1024, bias=True)\n",
            "                  (value): Linear(in_features=1024, out_features=1024, bias=True)\n",
            "                  (dropout): Dropout(p=0.1, inplace=False)\n",
            "                )\n",
            "                (output): BertSelfOutput(\n",
            "                  (dense): Linear(in_features=1024, out_features=1024, bias=True)\n",
            "                  (LayerNorm): LayerNorm((1024,), eps=1e-12, elementwise_affine=True)\n",
            "                  (dropout): Dropout(p=0.1, inplace=False)\n",
            "                )\n",
            "              )\n",
            "              (intermediate): BertIntermediate(\n",
            "                (dense): Linear(in_features=1024, out_features=4096, bias=True)\n",
            "              )\n",
            "              (output): BertOutput(\n",
            "                (dense): Linear(in_features=4096, out_features=1024, bias=True)\n",
            "                (LayerNorm): LayerNorm((1024,), eps=1e-12, elementwise_affine=True)\n",
            "                (dropout): Dropout(p=0.1, inplace=False)\n",
            "              )\n",
            "            )\n",
            "            (10): BertLayer(\n",
            "              (attention): BertAttention(\n",
            "                (self): BertSelfAttention(\n",
            "                  (query): Linear(in_features=1024, out_features=1024, bias=True)\n",
            "                  (key): Linear(in_features=1024, out_features=1024, bias=True)\n",
            "                  (value): Linear(in_features=1024, out_features=1024, bias=True)\n",
            "                  (dropout): Dropout(p=0.1, inplace=False)\n",
            "                )\n",
            "                (output): BertSelfOutput(\n",
            "                  (dense): Linear(in_features=1024, out_features=1024, bias=True)\n",
            "                  (LayerNorm): LayerNorm((1024,), eps=1e-12, elementwise_affine=True)\n",
            "                  (dropout): Dropout(p=0.1, inplace=False)\n",
            "                )\n",
            "              )\n",
            "              (intermediate): BertIntermediate(\n",
            "                (dense): Linear(in_features=1024, out_features=4096, bias=True)\n",
            "              )\n",
            "              (output): BertOutput(\n",
            "                (dense): Linear(in_features=4096, out_features=1024, bias=True)\n",
            "                (LayerNorm): LayerNorm((1024,), eps=1e-12, elementwise_affine=True)\n",
            "                (dropout): Dropout(p=0.1, inplace=False)\n",
            "              )\n",
            "            )\n",
            "            (11): BertLayer(\n",
            "              (attention): BertAttention(\n",
            "                (self): BertSelfAttention(\n",
            "                  (query): Linear(in_features=1024, out_features=1024, bias=True)\n",
            "                  (key): Linear(in_features=1024, out_features=1024, bias=True)\n",
            "                  (value): Linear(in_features=1024, out_features=1024, bias=True)\n",
            "                  (dropout): Dropout(p=0.1, inplace=False)\n",
            "                )\n",
            "                (output): BertSelfOutput(\n",
            "                  (dense): Linear(in_features=1024, out_features=1024, bias=True)\n",
            "                  (LayerNorm): LayerNorm((1024,), eps=1e-12, elementwise_affine=True)\n",
            "                  (dropout): Dropout(p=0.1, inplace=False)\n",
            "                )\n",
            "              )\n",
            "              (intermediate): BertIntermediate(\n",
            "                (dense): Linear(in_features=1024, out_features=4096, bias=True)\n",
            "              )\n",
            "              (output): BertOutput(\n",
            "                (dense): Linear(in_features=4096, out_features=1024, bias=True)\n",
            "                (LayerNorm): LayerNorm((1024,), eps=1e-12, elementwise_affine=True)\n",
            "                (dropout): Dropout(p=0.1, inplace=False)\n",
            "              )\n",
            "            )\n",
            "            (12): BertLayer(\n",
            "              (attention): BertAttention(\n",
            "                (self): BertSelfAttention(\n",
            "                  (query): Linear(in_features=1024, out_features=1024, bias=True)\n",
            "                  (key): Linear(in_features=1024, out_features=1024, bias=True)\n",
            "                  (value): Linear(in_features=1024, out_features=1024, bias=True)\n",
            "                  (dropout): Dropout(p=0.1, inplace=False)\n",
            "                )\n",
            "                (output): BertSelfOutput(\n",
            "                  (dense): Linear(in_features=1024, out_features=1024, bias=True)\n",
            "                  (LayerNorm): LayerNorm((1024,), eps=1e-12, elementwise_affine=True)\n",
            "                  (dropout): Dropout(p=0.1, inplace=False)\n",
            "                )\n",
            "              )\n",
            "              (intermediate): BertIntermediate(\n",
            "                (dense): Linear(in_features=1024, out_features=4096, bias=True)\n",
            "              )\n",
            "              (output): BertOutput(\n",
            "                (dense): Linear(in_features=4096, out_features=1024, bias=True)\n",
            "                (LayerNorm): LayerNorm((1024,), eps=1e-12, elementwise_affine=True)\n",
            "                (dropout): Dropout(p=0.1, inplace=False)\n",
            "              )\n",
            "            )\n",
            "            (13): BertLayer(\n",
            "              (attention): BertAttention(\n",
            "                (self): BertSelfAttention(\n",
            "                  (query): Linear(in_features=1024, out_features=1024, bias=True)\n",
            "                  (key): Linear(in_features=1024, out_features=1024, bias=True)\n",
            "                  (value): Linear(in_features=1024, out_features=1024, bias=True)\n",
            "                  (dropout): Dropout(p=0.1, inplace=False)\n",
            "                )\n",
            "                (output): BertSelfOutput(\n",
            "                  (dense): Linear(in_features=1024, out_features=1024, bias=True)\n",
            "                  (LayerNorm): LayerNorm((1024,), eps=1e-12, elementwise_affine=True)\n",
            "                  (dropout): Dropout(p=0.1, inplace=False)\n",
            "                )\n",
            "              )\n",
            "              (intermediate): BertIntermediate(\n",
            "                (dense): Linear(in_features=1024, out_features=4096, bias=True)\n",
            "              )\n",
            "              (output): BertOutput(\n",
            "                (dense): Linear(in_features=4096, out_features=1024, bias=True)\n",
            "                (LayerNorm): LayerNorm((1024,), eps=1e-12, elementwise_affine=True)\n",
            "                (dropout): Dropout(p=0.1, inplace=False)\n",
            "              )\n",
            "            )\n",
            "            (14): BertLayer(\n",
            "              (attention): BertAttention(\n",
            "                (self): BertSelfAttention(\n",
            "                  (query): Linear(in_features=1024, out_features=1024, bias=True)\n",
            "                  (key): Linear(in_features=1024, out_features=1024, bias=True)\n",
            "                  (value): Linear(in_features=1024, out_features=1024, bias=True)\n",
            "                  (dropout): Dropout(p=0.1, inplace=False)\n",
            "                )\n",
            "                (output): BertSelfOutput(\n",
            "                  (dense): Linear(in_features=1024, out_features=1024, bias=True)\n",
            "                  (LayerNorm): LayerNorm((1024,), eps=1e-12, elementwise_affine=True)\n",
            "                  (dropout): Dropout(p=0.1, inplace=False)\n",
            "                )\n",
            "              )\n",
            "              (intermediate): BertIntermediate(\n",
            "                (dense): Linear(in_features=1024, out_features=4096, bias=True)\n",
            "              )\n",
            "              (output): BertOutput(\n",
            "                (dense): Linear(in_features=4096, out_features=1024, bias=True)\n",
            "                (LayerNorm): LayerNorm((1024,), eps=1e-12, elementwise_affine=True)\n",
            "                (dropout): Dropout(p=0.1, inplace=False)\n",
            "              )\n",
            "            )\n",
            "            (15): BertLayer(\n",
            "              (attention): BertAttention(\n",
            "                (self): BertSelfAttention(\n",
            "                  (query): Linear(in_features=1024, out_features=1024, bias=True)\n",
            "                  (key): Linear(in_features=1024, out_features=1024, bias=True)\n",
            "                  (value): Linear(in_features=1024, out_features=1024, bias=True)\n",
            "                  (dropout): Dropout(p=0.1, inplace=False)\n",
            "                )\n",
            "                (output): BertSelfOutput(\n",
            "                  (dense): Linear(in_features=1024, out_features=1024, bias=True)\n",
            "                  (LayerNorm): LayerNorm((1024,), eps=1e-12, elementwise_affine=True)\n",
            "                  (dropout): Dropout(p=0.1, inplace=False)\n",
            "                )\n",
            "              )\n",
            "              (intermediate): BertIntermediate(\n",
            "                (dense): Linear(in_features=1024, out_features=4096, bias=True)\n",
            "              )\n",
            "              (output): BertOutput(\n",
            "                (dense): Linear(in_features=4096, out_features=1024, bias=True)\n",
            "                (LayerNorm): LayerNorm((1024,), eps=1e-12, elementwise_affine=True)\n",
            "                (dropout): Dropout(p=0.1, inplace=False)\n",
            "              )\n",
            "            )\n",
            "            (16): BertLayer(\n",
            "              (attention): BertAttention(\n",
            "                (self): BertSelfAttention(\n",
            "                  (query): Linear(in_features=1024, out_features=1024, bias=True)\n",
            "                  (key): Linear(in_features=1024, out_features=1024, bias=True)\n",
            "                  (value): Linear(in_features=1024, out_features=1024, bias=True)\n",
            "                  (dropout): Dropout(p=0.1, inplace=False)\n",
            "                )\n",
            "                (output): BertSelfOutput(\n",
            "                  (dense): Linear(in_features=1024, out_features=1024, bias=True)\n",
            "                  (LayerNorm): LayerNorm((1024,), eps=1e-12, elementwise_affine=True)\n",
            "                  (dropout): Dropout(p=0.1, inplace=False)\n",
            "                )\n",
            "              )\n",
            "              (intermediate): BertIntermediate(\n",
            "                (dense): Linear(in_features=1024, out_features=4096, bias=True)\n",
            "              )\n",
            "              (output): BertOutput(\n",
            "                (dense): Linear(in_features=4096, out_features=1024, bias=True)\n",
            "                (LayerNorm): LayerNorm((1024,), eps=1e-12, elementwise_affine=True)\n",
            "                (dropout): Dropout(p=0.1, inplace=False)\n",
            "              )\n",
            "            )\n",
            "            (17): BertLayer(\n",
            "              (attention): BertAttention(\n",
            "                (self): BertSelfAttention(\n",
            "                  (query): Linear(in_features=1024, out_features=1024, bias=True)\n",
            "                  (key): Linear(in_features=1024, out_features=1024, bias=True)\n",
            "                  (value): Linear(in_features=1024, out_features=1024, bias=True)\n",
            "                  (dropout): Dropout(p=0.1, inplace=False)\n",
            "                )\n",
            "                (output): BertSelfOutput(\n",
            "                  (dense): Linear(in_features=1024, out_features=1024, bias=True)\n",
            "                  (LayerNorm): LayerNorm((1024,), eps=1e-12, elementwise_affine=True)\n",
            "                  (dropout): Dropout(p=0.1, inplace=False)\n",
            "                )\n",
            "              )\n",
            "              (intermediate): BertIntermediate(\n",
            "                (dense): Linear(in_features=1024, out_features=4096, bias=True)\n",
            "              )\n",
            "              (output): BertOutput(\n",
            "                (dense): Linear(in_features=4096, out_features=1024, bias=True)\n",
            "                (LayerNorm): LayerNorm((1024,), eps=1e-12, elementwise_affine=True)\n",
            "                (dropout): Dropout(p=0.1, inplace=False)\n",
            "              )\n",
            "            )\n",
            "            (18): BertLayer(\n",
            "              (attention): BertAttention(\n",
            "                (self): BertSelfAttention(\n",
            "                  (query): Linear(in_features=1024, out_features=1024, bias=True)\n",
            "                  (key): Linear(in_features=1024, out_features=1024, bias=True)\n",
            "                  (value): Linear(in_features=1024, out_features=1024, bias=True)\n",
            "                  (dropout): Dropout(p=0.1, inplace=False)\n",
            "                )\n",
            "                (output): BertSelfOutput(\n",
            "                  (dense): Linear(in_features=1024, out_features=1024, bias=True)\n",
            "                  (LayerNorm): LayerNorm((1024,), eps=1e-12, elementwise_affine=True)\n",
            "                  (dropout): Dropout(p=0.1, inplace=False)\n",
            "                )\n",
            "              )\n",
            "              (intermediate): BertIntermediate(\n",
            "                (dense): Linear(in_features=1024, out_features=4096, bias=True)\n",
            "              )\n",
            "              (output): BertOutput(\n",
            "                (dense): Linear(in_features=4096, out_features=1024, bias=True)\n",
            "                (LayerNorm): LayerNorm((1024,), eps=1e-12, elementwise_affine=True)\n",
            "                (dropout): Dropout(p=0.1, inplace=False)\n",
            "              )\n",
            "            )\n",
            "            (19): BertLayer(\n",
            "              (attention): BertAttention(\n",
            "                (self): BertSelfAttention(\n",
            "                  (query): Linear(in_features=1024, out_features=1024, bias=True)\n",
            "                  (key): Linear(in_features=1024, out_features=1024, bias=True)\n",
            "                  (value): Linear(in_features=1024, out_features=1024, bias=True)\n",
            "                  (dropout): Dropout(p=0.1, inplace=False)\n",
            "                )\n",
            "                (output): BertSelfOutput(\n",
            "                  (dense): Linear(in_features=1024, out_features=1024, bias=True)\n",
            "                  (LayerNorm): LayerNorm((1024,), eps=1e-12, elementwise_affine=True)\n",
            "                  (dropout): Dropout(p=0.1, inplace=False)\n",
            "                )\n",
            "              )\n",
            "              (intermediate): BertIntermediate(\n",
            "                (dense): Linear(in_features=1024, out_features=4096, bias=True)\n",
            "              )\n",
            "              (output): BertOutput(\n",
            "                (dense): Linear(in_features=4096, out_features=1024, bias=True)\n",
            "                (LayerNorm): LayerNorm((1024,), eps=1e-12, elementwise_affine=True)\n",
            "                (dropout): Dropout(p=0.1, inplace=False)\n",
            "              )\n",
            "            )\n",
            "            (20): BertLayer(\n",
            "              (attention): BertAttention(\n",
            "                (self): BertSelfAttention(\n",
            "                  (query): Linear(in_features=1024, out_features=1024, bias=True)\n",
            "                  (key): Linear(in_features=1024, out_features=1024, bias=True)\n",
            "                  (value): Linear(in_features=1024, out_features=1024, bias=True)\n",
            "                  (dropout): Dropout(p=0.1, inplace=False)\n",
            "                )\n",
            "                (output): BertSelfOutput(\n",
            "                  (dense): Linear(in_features=1024, out_features=1024, bias=True)\n",
            "                  (LayerNorm): LayerNorm((1024,), eps=1e-12, elementwise_affine=True)\n",
            "                  (dropout): Dropout(p=0.1, inplace=False)\n",
            "                )\n",
            "              )\n",
            "              (intermediate): BertIntermediate(\n",
            "                (dense): Linear(in_features=1024, out_features=4096, bias=True)\n",
            "              )\n",
            "              (output): BertOutput(\n",
            "                (dense): Linear(in_features=4096, out_features=1024, bias=True)\n",
            "                (LayerNorm): LayerNorm((1024,), eps=1e-12, elementwise_affine=True)\n",
            "                (dropout): Dropout(p=0.1, inplace=False)\n",
            "              )\n",
            "            )\n",
            "            (21): BertLayer(\n",
            "              (attention): BertAttention(\n",
            "                (self): BertSelfAttention(\n",
            "                  (query): Linear(in_features=1024, out_features=1024, bias=True)\n",
            "                  (key): Linear(in_features=1024, out_features=1024, bias=True)\n",
            "                  (value): Linear(in_features=1024, out_features=1024, bias=True)\n",
            "                  (dropout): Dropout(p=0.1, inplace=False)\n",
            "                )\n",
            "                (output): BertSelfOutput(\n",
            "                  (dense): Linear(in_features=1024, out_features=1024, bias=True)\n",
            "                  (LayerNorm): LayerNorm((1024,), eps=1e-12, elementwise_affine=True)\n",
            "                  (dropout): Dropout(p=0.1, inplace=False)\n",
            "                )\n",
            "              )\n",
            "              (intermediate): BertIntermediate(\n",
            "                (dense): Linear(in_features=1024, out_features=4096, bias=True)\n",
            "              )\n",
            "              (output): BertOutput(\n",
            "                (dense): Linear(in_features=4096, out_features=1024, bias=True)\n",
            "                (LayerNorm): LayerNorm((1024,), eps=1e-12, elementwise_affine=True)\n",
            "                (dropout): Dropout(p=0.1, inplace=False)\n",
            "              )\n",
            "            )\n",
            "            (22): BertLayer(\n",
            "              (attention): BertAttention(\n",
            "                (self): BertSelfAttention(\n",
            "                  (query): Linear(in_features=1024, out_features=1024, bias=True)\n",
            "                  (key): Linear(in_features=1024, out_features=1024, bias=True)\n",
            "                  (value): Linear(in_features=1024, out_features=1024, bias=True)\n",
            "                  (dropout): Dropout(p=0.1, inplace=False)\n",
            "                )\n",
            "                (output): BertSelfOutput(\n",
            "                  (dense): Linear(in_features=1024, out_features=1024, bias=True)\n",
            "                  (LayerNorm): LayerNorm((1024,), eps=1e-12, elementwise_affine=True)\n",
            "                  (dropout): Dropout(p=0.1, inplace=False)\n",
            "                )\n",
            "              )\n",
            "              (intermediate): BertIntermediate(\n",
            "                (dense): Linear(in_features=1024, out_features=4096, bias=True)\n",
            "              )\n",
            "              (output): BertOutput(\n",
            "                (dense): Linear(in_features=4096, out_features=1024, bias=True)\n",
            "                (LayerNorm): LayerNorm((1024,), eps=1e-12, elementwise_affine=True)\n",
            "                (dropout): Dropout(p=0.1, inplace=False)\n",
            "              )\n",
            "            )\n",
            "            (23): BertLayer(\n",
            "              (attention): BertAttention(\n",
            "                (self): BertSelfAttention(\n",
            "                  (query): Linear(in_features=1024, out_features=1024, bias=True)\n",
            "                  (key): Linear(in_features=1024, out_features=1024, bias=True)\n",
            "                  (value): Linear(in_features=1024, out_features=1024, bias=True)\n",
            "                  (dropout): Dropout(p=0.1, inplace=False)\n",
            "                )\n",
            "                (output): BertSelfOutput(\n",
            "                  (dense): Linear(in_features=1024, out_features=1024, bias=True)\n",
            "                  (LayerNorm): LayerNorm((1024,), eps=1e-12, elementwise_affine=True)\n",
            "                  (dropout): Dropout(p=0.1, inplace=False)\n",
            "                )\n",
            "              )\n",
            "              (intermediate): BertIntermediate(\n",
            "                (dense): Linear(in_features=1024, out_features=4096, bias=True)\n",
            "              )\n",
            "              (output): BertOutput(\n",
            "                (dense): Linear(in_features=4096, out_features=1024, bias=True)\n",
            "                (LayerNorm): LayerNorm((1024,), eps=1e-12, elementwise_affine=True)\n",
            "                (dropout): Dropout(p=0.1, inplace=False)\n",
            "              )\n",
            "            )\n",
            "          )\n",
            "        )\n",
            "        (pooler): BertPooler(\n",
            "          (dense): Linear(in_features=1024, out_features=1024, bias=True)\n",
            "          (activation): Tanh()\n",
            "        )\n",
            "      )\n",
            "      (dropout): Dropout(p=0.3, inplace=False)\n",
            "    )\n",
            "    (pos_embeddings): POSEmbeddings(\n",
            "      (embeddings): Embedding(44, 32, padding_idx=0)\n",
            "      (dropout): Dropout(p=0.3, inplace=False)\n",
            "    )\n",
            "    (dropout): Dropout(p=0.3, inplace=False)\n",
            "  )\n",
            "  (decoder): Decoder(\n",
            "    (dec_att): Attention(\n",
            "      (linear_ctx): Linear(in_features=1056, out_features=1056, bias=False)\n",
            "      (linear_query): Linear(in_features=1056, out_features=1056, bias=True)\n",
            "      (v): Linear(in_features=1056, out_features=1, bias=True)\n",
            "    )\n",
            "    (span_att): Attention(\n",
            "      (linear_ctx): Linear(in_features=1056, out_features=1056, bias=False)\n",
            "      (linear_query): Linear(in_features=4224, out_features=1056, bias=True)\n",
            "      (v): Linear(in_features=1056, out_features=1, bias=True)\n",
            "    )\n",
            "    (lstm): LSTMCell(6336, 1056)\n",
            "    (ap_first_pointer_lstm): LSTM(2112, 528, batch_first=True, bidirectional=True)\n",
            "    (op_second_pointer_lstm): LSTM(3168, 528, batch_first=True, bidirectional=True)\n",
            "    (ap_start_lin): Linear(in_features=1056, out_features=1, bias=True)\n",
            "    (ap_end_lin): Linear(in_features=1056, out_features=1, bias=True)\n",
            "    (op_start_lin): Linear(in_features=1056, out_features=1, bias=True)\n",
            "    (op_end_lin): Linear(in_features=1056, out_features=1, bias=True)\n",
            "    (dropout): Dropout(p=0.3, inplace=False)\n",
            "  )\n",
            "  (dropout): Dropout(p=0.3, inplace=False)\n",
            ")\n",
            "AdamW (\n",
            "Parameter Group 0\n",
            "    betas: (0.9, 0.999)\n",
            "    correct_bias: False\n",
            "    eps: 1e-06\n",
            "    lr: 1e-05\n",
            "    weight_decay: 1e-05\n",
            ")\n",
            "Epoch:  1\n",
            "  8% 85/1010 [00:36<06:21,  2.42it/s]"
          ]
        }
      ]
    },
    {
      "cell_type": "code",
      "source": [
        "!pwd"
      ],
      "metadata": {
        "colab": {
          "base_uri": "https://localhost:8080/"
        },
        "id": "yZdVnIIusk7s",
        "outputId": "12ab073b-6f67-49a7-8a22-21ae0983164f"
      },
      "execution_count": 122,
      "outputs": [
        {
          "output_type": "stream",
          "name": "stdout",
          "text": [
            "/content/CEPN\n"
          ]
        }
      ]
    },
    {
      "cell_type": "code",
      "source": [
        "!ls FinCausal2022TillDate/data/"
      ],
      "metadata": {
        "colab": {
          "base_uri": "https://localhost:8080/"
        },
        "id": "xBjiB81Dsln4",
        "outputId": "b2ed05ce-a058-426e-c331-7ed0b966c080"
      },
      "execution_count": 123,
      "outputs": [
        {
          "output_type": "stream",
          "name": "stdout",
          "text": [
            "train_out_bert_large_file_json_till2022.json\n"
          ]
        }
      ]
    },
    {
      "cell_type": "code",
      "source": [
        ""
      ],
      "metadata": {
        "id": "weJdXP3Zsp9g"
      },
      "execution_count": null,
      "outputs": []
    }
  ]
}